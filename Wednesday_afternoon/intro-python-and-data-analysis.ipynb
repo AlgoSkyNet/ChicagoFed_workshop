{
 "cells": [
  {
   "cell_type": "code",
   "execution_count": 1,
   "metadata": {
    "collapsed": true
   },
   "outputs": [],
   "source": [
    "%matplotlib inline\n",
    "from IPython.display import Image\n",
    "import pandas as pd\n",
    "import numpy as np"
   ]
  },
  {
   "cell_type": "markdown",
   "metadata": {},
   "source": [
    "# Python for Data Analysis\n",
    "\n",
    "**Written for the Chicago Fed Workshop, May 2016¶**\n",
    "\n",
    "**Author:** Matthew McKay\n",
    "\n",
    "One of the biggest selling points of **Python** is how easy it is to work with data. \n",
    "\n",
    "The **Python** ecosystem includes many useful packages to quickly work with data in a very agile way. \n",
    "\n",
    "**References:**\n",
    "1. http://pandas.pydata.org/pandas-docs/stable/dsintro.html\n",
    "1. http://quant-econ.net/py/pandas.html\n",
    "1. http://pandas.pydata.org/pandas-docs/stable/10min.html\n",
    "1. http://pandas.pydata.org/pandas-docs/stable/tutorials.html\n",
    "\n",
    "**For Interested Participants** \n",
    "\n",
    "An excellent resource is the book *\"Python for Data Analysis\"*, by Wes McKinney\n",
    "\n",
    "## Table of Contents:\n",
    "\n",
    "1. The `pd.Series` and `pd.DataFrame` objects\n",
    "   \n",
    "    1. Basic idea\n",
    "    1. Associated Methods\n",
    "    \n",
    "1. Working with Special Types of Data\n",
    "\n",
    "    1. Timeseries\n",
    "    1. Medium Sized Data\n",
    "    \n",
    "1. Resources"
   ]
  },
  {
   "cell_type": "markdown",
   "metadata": {},
   "source": [
    "======================================================================================================================"
   ]
  },
  {
   "cell_type": "markdown",
   "metadata": {},
   "source": [
    "## Series and DataFrame Objects\n",
    "\n",
    "Many of the following examples are taken from the excellent Pandas Documentation: http://pandas.pydata.org/pandas-docs/stable/dsintro.html\n",
    "\n",
    "The two **primary** data objects in Pandas are:\n",
    "\n",
    "1. Series\n",
    "2. DataFrames\n",
    "\n",
    "DataFrames can be thought of as a collection of Series. Selecting a column in a DataFrame will return a Series Object.\n",
    "\n",
    "The **key** thing to keep in mind:\n",
    "\n",
    "> data alignment is intrinsic. The link between labels and data will not be broken unless done so explicitly by you."
   ]
  },
  {
   "cell_type": "markdown",
   "metadata": {},
   "source": [
    "----------------------------___"
   ]
  },
  {
   "cell_type": "markdown",
   "metadata": {},
   "source": [
    "### Series\n",
    "\n",
    "**Series** is a one-dimensional labeled array capable of holding any data type (integers, strings, floating point numbers, Python objects, etc.). The axis labels are collectively referred to as the index which can include Index or MultiIndex objects\n",
    "\n",
    "```\n",
    "s = pd.Series(data, index=index)\n",
    "```\n",
    "\n",
    "data can take many different forms (i.e. dict, ndarray, lists, scalar etc). "
   ]
  },
  {
   "cell_type": "markdown",
   "metadata": {},
   "source": [
    "#### From Numpy Arrays"
   ]
  },
  {
   "cell_type": "code",
   "execution_count": 2,
   "metadata": {
    "collapsed": false
   },
   "outputs": [],
   "source": [
    "s = pd.Series(np.random.randn(5), index=['a', 'b', 'c', 'd', 'e'])"
   ]
  },
  {
   "cell_type": "code",
   "execution_count": 3,
   "metadata": {
    "collapsed": false
   },
   "outputs": [
    {
     "data": {
      "text/plain": [
       "pandas.core.series.Series"
      ]
     },
     "execution_count": 3,
     "metadata": {},
     "output_type": "execute_result"
    }
   ],
   "source": [
    "type(s)"
   ]
  },
  {
   "cell_type": "code",
   "execution_count": 4,
   "metadata": {
    "collapsed": false
   },
   "outputs": [
    {
     "data": {
      "text/plain": [
       "a    0.606581\n",
       "b   -1.001806\n",
       "c   -0.982115\n",
       "d   -1.359048\n",
       "e   -0.969593\n",
       "dtype: float64"
      ]
     },
     "execution_count": 4,
     "metadata": {},
     "output_type": "execute_result"
    }
   ],
   "source": [
    "s"
   ]
  },
  {
   "cell_type": "code",
   "execution_count": 5,
   "metadata": {
    "collapsed": false
   },
   "outputs": [
    {
     "data": {
      "text/plain": [
       "Index(['a', 'b', 'c', 'd', 'e'], dtype='object')"
      ]
     },
     "execution_count": 5,
     "metadata": {},
     "output_type": "execute_result"
    }
   ],
   "source": [
    "s.index"
   ]
  },
  {
   "cell_type": "code",
   "execution_count": 6,
   "metadata": {
    "collapsed": true
   },
   "outputs": [],
   "source": [
    "#-No Index Specified then will default to a numeric index-#\n",
    "s = pd.Series(np.random.randn(5))"
   ]
  },
  {
   "cell_type": "code",
   "execution_count": 7,
   "metadata": {
    "collapsed": false
   },
   "outputs": [
    {
     "data": {
      "text/plain": [
       "0    0.928374\n",
       "1   -0.477474\n",
       "2    0.490756\n",
       "3   -0.046329\n",
       "4   -0.227820\n",
       "dtype: float64"
      ]
     },
     "execution_count": 7,
     "metadata": {},
     "output_type": "execute_result"
    }
   ],
   "source": [
    "s"
   ]
  },
  {
   "cell_type": "markdown",
   "metadata": {},
   "source": [
    "#### From Dictionaries"
   ]
  },
  {
   "cell_type": "code",
   "execution_count": 8,
   "metadata": {
    "collapsed": false
   },
   "outputs": [
    {
     "data": {
      "text/plain": [
       "a    0.0\n",
       "b    1.0\n",
       "c    2.0\n",
       "dtype: float64"
      ]
     },
     "execution_count": 8,
     "metadata": {},
     "output_type": "execute_result"
    }
   ],
   "source": [
    "d = {'a' : 0., 'b' : 1., 'c' : 2.}\n",
    "pd.Series(d)"
   ]
  },
  {
   "cell_type": "code",
   "execution_count": 9,
   "metadata": {
    "collapsed": false
   },
   "outputs": [
    {
     "data": {
      "text/plain": [
       "b    1.0\n",
       "c    2.0\n",
       "d    NaN\n",
       "a    0.0\n",
       "dtype: float64"
      ]
     },
     "execution_count": 9,
     "metadata": {},
     "output_type": "execute_result"
    }
   ],
   "source": [
    "#-Data Alignment is Intrinsic!-#\n",
    "pd.Series(d, index=['b', 'c', 'd', 'a'])"
   ]
  },
  {
   "cell_type": "markdown",
   "metadata": {},
   "source": [
    "#### Series Objects are Similar to Array Behaviour"
   ]
  },
  {
   "cell_type": "code",
   "execution_count": 10,
   "metadata": {
    "collapsed": false
   },
   "outputs": [],
   "source": [
    "s = pd.Series(np.random.randn(5), index=['a', 'b', 'c', 'd', 'e'])"
   ]
  },
  {
   "cell_type": "code",
   "execution_count": 11,
   "metadata": {
    "collapsed": false
   },
   "outputs": [
    {
     "data": {
      "text/plain": [
       "a   -2.650916\n",
       "b    0.761049\n",
       "c   -0.476162\n",
       "d   -0.261895\n",
       "e    0.631278\n",
       "dtype: float64"
      ]
     },
     "execution_count": 11,
     "metadata": {},
     "output_type": "execute_result"
    }
   ],
   "source": [
    "s"
   ]
  },
  {
   "cell_type": "code",
   "execution_count": 12,
   "metadata": {
    "collapsed": false
   },
   "outputs": [
    {
     "data": {
      "text/plain": [
       "-2.6509160572008716"
      ]
     },
     "execution_count": 12,
     "metadata": {},
     "output_type": "execute_result"
    }
   ],
   "source": [
    "s[0]"
   ]
  },
  {
   "cell_type": "code",
   "execution_count": 13,
   "metadata": {
    "collapsed": false
   },
   "outputs": [
    {
     "data": {
      "text/plain": [
       "b    0.761049\n",
       "c   -0.476162\n",
       "dtype: float64"
      ]
     },
     "execution_count": 13,
     "metadata": {},
     "output_type": "execute_result"
    }
   ],
   "source": [
    "s[1:3]"
   ]
  },
  {
   "cell_type": "code",
   "execution_count": 14,
   "metadata": {
    "collapsed": false
   },
   "outputs": [
    {
     "data": {
      "text/plain": [
       "b    0.761049\n",
       "e    0.631278\n",
       "dtype: float64"
      ]
     },
     "execution_count": 14,
     "metadata": {},
     "output_type": "execute_result"
    }
   ],
   "source": [
    "s[s > s.median()]"
   ]
  },
  {
   "cell_type": "code",
   "execution_count": 15,
   "metadata": {
    "collapsed": false
   },
   "outputs": [
    {
     "data": {
      "text/plain": [
       "d   -0.261895\n",
       "c   -0.476162\n",
       "b    0.761049\n",
       "dtype: float64"
      ]
     },
     "execution_count": 15,
     "metadata": {},
     "output_type": "execute_result"
    }
   ],
   "source": [
    "s[[3,2,1]]"
   ]
  },
  {
   "cell_type": "markdown",
   "metadata": {},
   "source": [
    "**Typically** pd.Series objects are very flexible"
   ]
  },
  {
   "cell_type": "code",
   "execution_count": 16,
   "metadata": {
    "collapsed": false
   },
   "outputs": [
    {
     "data": {
      "text/plain": [
       "-1.996645688063219"
      ]
     },
     "execution_count": 16,
     "metadata": {},
     "output_type": "execute_result"
    }
   ],
   "source": [
    "np.sum(s)"
   ]
  },
  {
   "cell_type": "code",
   "execution_count": 17,
   "metadata": {
    "collapsed": false
   },
   "outputs": [
    {
     "data": {
      "text/plain": [
       "-1.996645688063219"
      ]
     },
     "execution_count": 17,
     "metadata": {},
     "output_type": "execute_result"
    }
   ],
   "source": [
    "s.sum()"
   ]
  },
  {
   "cell_type": "markdown",
   "metadata": {},
   "source": [
    "#### Indexing via the index can be done through the `ix` operator (or `loc` and `iloc` operator) (more important for DataFrames)"
   ]
  },
  {
   "cell_type": "code",
   "execution_count": 18,
   "metadata": {
    "collapsed": false
   },
   "outputs": [
    {
     "data": {
      "text/plain": [
       "d   -0.261895\n",
       "e    0.631278\n",
       "dtype: float64"
      ]
     },
     "execution_count": 18,
     "metadata": {},
     "output_type": "execute_result"
    }
   ],
   "source": [
    "s.ix[['d','e']]"
   ]
  },
  {
   "cell_type": "markdown",
   "metadata": {},
   "source": [
    "**but** becuase they are Series Objects we can also use them like dictionaries to get access to the data. **Don't** confuse this with DataFrame Objects where this syntax works on column labels"
   ]
  },
  {
   "cell_type": "code",
   "execution_count": 19,
   "metadata": {
    "collapsed": false
   },
   "outputs": [
    {
     "data": {
      "text/plain": [
       "d   -0.261895\n",
       "e    0.631278\n",
       "dtype: float64"
      ]
     },
     "execution_count": 19,
     "metadata": {},
     "output_type": "execute_result"
    }
   ],
   "source": [
    "s[['d','e']]"
   ]
  },
  {
   "cell_type": "markdown",
   "metadata": {},
   "source": [
    "#### Operations on Series Objects"
   ]
  },
  {
   "cell_type": "code",
   "execution_count": 20,
   "metadata": {
    "collapsed": false
   },
   "outputs": [
    {
     "data": {
      "text/plain": [
       "a   -5.301832\n",
       "b    1.522099\n",
       "c   -0.952324\n",
       "d   -0.523789\n",
       "e    1.262555\n",
       "dtype: float64"
      ]
     },
     "execution_count": 20,
     "metadata": {},
     "output_type": "execute_result"
    }
   ],
   "source": [
    "s + s"
   ]
  },
  {
   "cell_type": "code",
   "execution_count": 21,
   "metadata": {
    "collapsed": false
   },
   "outputs": [
    {
     "data": {
      "text/plain": [
       "a   -5.301832\n",
       "b    1.522099\n",
       "c   -0.952324\n",
       "d   -0.523789\n",
       "e    1.262555\n",
       "dtype: float64"
      ]
     },
     "execution_count": 21,
     "metadata": {},
     "output_type": "execute_result"
    }
   ],
   "source": [
    "s * 2"
   ]
  },
  {
   "cell_type": "code",
   "execution_count": 22,
   "metadata": {
    "collapsed": false
   },
   "outputs": [
    {
     "data": {
      "text/plain": [
       "a         NaN\n",
       "b    0.872381\n",
       "c         NaN\n",
       "d         NaN\n",
       "e    0.794530\n",
       "dtype: float64"
      ]
     },
     "execution_count": 22,
     "metadata": {},
     "output_type": "execute_result"
    }
   ],
   "source": [
    "np.sqrt(s)"
   ]
  },
  {
   "cell_type": "markdown",
   "metadata": {},
   "source": [
    "A **key** difference between Series and ndarray is that operations between Series automatically align the data based on label. Thus, you can write computations without giving consideration to whether the Series involved have the same labels."
   ]
  },
  {
   "cell_type": "code",
   "execution_count": 23,
   "metadata": {
    "collapsed": false
   },
   "outputs": [
    {
     "data": {
      "text/plain": [
       "c   -0.476162\n",
       "d   -0.261895\n",
       "e    0.631278\n",
       "dtype: float64"
      ]
     },
     "execution_count": 23,
     "metadata": {},
     "output_type": "execute_result"
    }
   ],
   "source": [
    "s[2:]                  #No A,B"
   ]
  },
  {
   "cell_type": "code",
   "execution_count": 24,
   "metadata": {
    "collapsed": false
   },
   "outputs": [
    {
     "data": {
      "text/plain": [
       "a   -2.650916\n",
       "b    0.761049\n",
       "c   -0.476162\n",
       "dtype: float64"
      ]
     },
     "execution_count": 24,
     "metadata": {},
     "output_type": "execute_result"
    }
   ],
   "source": [
    "s[:-2]                  #No D,E"
   ]
  },
  {
   "cell_type": "code",
   "execution_count": 25,
   "metadata": {
    "collapsed": false
   },
   "outputs": [
    {
     "data": {
      "text/plain": [
       "a         NaN\n",
       "b         NaN\n",
       "c   -0.952324\n",
       "d         NaN\n",
       "e         NaN\n",
       "dtype: float64"
      ]
     },
     "execution_count": 25,
     "metadata": {},
     "output_type": "execute_result"
    }
   ],
   "source": [
    "s[2:] + s[:-2]         #Intrinsic Alignment, Union of Index Values"
   ]
  },
  {
   "cell_type": "markdown",
   "metadata": {},
   "source": [
    "#### Useful Built In Methods"
   ]
  },
  {
   "cell_type": "code",
   "execution_count": 26,
   "metadata": {
    "collapsed": false
   },
   "outputs": [
    {
     "data": {
      "text/plain": [
       "count    5.000000\n",
       "mean    -0.399329\n",
       "std      1.369586\n",
       "min     -2.650916\n",
       "25%     -0.476162\n",
       "50%     -0.261895\n",
       "75%      0.631278\n",
       "max      0.761049\n",
       "dtype: float64"
      ]
     },
     "execution_count": 26,
     "metadata": {},
     "output_type": "execute_result"
    }
   ],
   "source": [
    "s.describe()"
   ]
  },
  {
   "cell_type": "markdown",
   "metadata": {},
   "source": [
    "-----------------------------------------------------------------------"
   ]
  },
  {
   "cell_type": "markdown",
   "metadata": {},
   "source": [
    "### DataFrame\n",
    "\n",
    "Reference: http://pandas.pydata.org/pandas-docs/stable/dsintro.html#DataFrame\n",
    "\n",
    "**DataFrame** is a 2-dimensional labeled data structure with columns of potentially different types. You can think of it like a spreadsheet or SQL table, or a dict of Series objects. **It is generally the most commonly used pandas object**. Like Series, DataFrame accepts many different kinds of input:\n",
    "\n",
    "1. Dict of 1D ndarrays, lists, dicts, or Series\n",
    "1. 2-D numpy.ndarray\n",
    "1. Structured or record ndarray\n",
    "1. A Series\n",
    "1. Another DataFrame\n",
    "\n",
    "Along with the data, you can optionally pass index (row labels) and columns (column labels) arguments.\n",
    "\n",
    "**Note:** DataFrames have become a standard in the Python ecosystem and can be used with a lot of packages such as **statsmodels**, **scikit-learn** ..."
   ]
  },
  {
   "cell_type": "code",
   "execution_count": 27,
   "metadata": {
    "collapsed": false
   },
   "outputs": [
    {
     "data": {
      "image/jpeg": "[encoded data removed]",
      "text/plain": [
       "<IPython.core.display.Image object>"
      ]
     },
     "execution_count": 27,
     "metadata": {},
     "output_type": "execute_result"
    }
   ],
   "source": [
    "Image(filename='dataframe.jpg')          #TODO: Replace with Own Diagram"
   ]
  },
  {
   "cell_type": "code",
   "execution_count": 28,
   "metadata": {
    "collapsed": true
   },
   "outputs": [],
   "source": [
    "d = {'one' : pd.Series([1., 2., 3.], index=['a', 'b', 'c']),\n",
    "     'two' : pd.Series([1., 2., 3., 4.], index=['a', 'b', 'c', 'd'])}\n",
    "df = pd.DataFrame(d)"
   ]
  },
  {
   "cell_type": "code",
   "execution_count": 29,
   "metadata": {
    "collapsed": false
   },
   "outputs": [
    {
     "data": {
      "text/html": [
       "<div>\n",
       "<table border=\"1\" class=\"dataframe\">\n",
       "  <thead>\n",
       "    <tr style=\"text-align: right;\">\n",
       "      <th></th>\n",
       "      <th>one</th>\n",
       "      <th>two</th>\n",
       "    </tr>\n",
       "  </thead>\n",
       "  <tbody>\n",
       "    <tr>\n",
       "      <th>a</th>\n",
       "      <td>1.0</td>\n",
       "      <td>1.0</td>\n",
       "    </tr>\n",
       "    <tr>\n",
       "      <th>b</th>\n",
       "      <td>2.0</td>\n",
       "      <td>2.0</td>\n",
       "    </tr>\n",
       "    <tr>\n",
       "      <th>c</th>\n",
       "      <td>3.0</td>\n",
       "      <td>3.0</td>\n",
       "    </tr>\n",
       "    <tr>\n",
       "      <th>d</th>\n",
       "      <td>NaN</td>\n",
       "      <td>4.0</td>\n",
       "    </tr>\n",
       "  </tbody>\n",
       "</table>\n",
       "</div>"
      ],
      "text/plain": [
       "   one  two\n",
       "a  1.0  1.0\n",
       "b  2.0  2.0\n",
       "c  3.0  3.0\n",
       "d  NaN  4.0"
      ]
     },
     "execution_count": 29,
     "metadata": {},
     "output_type": "execute_result"
    }
   ],
   "source": [
    "df          #-Automatic Alignment of Series based on Index-#"
   ]
  },
  {
   "cell_type": "code",
   "execution_count": 30,
   "metadata": {
    "collapsed": false
   },
   "outputs": [
    {
     "data": {
      "text/plain": [
       "Index(['a', 'b', 'c', 'd'], dtype='object')"
      ]
     },
     "execution_count": 30,
     "metadata": {},
     "output_type": "execute_result"
    }
   ],
   "source": [
    "df.index"
   ]
  },
  {
   "cell_type": "code",
   "execution_count": 31,
   "metadata": {
    "collapsed": false
   },
   "outputs": [
    {
     "data": {
      "text/plain": [
       "Index(['one', 'two'], dtype='object')"
      ]
     },
     "execution_count": 31,
     "metadata": {},
     "output_type": "execute_result"
    }
   ],
   "source": [
    "df.columns"
   ]
  },
  {
   "cell_type": "markdown",
   "metadata": {},
   "source": [
    "#### Accessing Columns"
   ]
  },
  {
   "cell_type": "code",
   "execution_count": 32,
   "metadata": {
    "collapsed": false
   },
   "outputs": [
    {
     "data": {
      "text/plain": [
       "a    1.0\n",
       "b    2.0\n",
       "c    3.0\n",
       "d    NaN\n",
       "Name: one, dtype: float64"
      ]
     },
     "execution_count": 32,
     "metadata": {},
     "output_type": "execute_result"
    }
   ],
   "source": [
    "df['one']"
   ]
  },
  {
   "cell_type": "code",
   "execution_count": 33,
   "metadata": {
    "collapsed": false
   },
   "outputs": [
    {
     "data": {
      "text/plain": [
       "pandas.core.series.Series"
      ]
     },
     "execution_count": 33,
     "metadata": {},
     "output_type": "execute_result"
    }
   ],
   "source": [
    "type(df['one'])"
   ]
  },
  {
   "cell_type": "markdown",
   "metadata": {},
   "source": [
    "#### Accessing Rows"
   ]
  },
  {
   "cell_type": "code",
   "execution_count": 34,
   "metadata": {
    "collapsed": false
   },
   "outputs": [
    {
     "data": {
      "text/plain": [
       "one    2.0\n",
       "two    2.0\n",
       "Name: b, dtype: float64"
      ]
     },
     "execution_count": 34,
     "metadata": {},
     "output_type": "execute_result"
    }
   ],
   "source": [
    "df.ix['b']"
   ]
  },
  {
   "cell_type": "code",
   "execution_count": 35,
   "metadata": {
    "collapsed": false
   },
   "outputs": [
    {
     "data": {
      "text/plain": [
       "pandas.core.series.Series"
      ]
     },
     "execution_count": 35,
     "metadata": {},
     "output_type": "execute_result"
    }
   ],
   "source": [
    "type(df.ix['b'])"
   ]
  },
  {
   "cell_type": "markdown",
   "metadata": {},
   "source": [
    "#### Adding Columns"
   ]
  },
  {
   "cell_type": "code",
   "execution_count": 36,
   "metadata": {
    "collapsed": true
   },
   "outputs": [],
   "source": [
    "df['three'] = df['one'] + df['two']"
   ]
  },
  {
   "cell_type": "code",
   "execution_count": 37,
   "metadata": {
    "collapsed": false
   },
   "outputs": [
    {
     "data": {
      "text/html": [
       "<div>\n",
       "<table border=\"1\" class=\"dataframe\">\n",
       "  <thead>\n",
       "    <tr style=\"text-align: right;\">\n",
       "      <th></th>\n",
       "      <th>one</th>\n",
       "      <th>two</th>\n",
       "      <th>three</th>\n",
       "    </tr>\n",
       "  </thead>\n",
       "  <tbody>\n",
       "    <tr>\n",
       "      <th>a</th>\n",
       "      <td>1.0</td>\n",
       "      <td>1.0</td>\n",
       "      <td>2.0</td>\n",
       "    </tr>\n",
       "    <tr>\n",
       "      <th>b</th>\n",
       "      <td>2.0</td>\n",
       "      <td>2.0</td>\n",
       "      <td>4.0</td>\n",
       "    </tr>\n",
       "    <tr>\n",
       "      <th>c</th>\n",
       "      <td>3.0</td>\n",
       "      <td>3.0</td>\n",
       "      <td>6.0</td>\n",
       "    </tr>\n",
       "    <tr>\n",
       "      <th>d</th>\n",
       "      <td>NaN</td>\n",
       "      <td>4.0</td>\n",
       "      <td>NaN</td>\n",
       "    </tr>\n",
       "  </tbody>\n",
       "</table>\n",
       "</div>"
      ],
      "text/plain": [
       "   one  two  three\n",
       "a  1.0  1.0    2.0\n",
       "b  2.0  2.0    4.0\n",
       "c  3.0  3.0    6.0\n",
       "d  NaN  4.0    NaN"
      ]
     },
     "execution_count": 37,
     "metadata": {},
     "output_type": "execute_result"
    }
   ],
   "source": [
    "df"
   ]
  },
  {
   "cell_type": "markdown",
   "metadata": {},
   "source": [
    "#### Selecting Multiple Columns"
   ]
  },
  {
   "cell_type": "code",
   "execution_count": 38,
   "metadata": {
    "collapsed": false
   },
   "outputs": [
    {
     "data": {
      "text/html": [
       "<div>\n",
       "<table border=\"1\" class=\"dataframe\">\n",
       "  <thead>\n",
       "    <tr style=\"text-align: right;\">\n",
       "      <th></th>\n",
       "      <th>one</th>\n",
       "      <th>three</th>\n",
       "    </tr>\n",
       "  </thead>\n",
       "  <tbody>\n",
       "    <tr>\n",
       "      <th>a</th>\n",
       "      <td>1.0</td>\n",
       "      <td>2.0</td>\n",
       "    </tr>\n",
       "    <tr>\n",
       "      <th>b</th>\n",
       "      <td>2.0</td>\n",
       "      <td>4.0</td>\n",
       "    </tr>\n",
       "    <tr>\n",
       "      <th>c</th>\n",
       "      <td>3.0</td>\n",
       "      <td>6.0</td>\n",
       "    </tr>\n",
       "    <tr>\n",
       "      <th>d</th>\n",
       "      <td>NaN</td>\n",
       "      <td>NaN</td>\n",
       "    </tr>\n",
       "  </tbody>\n",
       "</table>\n",
       "</div>"
      ],
      "text/plain": [
       "   one  three\n",
       "a  1.0    2.0\n",
       "b  2.0    4.0\n",
       "c  3.0    6.0\n",
       "d  NaN    NaN"
      ]
     },
     "execution_count": 38,
     "metadata": {},
     "output_type": "execute_result"
    }
   ],
   "source": [
    "df[['one','three']]"
   ]
  },
  {
   "cell_type": "markdown",
   "metadata": {},
   "source": [
    "#### Selecting Multiple Rows"
   ]
  },
  {
   "cell_type": "code",
   "execution_count": 39,
   "metadata": {
    "collapsed": false
   },
   "outputs": [
    {
     "data": {
      "text/html": [
       "<div>\n",
       "<table border=\"1\" class=\"dataframe\">\n",
       "  <thead>\n",
       "    <tr style=\"text-align: right;\">\n",
       "      <th></th>\n",
       "      <th>one</th>\n",
       "      <th>two</th>\n",
       "      <th>three</th>\n",
       "    </tr>\n",
       "  </thead>\n",
       "  <tbody>\n",
       "    <tr>\n",
       "      <th>b</th>\n",
       "      <td>2.0</td>\n",
       "      <td>2.0</td>\n",
       "      <td>4.0</td>\n",
       "    </tr>\n",
       "    <tr>\n",
       "      <th>c</th>\n",
       "      <td>3.0</td>\n",
       "      <td>3.0</td>\n",
       "      <td>6.0</td>\n",
       "    </tr>\n",
       "  </tbody>\n",
       "</table>\n",
       "</div>"
      ],
      "text/plain": [
       "   one  two  three\n",
       "b  2.0  2.0    4.0\n",
       "c  3.0  3.0    6.0"
      ]
     },
     "execution_count": 39,
     "metadata": {},
     "output_type": "execute_result"
    }
   ],
   "source": [
    "df.ix[['b','c']]"
   ]
  },
  {
   "cell_type": "code",
   "execution_count": 40,
   "metadata": {
    "collapsed": false
   },
   "outputs": [
    {
     "data": {
      "text/html": [
       "<div>\n",
       "<table border=\"1\" class=\"dataframe\">\n",
       "  <thead>\n",
       "    <tr style=\"text-align: right;\">\n",
       "      <th></th>\n",
       "      <th>one</th>\n",
       "      <th>two</th>\n",
       "      <th>three</th>\n",
       "    </tr>\n",
       "  </thead>\n",
       "  <tbody>\n",
       "    <tr>\n",
       "      <th>b</th>\n",
       "      <td>2.0</td>\n",
       "      <td>2.0</td>\n",
       "      <td>4.0</td>\n",
       "    </tr>\n",
       "    <tr>\n",
       "      <th>c</th>\n",
       "      <td>3.0</td>\n",
       "      <td>3.0</td>\n",
       "      <td>6.0</td>\n",
       "    </tr>\n",
       "  </tbody>\n",
       "</table>\n",
       "</div>"
      ],
      "text/plain": [
       "   one  two  three\n",
       "b  2.0  2.0    4.0\n",
       "c  3.0  3.0    6.0"
      ]
     },
     "execution_count": 40,
     "metadata": {},
     "output_type": "execute_result"
    }
   ],
   "source": [
    "df.loc[['b','c']]  #Just Label Based"
   ]
  },
  {
   "cell_type": "code",
   "execution_count": 41,
   "metadata": {
    "collapsed": false
   },
   "outputs": [
    {
     "data": {
      "text/html": [
       "<div>\n",
       "<table border=\"1\" class=\"dataframe\">\n",
       "  <thead>\n",
       "    <tr style=\"text-align: right;\">\n",
       "      <th></th>\n",
       "      <th>one</th>\n",
       "      <th>two</th>\n",
       "      <th>three</th>\n",
       "    </tr>\n",
       "  </thead>\n",
       "  <tbody>\n",
       "    <tr>\n",
       "      <th>b</th>\n",
       "      <td>2.0</td>\n",
       "      <td>2.0</td>\n",
       "      <td>4.0</td>\n",
       "    </tr>\n",
       "    <tr>\n",
       "      <th>c</th>\n",
       "      <td>3.0</td>\n",
       "      <td>3.0</td>\n",
       "      <td>6.0</td>\n",
       "    </tr>\n",
       "  </tbody>\n",
       "</table>\n",
       "</div>"
      ],
      "text/plain": [
       "   one  two  three\n",
       "b  2.0  2.0    4.0\n",
       "c  3.0  3.0    6.0"
      ]
     },
     "execution_count": 41,
     "metadata": {},
     "output_type": "execute_result"
    }
   ],
   "source": [
    "df.iloc[[1,2]]    #Just Integer Based"
   ]
  },
  {
   "cell_type": "markdown",
   "metadata": {},
   "source": [
    "#### Inserting Scalars"
   ]
  },
  {
   "cell_type": "code",
   "execution_count": 42,
   "metadata": {
    "collapsed": true
   },
   "outputs": [],
   "source": [
    "df['four'] = \"What\"   #Broadcasts and fills the Column"
   ]
  },
  {
   "cell_type": "code",
   "execution_count": 43,
   "metadata": {
    "collapsed": false
   },
   "outputs": [
    {
     "data": {
      "text/html": [
       "<div>\n",
       "<table border=\"1\" class=\"dataframe\">\n",
       "  <thead>\n",
       "    <tr style=\"text-align: right;\">\n",
       "      <th></th>\n",
       "      <th>one</th>\n",
       "      <th>two</th>\n",
       "      <th>three</th>\n",
       "      <th>four</th>\n",
       "    </tr>\n",
       "  </thead>\n",
       "  <tbody>\n",
       "    <tr>\n",
       "      <th>a</th>\n",
       "      <td>1.0</td>\n",
       "      <td>1.0</td>\n",
       "      <td>2.0</td>\n",
       "      <td>What</td>\n",
       "    </tr>\n",
       "    <tr>\n",
       "      <th>b</th>\n",
       "      <td>2.0</td>\n",
       "      <td>2.0</td>\n",
       "      <td>4.0</td>\n",
       "      <td>What</td>\n",
       "    </tr>\n",
       "    <tr>\n",
       "      <th>c</th>\n",
       "      <td>3.0</td>\n",
       "      <td>3.0</td>\n",
       "      <td>6.0</td>\n",
       "      <td>What</td>\n",
       "    </tr>\n",
       "    <tr>\n",
       "      <th>d</th>\n",
       "      <td>NaN</td>\n",
       "      <td>4.0</td>\n",
       "      <td>NaN</td>\n",
       "      <td>What</td>\n",
       "    </tr>\n",
       "  </tbody>\n",
       "</table>\n",
       "</div>"
      ],
      "text/plain": [
       "   one  two  three  four\n",
       "a  1.0  1.0    2.0  What\n",
       "b  2.0  2.0    4.0  What\n",
       "c  3.0  3.0    6.0  What\n",
       "d  NaN  4.0    NaN  What"
      ]
     },
     "execution_count": 43,
     "metadata": {},
     "output_type": "execute_result"
    }
   ],
   "source": [
    "df"
   ]
  },
  {
   "cell_type": "markdown",
   "metadata": {},
   "source": [
    "#### Deleting a Column"
   ]
  },
  {
   "cell_type": "code",
   "execution_count": 44,
   "metadata": {
    "collapsed": true
   },
   "outputs": [],
   "source": [
    "del df['four']"
   ]
  },
  {
   "cell_type": "code",
   "execution_count": 45,
   "metadata": {
    "collapsed": false
   },
   "outputs": [
    {
     "data": {
      "text/html": [
       "<div>\n",
       "<table border=\"1\" class=\"dataframe\">\n",
       "  <thead>\n",
       "    <tr style=\"text-align: right;\">\n",
       "      <th></th>\n",
       "      <th>one</th>\n",
       "      <th>two</th>\n",
       "      <th>three</th>\n",
       "    </tr>\n",
       "  </thead>\n",
       "  <tbody>\n",
       "    <tr>\n",
       "      <th>a</th>\n",
       "      <td>1.0</td>\n",
       "      <td>1.0</td>\n",
       "      <td>2.0</td>\n",
       "    </tr>\n",
       "    <tr>\n",
       "      <th>b</th>\n",
       "      <td>2.0</td>\n",
       "      <td>2.0</td>\n",
       "      <td>4.0</td>\n",
       "    </tr>\n",
       "    <tr>\n",
       "      <th>c</th>\n",
       "      <td>3.0</td>\n",
       "      <td>3.0</td>\n",
       "      <td>6.0</td>\n",
       "    </tr>\n",
       "    <tr>\n",
       "      <th>d</th>\n",
       "      <td>NaN</td>\n",
       "      <td>4.0</td>\n",
       "      <td>NaN</td>\n",
       "    </tr>\n",
       "  </tbody>\n",
       "</table>\n",
       "</div>"
      ],
      "text/plain": [
       "   one  two  three\n",
       "a  1.0  1.0    2.0\n",
       "b  2.0  2.0    4.0\n",
       "c  3.0  3.0    6.0\n",
       "d  NaN  4.0    NaN"
      ]
     },
     "execution_count": 45,
     "metadata": {},
     "output_type": "execute_result"
    }
   ],
   "source": [
    "df"
   ]
  },
  {
   "cell_type": "markdown",
   "metadata": {},
   "source": [
    "#### Transposing"
   ]
  },
  {
   "cell_type": "code",
   "execution_count": 46,
   "metadata": {
    "collapsed": false
   },
   "outputs": [
    {
     "data": {
      "text/html": [
       "<div>\n",
       "<table border=\"1\" class=\"dataframe\">\n",
       "  <thead>\n",
       "    <tr style=\"text-align: right;\">\n",
       "      <th></th>\n",
       "      <th>a</th>\n",
       "      <th>b</th>\n",
       "      <th>c</th>\n",
       "      <th>d</th>\n",
       "    </tr>\n",
       "  </thead>\n",
       "  <tbody>\n",
       "    <tr>\n",
       "      <th>one</th>\n",
       "      <td>1.0</td>\n",
       "      <td>2.0</td>\n",
       "      <td>3.0</td>\n",
       "      <td>NaN</td>\n",
       "    </tr>\n",
       "    <tr>\n",
       "      <th>two</th>\n",
       "      <td>1.0</td>\n",
       "      <td>2.0</td>\n",
       "      <td>3.0</td>\n",
       "      <td>4.0</td>\n",
       "    </tr>\n",
       "    <tr>\n",
       "      <th>three</th>\n",
       "      <td>2.0</td>\n",
       "      <td>4.0</td>\n",
       "      <td>6.0</td>\n",
       "      <td>NaN</td>\n",
       "    </tr>\n",
       "  </tbody>\n",
       "</table>\n",
       "</div>"
      ],
      "text/plain": [
       "         a    b    c    d\n",
       "one    1.0  2.0  3.0  NaN\n",
       "two    1.0  2.0  3.0  4.0\n",
       "three  2.0  4.0  6.0  NaN"
      ]
     },
     "execution_count": 46,
     "metadata": {},
     "output_type": "execute_result"
    }
   ],
   "source": [
    "df.T"
   ]
  },
  {
   "cell_type": "code",
   "execution_count": 47,
   "metadata": {
    "collapsed": false
   },
   "outputs": [
    {
     "data": {
      "text/html": [
       "<div>\n",
       "<table border=\"1\" class=\"dataframe\">\n",
       "  <thead>\n",
       "    <tr style=\"text-align: right;\">\n",
       "      <th></th>\n",
       "      <th>a</th>\n",
       "      <th>b</th>\n",
       "      <th>c</th>\n",
       "      <th>d</th>\n",
       "    </tr>\n",
       "  </thead>\n",
       "  <tbody>\n",
       "    <tr>\n",
       "      <th>one</th>\n",
       "      <td>1.0</td>\n",
       "      <td>2.0</td>\n",
       "      <td>3.0</td>\n",
       "      <td>NaN</td>\n",
       "    </tr>\n",
       "    <tr>\n",
       "      <th>two</th>\n",
       "      <td>1.0</td>\n",
       "      <td>2.0</td>\n",
       "      <td>3.0</td>\n",
       "      <td>4.0</td>\n",
       "    </tr>\n",
       "    <tr>\n",
       "      <th>three</th>\n",
       "      <td>2.0</td>\n",
       "      <td>4.0</td>\n",
       "      <td>6.0</td>\n",
       "      <td>NaN</td>\n",
       "    </tr>\n",
       "  </tbody>\n",
       "</table>\n",
       "</div>"
      ],
      "text/plain": [
       "         a    b    c    d\n",
       "one    1.0  2.0  3.0  NaN\n",
       "two    1.0  2.0  3.0  4.0\n",
       "three  2.0  4.0  6.0  NaN"
      ]
     },
     "execution_count": 47,
     "metadata": {},
     "output_type": "execute_result"
    }
   ],
   "source": [
    "df.transpose()"
   ]
  },
  {
   "cell_type": "code",
   "execution_count": 48,
   "metadata": {
    "collapsed": false
   },
   "outputs": [
    {
     "data": {
      "text/html": [
       "<div>\n",
       "<table border=\"1\" class=\"dataframe\">\n",
       "  <thead>\n",
       "    <tr style=\"text-align: right;\">\n",
       "      <th></th>\n",
       "      <th>one</th>\n",
       "      <th>two</th>\n",
       "      <th>three</th>\n",
       "    </tr>\n",
       "  </thead>\n",
       "  <tbody>\n",
       "    <tr>\n",
       "      <th>a</th>\n",
       "      <td>1.0</td>\n",
       "      <td>1.0</td>\n",
       "      <td>2.0</td>\n",
       "    </tr>\n",
       "    <tr>\n",
       "      <th>b</th>\n",
       "      <td>2.0</td>\n",
       "      <td>2.0</td>\n",
       "      <td>4.0</td>\n",
       "    </tr>\n",
       "    <tr>\n",
       "      <th>c</th>\n",
       "      <td>3.0</td>\n",
       "      <td>3.0</td>\n",
       "      <td>6.0</td>\n",
       "    </tr>\n",
       "    <tr>\n",
       "      <th>d</th>\n",
       "      <td>NaN</td>\n",
       "      <td>4.0</td>\n",
       "      <td>NaN</td>\n",
       "    </tr>\n",
       "  </tbody>\n",
       "</table>\n",
       "</div>"
      ],
      "text/plain": [
       "   one  two  three\n",
       "a  1.0  1.0    2.0\n",
       "b  2.0  2.0    4.0\n",
       "c  3.0  3.0    6.0\n",
       "d  NaN  4.0    NaN"
      ]
     },
     "execution_count": 48,
     "metadata": {},
     "output_type": "execute_result"
    }
   ],
   "source": [
    "df              #Note: The underlying object hasn't changed due to no assignment"
   ]
  },
  {
   "cell_type": "markdown",
   "metadata": {},
   "source": [
    "## Index Objects and Reshaping"
   ]
  },
  {
   "cell_type": "code",
   "execution_count": 49,
   "metadata": {
    "collapsed": true
   },
   "outputs": [],
   "source": [
    "df = pd.DataFrame({ 'A' : ['one', 'one', 'two', 'three'] * 3,\n",
    "                    'B' : ['A', 'B', 'C'] * 4,\n",
    "                    'C' : ['foo', 'foo', 'foo', 'bar', 'bar', 'bar'] * 2,\n",
    "                    'D' : np.random.randn(12),\n",
    "                    'E' : np.random.randn(12)})"
   ]
  },
  {
   "cell_type": "code",
   "execution_count": 50,
   "metadata": {
    "collapsed": false
   },
   "outputs": [
    {
     "data": {
      "text/html": [
       "<div>\n",
       "<table border=\"1\" class=\"dataframe\">\n",
       "  <thead>\n",
       "    <tr style=\"text-align: right;\">\n",
       "      <th></th>\n",
       "      <th>A</th>\n",
       "      <th>B</th>\n",
       "      <th>C</th>\n",
       "      <th>D</th>\n",
       "      <th>E</th>\n",
       "    </tr>\n",
       "  </thead>\n",
       "  <tbody>\n",
       "    <tr>\n",
       "      <th>0</th>\n",
       "      <td>one</td>\n",
       "      <td>A</td>\n",
       "      <td>foo</td>\n",
       "      <td>0.793686</td>\n",
       "      <td>0.076280</td>\n",
       "    </tr>\n",
       "    <tr>\n",
       "      <th>1</th>\n",
       "      <td>one</td>\n",
       "      <td>B</td>\n",
       "      <td>foo</td>\n",
       "      <td>-1.261065</td>\n",
       "      <td>1.068702</td>\n",
       "    </tr>\n",
       "    <tr>\n",
       "      <th>2</th>\n",
       "      <td>two</td>\n",
       "      <td>C</td>\n",
       "      <td>foo</td>\n",
       "      <td>-0.334907</td>\n",
       "      <td>-0.614074</td>\n",
       "    </tr>\n",
       "    <tr>\n",
       "      <th>3</th>\n",
       "      <td>three</td>\n",
       "      <td>A</td>\n",
       "      <td>bar</td>\n",
       "      <td>-0.094119</td>\n",
       "      <td>0.698093</td>\n",
       "    </tr>\n",
       "    <tr>\n",
       "      <th>4</th>\n",
       "      <td>one</td>\n",
       "      <td>B</td>\n",
       "      <td>bar</td>\n",
       "      <td>-2.240365</td>\n",
       "      <td>-1.743093</td>\n",
       "    </tr>\n",
       "    <tr>\n",
       "      <th>5</th>\n",
       "      <td>one</td>\n",
       "      <td>C</td>\n",
       "      <td>bar</td>\n",
       "      <td>2.663319</td>\n",
       "      <td>1.748698</td>\n",
       "    </tr>\n",
       "    <tr>\n",
       "      <th>6</th>\n",
       "      <td>two</td>\n",
       "      <td>A</td>\n",
       "      <td>foo</td>\n",
       "      <td>-0.671731</td>\n",
       "      <td>0.177549</td>\n",
       "    </tr>\n",
       "    <tr>\n",
       "      <th>7</th>\n",
       "      <td>three</td>\n",
       "      <td>B</td>\n",
       "      <td>foo</td>\n",
       "      <td>-0.928573</td>\n",
       "      <td>1.392988</td>\n",
       "    </tr>\n",
       "    <tr>\n",
       "      <th>8</th>\n",
       "      <td>one</td>\n",
       "      <td>C</td>\n",
       "      <td>foo</td>\n",
       "      <td>0.092530</td>\n",
       "      <td>-0.110878</td>\n",
       "    </tr>\n",
       "    <tr>\n",
       "      <th>9</th>\n",
       "      <td>one</td>\n",
       "      <td>A</td>\n",
       "      <td>bar</td>\n",
       "      <td>-0.037859</td>\n",
       "      <td>0.189394</td>\n",
       "    </tr>\n",
       "    <tr>\n",
       "      <th>10</th>\n",
       "      <td>two</td>\n",
       "      <td>B</td>\n",
       "      <td>bar</td>\n",
       "      <td>0.105538</td>\n",
       "      <td>-0.187594</td>\n",
       "    </tr>\n",
       "    <tr>\n",
       "      <th>11</th>\n",
       "      <td>three</td>\n",
       "      <td>C</td>\n",
       "      <td>bar</td>\n",
       "      <td>-0.068976</td>\n",
       "      <td>2.337373</td>\n",
       "    </tr>\n",
       "  </tbody>\n",
       "</table>\n",
       "</div>"
      ],
      "text/plain": [
       "        A  B    C         D         E\n",
       "0     one  A  foo  0.793686  0.076280\n",
       "1     one  B  foo -1.261065  1.068702\n",
       "2     two  C  foo -0.334907 -0.614074\n",
       "3   three  A  bar -0.094119  0.698093\n",
       "4     one  B  bar -2.240365 -1.743093\n",
       "5     one  C  bar  2.663319  1.748698\n",
       "6     two  A  foo -0.671731  0.177549\n",
       "7   three  B  foo -0.928573  1.392988\n",
       "8     one  C  foo  0.092530 -0.110878\n",
       "9     one  A  bar -0.037859  0.189394\n",
       "10    two  B  bar  0.105538 -0.187594\n",
       "11  three  C  bar -0.068976  2.337373"
      ]
     },
     "execution_count": 50,
     "metadata": {},
     "output_type": "execute_result"
    }
   ],
   "source": [
    "df"
   ]
  },
  {
   "cell_type": "code",
   "execution_count": 51,
   "metadata": {
    "collapsed": false
   },
   "outputs": [
    {
     "data": {
      "text/html": [
       "<div>\n",
       "<table border=\"1\" class=\"dataframe\">\n",
       "  <thead>\n",
       "    <tr style=\"text-align: right;\">\n",
       "      <th></th>\n",
       "      <th>C</th>\n",
       "      <th>bar</th>\n",
       "      <th>foo</th>\n",
       "    </tr>\n",
       "    <tr>\n",
       "      <th>A</th>\n",
       "      <th>B</th>\n",
       "      <th></th>\n",
       "      <th></th>\n",
       "    </tr>\n",
       "  </thead>\n",
       "  <tbody>\n",
       "    <tr>\n",
       "      <th rowspan=\"3\" valign=\"top\">one</th>\n",
       "      <th>A</th>\n",
       "      <td>-0.037859</td>\n",
       "      <td>0.793686</td>\n",
       "    </tr>\n",
       "    <tr>\n",
       "      <th>B</th>\n",
       "      <td>-2.240365</td>\n",
       "      <td>-1.261065</td>\n",
       "    </tr>\n",
       "    <tr>\n",
       "      <th>C</th>\n",
       "      <td>2.663319</td>\n",
       "      <td>0.092530</td>\n",
       "    </tr>\n",
       "    <tr>\n",
       "      <th rowspan=\"3\" valign=\"top\">three</th>\n",
       "      <th>A</th>\n",
       "      <td>-0.094119</td>\n",
       "      <td>NaN</td>\n",
       "    </tr>\n",
       "    <tr>\n",
       "      <th>B</th>\n",
       "      <td>NaN</td>\n",
       "      <td>-0.928573</td>\n",
       "    </tr>\n",
       "    <tr>\n",
       "      <th>C</th>\n",
       "      <td>-0.068976</td>\n",
       "      <td>NaN</td>\n",
       "    </tr>\n",
       "    <tr>\n",
       "      <th rowspan=\"3\" valign=\"top\">two</th>\n",
       "      <th>A</th>\n",
       "      <td>NaN</td>\n",
       "      <td>-0.671731</td>\n",
       "    </tr>\n",
       "    <tr>\n",
       "      <th>B</th>\n",
       "      <td>0.105538</td>\n",
       "      <td>NaN</td>\n",
       "    </tr>\n",
       "    <tr>\n",
       "      <th>C</th>\n",
       "      <td>NaN</td>\n",
       "      <td>-0.334907</td>\n",
       "    </tr>\n",
       "  </tbody>\n",
       "</table>\n",
       "</div>"
      ],
      "text/plain": [
       "C             bar       foo\n",
       "A     B                    \n",
       "one   A -0.037859  0.793686\n",
       "      B -2.240365 -1.261065\n",
       "      C  2.663319  0.092530\n",
       "three A -0.094119       NaN\n",
       "      B       NaN -0.928573\n",
       "      C -0.068976       NaN\n",
       "two   A       NaN -0.671731\n",
       "      B  0.105538       NaN\n",
       "      C       NaN -0.334907"
      ]
     },
     "execution_count": 51,
     "metadata": {},
     "output_type": "execute_result"
    }
   ],
   "source": [
    "pd.pivot_table(df, values='D', index=['A', 'B'], columns=['C'])"
   ]
  },
  {
   "cell_type": "markdown",
   "metadata": {},
   "source": [
    "**Using MultiIndex** to reorganize the information in a DataFrame"
   ]
  },
  {
   "cell_type": "code",
   "execution_count": 52,
   "metadata": {
    "collapsed": false
   },
   "outputs": [],
   "source": [
    "dfi = df.set_index(['A','B','C'])"
   ]
  },
  {
   "cell_type": "code",
   "execution_count": 53,
   "metadata": {
    "collapsed": false
   },
   "outputs": [
    {
     "data": {
      "text/html": [
       "<div>\n",
       "<table border=\"1\" class=\"dataframe\">\n",
       "  <thead>\n",
       "    <tr style=\"text-align: right;\">\n",
       "      <th></th>\n",
       "      <th></th>\n",
       "      <th></th>\n",
       "      <th>D</th>\n",
       "      <th>E</th>\n",
       "    </tr>\n",
       "    <tr>\n",
       "      <th>A</th>\n",
       "      <th>B</th>\n",
       "      <th>C</th>\n",
       "      <th></th>\n",
       "      <th></th>\n",
       "    </tr>\n",
       "  </thead>\n",
       "  <tbody>\n",
       "    <tr>\n",
       "      <th rowspan=\"2\" valign=\"top\">one</th>\n",
       "      <th>A</th>\n",
       "      <th>foo</th>\n",
       "      <td>0.793686</td>\n",
       "      <td>0.076280</td>\n",
       "    </tr>\n",
       "    <tr>\n",
       "      <th>B</th>\n",
       "      <th>foo</th>\n",
       "      <td>-1.261065</td>\n",
       "      <td>1.068702</td>\n",
       "    </tr>\n",
       "    <tr>\n",
       "      <th>two</th>\n",
       "      <th>C</th>\n",
       "      <th>foo</th>\n",
       "      <td>-0.334907</td>\n",
       "      <td>-0.614074</td>\n",
       "    </tr>\n",
       "    <tr>\n",
       "      <th>three</th>\n",
       "      <th>A</th>\n",
       "      <th>bar</th>\n",
       "      <td>-0.094119</td>\n",
       "      <td>0.698093</td>\n",
       "    </tr>\n",
       "    <tr>\n",
       "      <th rowspan=\"2\" valign=\"top\">one</th>\n",
       "      <th>B</th>\n",
       "      <th>bar</th>\n",
       "      <td>-2.240365</td>\n",
       "      <td>-1.743093</td>\n",
       "    </tr>\n",
       "    <tr>\n",
       "      <th>C</th>\n",
       "      <th>bar</th>\n",
       "      <td>2.663319</td>\n",
       "      <td>1.748698</td>\n",
       "    </tr>\n",
       "    <tr>\n",
       "      <th>two</th>\n",
       "      <th>A</th>\n",
       "      <th>foo</th>\n",
       "      <td>-0.671731</td>\n",
       "      <td>0.177549</td>\n",
       "    </tr>\n",
       "    <tr>\n",
       "      <th>three</th>\n",
       "      <th>B</th>\n",
       "      <th>foo</th>\n",
       "      <td>-0.928573</td>\n",
       "      <td>1.392988</td>\n",
       "    </tr>\n",
       "    <tr>\n",
       "      <th rowspan=\"2\" valign=\"top\">one</th>\n",
       "      <th>C</th>\n",
       "      <th>foo</th>\n",
       "      <td>0.092530</td>\n",
       "      <td>-0.110878</td>\n",
       "    </tr>\n",
       "    <tr>\n",
       "      <th>A</th>\n",
       "      <th>bar</th>\n",
       "      <td>-0.037859</td>\n",
       "      <td>0.189394</td>\n",
       "    </tr>\n",
       "    <tr>\n",
       "      <th>two</th>\n",
       "      <th>B</th>\n",
       "      <th>bar</th>\n",
       "      <td>0.105538</td>\n",
       "      <td>-0.187594</td>\n",
       "    </tr>\n",
       "    <tr>\n",
       "      <th>three</th>\n",
       "      <th>C</th>\n",
       "      <th>bar</th>\n",
       "      <td>-0.068976</td>\n",
       "      <td>2.337373</td>\n",
       "    </tr>\n",
       "  </tbody>\n",
       "</table>\n",
       "</div>"
      ],
      "text/plain": [
       "                    D         E\n",
       "A     B C                      \n",
       "one   A foo  0.793686  0.076280\n",
       "      B foo -1.261065  1.068702\n",
       "two   C foo -0.334907 -0.614074\n",
       "three A bar -0.094119  0.698093\n",
       "one   B bar -2.240365 -1.743093\n",
       "      C bar  2.663319  1.748698\n",
       "two   A foo -0.671731  0.177549\n",
       "three B foo -0.928573  1.392988\n",
       "one   C foo  0.092530 -0.110878\n",
       "      A bar -0.037859  0.189394\n",
       "two   B bar  0.105538 -0.187594\n",
       "three C bar -0.068976  2.337373"
      ]
     },
     "execution_count": 53,
     "metadata": {},
     "output_type": "execute_result"
    }
   ],
   "source": [
    "dfi"
   ]
  },
  {
   "cell_type": "code",
   "execution_count": 54,
   "metadata": {
    "collapsed": false
   },
   "outputs": [
    {
     "data": {
      "text/html": [
       "<div>\n",
       "<table border=\"1\" class=\"dataframe\">\n",
       "  <thead>\n",
       "    <tr>\n",
       "      <th></th>\n",
       "      <th></th>\n",
       "      <th colspan=\"2\" halign=\"left\">D</th>\n",
       "      <th colspan=\"2\" halign=\"left\">E</th>\n",
       "    </tr>\n",
       "    <tr>\n",
       "      <th></th>\n",
       "      <th>C</th>\n",
       "      <th>bar</th>\n",
       "      <th>foo</th>\n",
       "      <th>bar</th>\n",
       "      <th>foo</th>\n",
       "    </tr>\n",
       "    <tr>\n",
       "      <th>A</th>\n",
       "      <th>B</th>\n",
       "      <th></th>\n",
       "      <th></th>\n",
       "      <th></th>\n",
       "      <th></th>\n",
       "    </tr>\n",
       "  </thead>\n",
       "  <tbody>\n",
       "    <tr>\n",
       "      <th rowspan=\"3\" valign=\"top\">one</th>\n",
       "      <th>A</th>\n",
       "      <td>-0.037859</td>\n",
       "      <td>0.793686</td>\n",
       "      <td>0.189394</td>\n",
       "      <td>0.076280</td>\n",
       "    </tr>\n",
       "    <tr>\n",
       "      <th>B</th>\n",
       "      <td>-2.240365</td>\n",
       "      <td>-1.261065</td>\n",
       "      <td>-1.743093</td>\n",
       "      <td>1.068702</td>\n",
       "    </tr>\n",
       "    <tr>\n",
       "      <th>C</th>\n",
       "      <td>2.663319</td>\n",
       "      <td>0.092530</td>\n",
       "      <td>1.748698</td>\n",
       "      <td>-0.110878</td>\n",
       "    </tr>\n",
       "    <tr>\n",
       "      <th rowspan=\"3\" valign=\"top\">three</th>\n",
       "      <th>A</th>\n",
       "      <td>-0.094119</td>\n",
       "      <td>NaN</td>\n",
       "      <td>0.698093</td>\n",
       "      <td>NaN</td>\n",
       "    </tr>\n",
       "    <tr>\n",
       "      <th>B</th>\n",
       "      <td>NaN</td>\n",
       "      <td>-0.928573</td>\n",
       "      <td>NaN</td>\n",
       "      <td>1.392988</td>\n",
       "    </tr>\n",
       "    <tr>\n",
       "      <th>C</th>\n",
       "      <td>-0.068976</td>\n",
       "      <td>NaN</td>\n",
       "      <td>2.337373</td>\n",
       "      <td>NaN</td>\n",
       "    </tr>\n",
       "    <tr>\n",
       "      <th rowspan=\"3\" valign=\"top\">two</th>\n",
       "      <th>A</th>\n",
       "      <td>NaN</td>\n",
       "      <td>-0.671731</td>\n",
       "      <td>NaN</td>\n",
       "      <td>0.177549</td>\n",
       "    </tr>\n",
       "    <tr>\n",
       "      <th>B</th>\n",
       "      <td>0.105538</td>\n",
       "      <td>NaN</td>\n",
       "      <td>-0.187594</td>\n",
       "      <td>NaN</td>\n",
       "    </tr>\n",
       "    <tr>\n",
       "      <th>C</th>\n",
       "      <td>NaN</td>\n",
       "      <td>-0.334907</td>\n",
       "      <td>NaN</td>\n",
       "      <td>-0.614074</td>\n",
       "    </tr>\n",
       "  </tbody>\n",
       "</table>\n",
       "</div>"
      ],
      "text/plain": [
       "                D                   E          \n",
       "C             bar       foo       bar       foo\n",
       "A     B                                        \n",
       "one   A -0.037859  0.793686  0.189394  0.076280\n",
       "      B -2.240365 -1.261065 -1.743093  1.068702\n",
       "      C  2.663319  0.092530  1.748698 -0.110878\n",
       "three A -0.094119       NaN  0.698093       NaN\n",
       "      B       NaN -0.928573       NaN  1.392988\n",
       "      C -0.068976       NaN  2.337373       NaN\n",
       "two   A       NaN -0.671731       NaN  0.177549\n",
       "      B  0.105538       NaN -0.187594       NaN\n",
       "      C       NaN -0.334907       NaN -0.614074"
      ]
     },
     "execution_count": 54,
     "metadata": {},
     "output_type": "execute_result"
    }
   ],
   "source": [
    "dfi.unstack(level='C')"
   ]
  },
  {
   "cell_type": "code",
   "execution_count": 55,
   "metadata": {
    "collapsed": false
   },
   "outputs": [
    {
     "data": {
      "text/html": [
       "<div>\n",
       "<table border=\"1\" class=\"dataframe\">\n",
       "  <thead>\n",
       "    <tr style=\"text-align: right;\">\n",
       "      <th></th>\n",
       "      <th>C</th>\n",
       "      <th>bar</th>\n",
       "      <th>foo</th>\n",
       "    </tr>\n",
       "    <tr>\n",
       "      <th>A</th>\n",
       "      <th>B</th>\n",
       "      <th></th>\n",
       "      <th></th>\n",
       "    </tr>\n",
       "  </thead>\n",
       "  <tbody>\n",
       "    <tr>\n",
       "      <th rowspan=\"3\" valign=\"top\">one</th>\n",
       "      <th>A</th>\n",
       "      <td>-0.037859</td>\n",
       "      <td>0.793686</td>\n",
       "    </tr>\n",
       "    <tr>\n",
       "      <th>B</th>\n",
       "      <td>-2.240365</td>\n",
       "      <td>-1.261065</td>\n",
       "    </tr>\n",
       "    <tr>\n",
       "      <th>C</th>\n",
       "      <td>2.663319</td>\n",
       "      <td>0.092530</td>\n",
       "    </tr>\n",
       "    <tr>\n",
       "      <th rowspan=\"3\" valign=\"top\">three</th>\n",
       "      <th>A</th>\n",
       "      <td>-0.094119</td>\n",
       "      <td>NaN</td>\n",
       "    </tr>\n",
       "    <tr>\n",
       "      <th>B</th>\n",
       "      <td>NaN</td>\n",
       "      <td>-0.928573</td>\n",
       "    </tr>\n",
       "    <tr>\n",
       "      <th>C</th>\n",
       "      <td>-0.068976</td>\n",
       "      <td>NaN</td>\n",
       "    </tr>\n",
       "    <tr>\n",
       "      <th rowspan=\"3\" valign=\"top\">two</th>\n",
       "      <th>A</th>\n",
       "      <td>NaN</td>\n",
       "      <td>-0.671731</td>\n",
       "    </tr>\n",
       "    <tr>\n",
       "      <th>B</th>\n",
       "      <td>0.105538</td>\n",
       "      <td>NaN</td>\n",
       "    </tr>\n",
       "    <tr>\n",
       "      <th>C</th>\n",
       "      <td>NaN</td>\n",
       "      <td>-0.334907</td>\n",
       "    </tr>\n",
       "  </tbody>\n",
       "</table>\n",
       "</div>"
      ],
      "text/plain": [
       "C             bar       foo\n",
       "A     B                    \n",
       "one   A -0.037859  0.793686\n",
       "      B -2.240365 -1.261065\n",
       "      C  2.663319  0.092530\n",
       "three A -0.094119       NaN\n",
       "      B       NaN -0.928573\n",
       "      C -0.068976       NaN\n",
       "two   A       NaN -0.671731\n",
       "      B  0.105538       NaN\n",
       "      C       NaN -0.334907"
      ]
     },
     "execution_count": 55,
     "metadata": {},
     "output_type": "execute_result"
    }
   ],
   "source": [
    "dfi['D'].unstack(level='C')         #Same as the pivot table result"
   ]
  },
  {
   "cell_type": "markdown",
   "metadata": {},
   "source": [
    "#### Comparison of DataFrame Objects"
   ]
  },
  {
   "cell_type": "code",
   "execution_count": 56,
   "metadata": {
    "collapsed": false
   },
   "outputs": [],
   "source": [
    "#-Compare-#\n",
    "df1 = dfi['D'].unstack(level='C')\n",
    "df2 = pd.pivot_table(df, values='D', index=['A', 'B'], columns=['C'])"
   ]
  },
  {
   "cell_type": "code",
   "execution_count": 57,
   "metadata": {
    "collapsed": false
   },
   "outputs": [
    {
     "data": {
      "text/plain": [
       "True"
      ]
     },
     "execution_count": 57,
     "metadata": {},
     "output_type": "execute_result"
    }
   ],
   "source": [
    "df1.equals(df2)"
   ]
  },
  {
   "cell_type": "code",
   "execution_count": 58,
   "metadata": {
    "collapsed": false
   },
   "outputs": [
    {
     "data": {
      "text/html": [
       "<div>\n",
       "<table border=\"1\" class=\"dataframe\">\n",
       "  <thead>\n",
       "    <tr style=\"text-align: right;\">\n",
       "      <th></th>\n",
       "      <th>C</th>\n",
       "      <th>bar</th>\n",
       "      <th>foo</th>\n",
       "    </tr>\n",
       "    <tr>\n",
       "      <th>A</th>\n",
       "      <th>B</th>\n",
       "      <th></th>\n",
       "      <th></th>\n",
       "    </tr>\n",
       "  </thead>\n",
       "  <tbody>\n",
       "    <tr>\n",
       "      <th rowspan=\"3\" valign=\"top\">one</th>\n",
       "      <th>A</th>\n",
       "      <td>True</td>\n",
       "      <td>True</td>\n",
       "    </tr>\n",
       "    <tr>\n",
       "      <th>B</th>\n",
       "      <td>True</td>\n",
       "      <td>True</td>\n",
       "    </tr>\n",
       "    <tr>\n",
       "      <th>C</th>\n",
       "      <td>True</td>\n",
       "      <td>True</td>\n",
       "    </tr>\n",
       "    <tr>\n",
       "      <th rowspan=\"3\" valign=\"top\">three</th>\n",
       "      <th>A</th>\n",
       "      <td>True</td>\n",
       "      <td>False</td>\n",
       "    </tr>\n",
       "    <tr>\n",
       "      <th>B</th>\n",
       "      <td>False</td>\n",
       "      <td>True</td>\n",
       "    </tr>\n",
       "    <tr>\n",
       "      <th>C</th>\n",
       "      <td>True</td>\n",
       "      <td>False</td>\n",
       "    </tr>\n",
       "    <tr>\n",
       "      <th rowspan=\"3\" valign=\"top\">two</th>\n",
       "      <th>A</th>\n",
       "      <td>False</td>\n",
       "      <td>True</td>\n",
       "    </tr>\n",
       "    <tr>\n",
       "      <th>B</th>\n",
       "      <td>True</td>\n",
       "      <td>False</td>\n",
       "    </tr>\n",
       "    <tr>\n",
       "      <th>C</th>\n",
       "      <td>False</td>\n",
       "      <td>True</td>\n",
       "    </tr>\n",
       "  </tbody>\n",
       "</table>\n",
       "</div>"
      ],
      "text/plain": [
       "C          bar    foo\n",
       "A     B              \n",
       "one   A   True   True\n",
       "      B   True   True\n",
       "      C   True   True\n",
       "three A   True  False\n",
       "      B  False   True\n",
       "      C   True  False\n",
       "two   A  False   True\n",
       "      B   True  False\n",
       "      C  False   True"
      ]
     },
     "execution_count": 58,
     "metadata": {},
     "output_type": "execute_result"
    }
   ],
   "source": [
    "df1 == df2                #This performs element-by-element wise"
   ]
  },
  {
   "cell_type": "code",
   "execution_count": 59,
   "metadata": {
    "collapsed": false
   },
   "outputs": [
    {
     "data": {
      "text/html": [
       "<div>\n",
       "<table border=\"1\" class=\"dataframe\">\n",
       "  <thead>\n",
       "    <tr style=\"text-align: right;\">\n",
       "      <th></th>\n",
       "      <th>C</th>\n",
       "      <th>bar</th>\n",
       "      <th>foo</th>\n",
       "    </tr>\n",
       "    <tr>\n",
       "      <th>A</th>\n",
       "      <th>B</th>\n",
       "      <th></th>\n",
       "      <th></th>\n",
       "    </tr>\n",
       "  </thead>\n",
       "  <tbody>\n",
       "    <tr>\n",
       "      <th rowspan=\"3\" valign=\"top\">one</th>\n",
       "      <th>A</th>\n",
       "      <td>-0.037859</td>\n",
       "      <td>0.793686</td>\n",
       "    </tr>\n",
       "    <tr>\n",
       "      <th>B</th>\n",
       "      <td>-2.240365</td>\n",
       "      <td>-1.261065</td>\n",
       "    </tr>\n",
       "    <tr>\n",
       "      <th>C</th>\n",
       "      <td>2.663319</td>\n",
       "      <td>0.092530</td>\n",
       "    </tr>\n",
       "    <tr>\n",
       "      <th rowspan=\"3\" valign=\"top\">three</th>\n",
       "      <th>A</th>\n",
       "      <td>-0.094119</td>\n",
       "      <td>NaN</td>\n",
       "    </tr>\n",
       "    <tr>\n",
       "      <th>B</th>\n",
       "      <td>NaN</td>\n",
       "      <td>-0.928573</td>\n",
       "    </tr>\n",
       "    <tr>\n",
       "      <th>C</th>\n",
       "      <td>-0.068976</td>\n",
       "      <td>NaN</td>\n",
       "    </tr>\n",
       "    <tr>\n",
       "      <th rowspan=\"3\" valign=\"top\">two</th>\n",
       "      <th>A</th>\n",
       "      <td>NaN</td>\n",
       "      <td>-0.671731</td>\n",
       "    </tr>\n",
       "    <tr>\n",
       "      <th>B</th>\n",
       "      <td>0.105538</td>\n",
       "      <td>NaN</td>\n",
       "    </tr>\n",
       "    <tr>\n",
       "      <th>C</th>\n",
       "      <td>NaN</td>\n",
       "      <td>-0.334907</td>\n",
       "    </tr>\n",
       "  </tbody>\n",
       "</table>\n",
       "</div>"
      ],
      "text/plain": [
       "C             bar       foo\n",
       "A     B                    \n",
       "one   A -0.037859  0.793686\n",
       "      B -2.240365 -1.261065\n",
       "      C  2.663319  0.092530\n",
       "three A -0.094119       NaN\n",
       "      B       NaN -0.928573\n",
       "      C -0.068976       NaN\n",
       "two   A       NaN -0.671731\n",
       "      B  0.105538       NaN\n",
       "      C       NaN -0.334907"
      ]
     },
     "execution_count": 59,
     "metadata": {},
     "output_type": "execute_result"
    }
   ],
   "source": [
    "df1           #Note: The above result has difficulty comparing NaN values"
   ]
  },
  {
   "cell_type": "code",
   "execution_count": 60,
   "metadata": {
    "collapsed": false
   },
   "outputs": [
    {
     "data": {
      "text/html": [
       "<div>\n",
       "<table border=\"1\" class=\"dataframe\">\n",
       "  <thead>\n",
       "    <tr style=\"text-align: right;\">\n",
       "      <th></th>\n",
       "      <th>C</th>\n",
       "      <th>bar</th>\n",
       "      <th>foo</th>\n",
       "    </tr>\n",
       "    <tr>\n",
       "      <th>A</th>\n",
       "      <th>B</th>\n",
       "      <th></th>\n",
       "      <th></th>\n",
       "    </tr>\n",
       "  </thead>\n",
       "  <tbody>\n",
       "    <tr>\n",
       "      <th rowspan=\"3\" valign=\"top\">one</th>\n",
       "      <th>A</th>\n",
       "      <td>-0.037859</td>\n",
       "      <td>0.793686</td>\n",
       "    </tr>\n",
       "    <tr>\n",
       "      <th>B</th>\n",
       "      <td>-2.240365</td>\n",
       "      <td>-1.261065</td>\n",
       "    </tr>\n",
       "    <tr>\n",
       "      <th>C</th>\n",
       "      <td>2.663319</td>\n",
       "      <td>0.092530</td>\n",
       "    </tr>\n",
       "    <tr>\n",
       "      <th rowspan=\"3\" valign=\"top\">three</th>\n",
       "      <th>A</th>\n",
       "      <td>-0.094119</td>\n",
       "      <td>NaN</td>\n",
       "    </tr>\n",
       "    <tr>\n",
       "      <th>B</th>\n",
       "      <td>NaN</td>\n",
       "      <td>-0.928573</td>\n",
       "    </tr>\n",
       "    <tr>\n",
       "      <th>C</th>\n",
       "      <td>-0.068976</td>\n",
       "      <td>NaN</td>\n",
       "    </tr>\n",
       "    <tr>\n",
       "      <th rowspan=\"3\" valign=\"top\">two</th>\n",
       "      <th>A</th>\n",
       "      <td>NaN</td>\n",
       "      <td>-0.671731</td>\n",
       "    </tr>\n",
       "    <tr>\n",
       "      <th>B</th>\n",
       "      <td>0.105538</td>\n",
       "      <td>NaN</td>\n",
       "    </tr>\n",
       "    <tr>\n",
       "      <th>C</th>\n",
       "      <td>NaN</td>\n",
       "      <td>-0.334907</td>\n",
       "    </tr>\n",
       "  </tbody>\n",
       "</table>\n",
       "</div>"
      ],
      "text/plain": [
       "C             bar       foo\n",
       "A     B                    \n",
       "one   A -0.037859  0.793686\n",
       "      B -2.240365 -1.261065\n",
       "      C  2.663319  0.092530\n",
       "three A -0.094119       NaN\n",
       "      B       NaN -0.928573\n",
       "      C -0.068976       NaN\n",
       "two   A       NaN -0.671731\n",
       "      B  0.105538       NaN\n",
       "      C       NaN -0.334907"
      ]
     },
     "execution_count": 60,
     "metadata": {},
     "output_type": "execute_result"
    }
   ],
   "source": [
    "df2"
   ]
  },
  {
   "cell_type": "markdown",
   "metadata": {},
   "source": [
    "## Sorting"
   ]
  },
  {
   "cell_type": "code",
   "execution_count": 61,
   "metadata": {
    "collapsed": true
   },
   "outputs": [],
   "source": [
    "s = pd.Series(range(4), index=['d','a','b','c'])"
   ]
  },
  {
   "cell_type": "code",
   "execution_count": 62,
   "metadata": {
    "collapsed": false
   },
   "outputs": [
    {
     "data": {
      "text/plain": [
       "d    0\n",
       "a    1\n",
       "b    2\n",
       "c    3\n",
       "dtype: int64"
      ]
     },
     "execution_count": 62,
     "metadata": {},
     "output_type": "execute_result"
    }
   ],
   "source": [
    "s"
   ]
  },
  {
   "cell_type": "code",
   "execution_count": 63,
   "metadata": {
    "collapsed": false
   },
   "outputs": [
    {
     "data": {
      "text/plain": [
       "a    1\n",
       "b    2\n",
       "c    3\n",
       "d    0\n",
       "dtype: int64"
      ]
     },
     "execution_count": 63,
     "metadata": {},
     "output_type": "execute_result"
    }
   ],
   "source": [
    "s.sort_index()"
   ]
  },
  {
   "cell_type": "code",
   "execution_count": 64,
   "metadata": {
    "collapsed": false
   },
   "outputs": [],
   "source": [
    "df = pd.DataFrame(np.arange(8).reshape((2,4)), index=['three','one'], columns=['d','a','b','c'])"
   ]
  },
  {
   "cell_type": "code",
   "execution_count": 65,
   "metadata": {
    "collapsed": false
   },
   "outputs": [
    {
     "data": {
      "text/html": [
       "<div>\n",
       "<table border=\"1\" class=\"dataframe\">\n",
       "  <thead>\n",
       "    <tr style=\"text-align: right;\">\n",
       "      <th></th>\n",
       "      <th>d</th>\n",
       "      <th>a</th>\n",
       "      <th>b</th>\n",
       "      <th>c</th>\n",
       "    </tr>\n",
       "  </thead>\n",
       "  <tbody>\n",
       "    <tr>\n",
       "      <th>three</th>\n",
       "      <td>0</td>\n",
       "      <td>1</td>\n",
       "      <td>2</td>\n",
       "      <td>3</td>\n",
       "    </tr>\n",
       "    <tr>\n",
       "      <th>one</th>\n",
       "      <td>4</td>\n",
       "      <td>5</td>\n",
       "      <td>6</td>\n",
       "      <td>7</td>\n",
       "    </tr>\n",
       "  </tbody>\n",
       "</table>\n",
       "</div>"
      ],
      "text/plain": [
       "       d  a  b  c\n",
       "three  0  1  2  3\n",
       "one    4  5  6  7"
      ]
     },
     "execution_count": 65,
     "metadata": {},
     "output_type": "execute_result"
    }
   ],
   "source": [
    "df"
   ]
  },
  {
   "cell_type": "code",
   "execution_count": 66,
   "metadata": {
    "collapsed": false
   },
   "outputs": [
    {
     "data": {
      "text/html": [
       "<div>\n",
       "<table border=\"1\" class=\"dataframe\">\n",
       "  <thead>\n",
       "    <tr style=\"text-align: right;\">\n",
       "      <th></th>\n",
       "      <th>d</th>\n",
       "      <th>a</th>\n",
       "      <th>b</th>\n",
       "      <th>c</th>\n",
       "    </tr>\n",
       "  </thead>\n",
       "  <tbody>\n",
       "    <tr>\n",
       "      <th>one</th>\n",
       "      <td>4</td>\n",
       "      <td>5</td>\n",
       "      <td>6</td>\n",
       "      <td>7</td>\n",
       "    </tr>\n",
       "    <tr>\n",
       "      <th>three</th>\n",
       "      <td>0</td>\n",
       "      <td>1</td>\n",
       "      <td>2</td>\n",
       "      <td>3</td>\n",
       "    </tr>\n",
       "  </tbody>\n",
       "</table>\n",
       "</div>"
      ],
      "text/plain": [
       "       d  a  b  c\n",
       "one    4  5  6  7\n",
       "three  0  1  2  3"
      ]
     },
     "execution_count": 66,
     "metadata": {},
     "output_type": "execute_result"
    }
   ],
   "source": [
    "df.sort_index()"
   ]
  },
  {
   "cell_type": "code",
   "execution_count": 67,
   "metadata": {
    "collapsed": false
   },
   "outputs": [
    {
     "data": {
      "text/html": [
       "<div>\n",
       "<table border=\"1\" class=\"dataframe\">\n",
       "  <thead>\n",
       "    <tr style=\"text-align: right;\">\n",
       "      <th></th>\n",
       "      <th>a</th>\n",
       "      <th>b</th>\n",
       "      <th>c</th>\n",
       "      <th>d</th>\n",
       "    </tr>\n",
       "  </thead>\n",
       "  <tbody>\n",
       "    <tr>\n",
       "      <th>three</th>\n",
       "      <td>1</td>\n",
       "      <td>2</td>\n",
       "      <td>3</td>\n",
       "      <td>0</td>\n",
       "    </tr>\n",
       "    <tr>\n",
       "      <th>one</th>\n",
       "      <td>5</td>\n",
       "      <td>6</td>\n",
       "      <td>7</td>\n",
       "      <td>4</td>\n",
       "    </tr>\n",
       "  </tbody>\n",
       "</table>\n",
       "</div>"
      ],
      "text/plain": [
       "       a  b  c  d\n",
       "three  1  2  3  0\n",
       "one    5  6  7  4"
      ]
     },
     "execution_count": 67,
     "metadata": {},
     "output_type": "execute_result"
    }
   ],
   "source": [
    "df.sort_index(axis=1)        #Columns"
   ]
  },
  {
   "cell_type": "code",
   "execution_count": 68,
   "metadata": {
    "collapsed": false
   },
   "outputs": [
    {
     "data": {
      "text/html": [
       "<div>\n",
       "<table border=\"1\" class=\"dataframe\">\n",
       "  <thead>\n",
       "    <tr style=\"text-align: right;\">\n",
       "      <th></th>\n",
       "      <th>d</th>\n",
       "      <th>a</th>\n",
       "      <th>b</th>\n",
       "      <th>c</th>\n",
       "    </tr>\n",
       "  </thead>\n",
       "  <tbody>\n",
       "    <tr>\n",
       "      <th>three</th>\n",
       "      <td>0</td>\n",
       "      <td>1</td>\n",
       "      <td>2</td>\n",
       "      <td>3</td>\n",
       "    </tr>\n",
       "    <tr>\n",
       "      <th>one</th>\n",
       "      <td>4</td>\n",
       "      <td>5</td>\n",
       "      <td>6</td>\n",
       "      <td>7</td>\n",
       "    </tr>\n",
       "  </tbody>\n",
       "</table>\n",
       "</div>"
      ],
      "text/plain": [
       "       d  a  b  c\n",
       "three  0  1  2  3\n",
       "one    4  5  6  7"
      ]
     },
     "execution_count": 68,
     "metadata": {},
     "output_type": "execute_result"
    }
   ],
   "source": [
    "#-Sort by Values-#\n",
    "df.sort_values(by='a')"
   ]
  },
  {
   "cell_type": "markdown",
   "metadata": {},
   "source": [
    "#### Chain Operations Together"
   ]
  },
  {
   "cell_type": "code",
   "execution_count": 69,
   "metadata": {
    "collapsed": false
   },
   "outputs": [
    {
     "data": {
      "text/html": [
       "<div>\n",
       "<table border=\"1\" class=\"dataframe\">\n",
       "  <thead>\n",
       "    <tr style=\"text-align: right;\">\n",
       "      <th></th>\n",
       "      <th>a</th>\n",
       "      <th>b</th>\n",
       "      <th>c</th>\n",
       "      <th>d</th>\n",
       "    </tr>\n",
       "  </thead>\n",
       "  <tbody>\n",
       "    <tr>\n",
       "      <th>one</th>\n",
       "      <td>5</td>\n",
       "      <td>6</td>\n",
       "      <td>7</td>\n",
       "      <td>4</td>\n",
       "    </tr>\n",
       "    <tr>\n",
       "      <th>three</th>\n",
       "      <td>1</td>\n",
       "      <td>2</td>\n",
       "      <td>3</td>\n",
       "      <td>0</td>\n",
       "    </tr>\n",
       "  </tbody>\n",
       "</table>\n",
       "</div>"
      ],
      "text/plain": [
       "       a  b  c  d\n",
       "one    5  6  7  4\n",
       "three  1  2  3  0"
      ]
     },
     "execution_count": 69,
     "metadata": {},
     "output_type": "execute_result"
    }
   ],
   "source": [
    "df.sort_index(axis=1).sort_values(by='a', ascending=False)"
   ]
  },
  {
   "cell_type": "markdown",
   "metadata": {},
   "source": [
    "**Note:** Using a MultiIndex you can also sort by different **levels** in the index"
   ]
  },
  {
   "cell_type": "markdown",
   "metadata": {},
   "source": [
    "### Ranking"
   ]
  },
  {
   "cell_type": "code",
   "execution_count": 70,
   "metadata": {
    "collapsed": false
   },
   "outputs": [],
   "source": [
    "df = df.T"
   ]
  },
  {
   "cell_type": "code",
   "execution_count": 71,
   "metadata": {
    "collapsed": false
   },
   "outputs": [
    {
     "data": {
      "text/html": [
       "<div>\n",
       "<table border=\"1\" class=\"dataframe\">\n",
       "  <thead>\n",
       "    <tr style=\"text-align: right;\">\n",
       "      <th></th>\n",
       "      <th>three</th>\n",
       "      <th>one</th>\n",
       "    </tr>\n",
       "  </thead>\n",
       "  <tbody>\n",
       "    <tr>\n",
       "      <th>d</th>\n",
       "      <td>0</td>\n",
       "      <td>4</td>\n",
       "    </tr>\n",
       "    <tr>\n",
       "      <th>a</th>\n",
       "      <td>1</td>\n",
       "      <td>5</td>\n",
       "    </tr>\n",
       "    <tr>\n",
       "      <th>b</th>\n",
       "      <td>2</td>\n",
       "      <td>6</td>\n",
       "    </tr>\n",
       "    <tr>\n",
       "      <th>c</th>\n",
       "      <td>3</td>\n",
       "      <td>7</td>\n",
       "    </tr>\n",
       "  </tbody>\n",
       "</table>\n",
       "</div>"
      ],
      "text/plain": [
       "   three  one\n",
       "d      0    4\n",
       "a      1    5\n",
       "b      2    6\n",
       "c      3    7"
      ]
     },
     "execution_count": 71,
     "metadata": {},
     "output_type": "execute_result"
    }
   ],
   "source": [
    "df"
   ]
  },
  {
   "cell_type": "code",
   "execution_count": 72,
   "metadata": {
    "collapsed": false
   },
   "outputs": [
    {
     "data": {
      "text/html": [
       "<div>\n",
       "<table border=\"1\" class=\"dataframe\">\n",
       "  <thead>\n",
       "    <tr style=\"text-align: right;\">\n",
       "      <th></th>\n",
       "      <th>three</th>\n",
       "      <th>one</th>\n",
       "    </tr>\n",
       "  </thead>\n",
       "  <tbody>\n",
       "    <tr>\n",
       "      <th>d</th>\n",
       "      <td>1.0</td>\n",
       "      <td>1.0</td>\n",
       "    </tr>\n",
       "    <tr>\n",
       "      <th>a</th>\n",
       "      <td>2.0</td>\n",
       "      <td>2.0</td>\n",
       "    </tr>\n",
       "    <tr>\n",
       "      <th>b</th>\n",
       "      <td>3.0</td>\n",
       "      <td>3.0</td>\n",
       "    </tr>\n",
       "    <tr>\n",
       "      <th>c</th>\n",
       "      <td>4.0</td>\n",
       "      <td>4.0</td>\n",
       "    </tr>\n",
       "  </tbody>\n",
       "</table>\n",
       "</div>"
      ],
      "text/plain": [
       "   three  one\n",
       "d    1.0  1.0\n",
       "a    2.0  2.0\n",
       "b    3.0  3.0\n",
       "c    4.0  4.0"
      ]
     },
     "execution_count": 72,
     "metadata": {},
     "output_type": "execute_result"
    }
   ],
   "source": [
    "df.rank()"
   ]
  },
  {
   "cell_type": "markdown",
   "metadata": {},
   "source": [
    "-----------------------------------------------------------------------"
   ]
  },
  {
   "cell_type": "markdown",
   "metadata": {},
   "source": [
    "## Split-Apply-Combine\n",
    "\n",
    "DataFrames also support more advanced operations such as **groupby**  which can be very powerful when aggregating data based on groups and performing some operations over them"
   ]
  },
  {
   "cell_type": "code",
   "execution_count": 73,
   "metadata": {
    "collapsed": false
   },
   "outputs": [
    {
     "data": {
      "image/png": "[encoded data removed]",
      "text/plain": [
       "<IPython.core.display.Image object>"
      ]
     },
     "execution_count": 73,
     "metadata": {},
     "output_type": "execute_result"
    }
   ],
   "source": [
    "Image(filename='split-apply-combine.png')"
   ]
  },
  {
   "cell_type": "code",
   "execution_count": 74,
   "metadata": {
    "collapsed": false
   },
   "outputs": [],
   "source": [
    "key = ['A','B','C','A','B','C','A','B','C']\n",
    "data = [0,5,10,5,10,15,10,15,20]\n",
    "df = pd.DataFrame(data, index=key, columns=['data'])"
   ]
  },
  {
   "cell_type": "code",
   "execution_count": 75,
   "metadata": {
    "collapsed": false
   },
   "outputs": [
    {
     "data": {
      "text/html": [
       "<div>\n",
       "<table border=\"1\" class=\"dataframe\">\n",
       "  <thead>\n",
       "    <tr style=\"text-align: right;\">\n",
       "      <th></th>\n",
       "      <th>data</th>\n",
       "    </tr>\n",
       "  </thead>\n",
       "  <tbody>\n",
       "    <tr>\n",
       "      <th>A</th>\n",
       "      <td>0</td>\n",
       "    </tr>\n",
       "    <tr>\n",
       "      <th>B</th>\n",
       "      <td>5</td>\n",
       "    </tr>\n",
       "    <tr>\n",
       "      <th>C</th>\n",
       "      <td>10</td>\n",
       "    </tr>\n",
       "    <tr>\n",
       "      <th>A</th>\n",
       "      <td>5</td>\n",
       "    </tr>\n",
       "    <tr>\n",
       "      <th>B</th>\n",
       "      <td>10</td>\n",
       "    </tr>\n",
       "    <tr>\n",
       "      <th>C</th>\n",
       "      <td>15</td>\n",
       "    </tr>\n",
       "    <tr>\n",
       "      <th>A</th>\n",
       "      <td>10</td>\n",
       "    </tr>\n",
       "    <tr>\n",
       "      <th>B</th>\n",
       "      <td>15</td>\n",
       "    </tr>\n",
       "    <tr>\n",
       "      <th>C</th>\n",
       "      <td>20</td>\n",
       "    </tr>\n",
       "  </tbody>\n",
       "</table>\n",
       "</div>"
      ],
      "text/plain": [
       "   data\n",
       "A     0\n",
       "B     5\n",
       "C    10\n",
       "A     5\n",
       "B    10\n",
       "C    15\n",
       "A    10\n",
       "B    15\n",
       "C    20"
      ]
     },
     "execution_count": 75,
     "metadata": {},
     "output_type": "execute_result"
    }
   ],
   "source": [
    "df"
   ]
  },
  {
   "cell_type": "code",
   "execution_count": 76,
   "metadata": {
    "collapsed": false
   },
   "outputs": [
    {
     "data": {
      "text/html": [
       "<div>\n",
       "<table border=\"1\" class=\"dataframe\">\n",
       "  <thead>\n",
       "    <tr style=\"text-align: right;\">\n",
       "      <th></th>\n",
       "      <th>data</th>\n",
       "    </tr>\n",
       "  </thead>\n",
       "  <tbody>\n",
       "    <tr>\n",
       "      <th>A</th>\n",
       "      <td>15</td>\n",
       "    </tr>\n",
       "    <tr>\n",
       "      <th>B</th>\n",
       "      <td>30</td>\n",
       "    </tr>\n",
       "    <tr>\n",
       "      <th>C</th>\n",
       "      <td>45</td>\n",
       "    </tr>\n",
       "  </tbody>\n",
       "</table>\n",
       "</div>"
      ],
      "text/plain": [
       "   data\n",
       "A    15\n",
       "B    30\n",
       "C    45"
      ]
     },
     "execution_count": 76,
     "metadata": {},
     "output_type": "execute_result"
    }
   ],
   "source": [
    "#-Groupby Index Level-#\n",
    "df.groupby(level=0).sum()"
   ]
  },
  {
   "cell_type": "code",
   "execution_count": 77,
   "metadata": {
    "collapsed": false,
    "scrolled": true
   },
   "outputs": [
    {
     "data": {
      "text/html": [
       "<div>\n",
       "<table border=\"1\" class=\"dataframe\">\n",
       "  <thead>\n",
       "    <tr style=\"text-align: right;\">\n",
       "      <th></th>\n",
       "      <th>data</th>\n",
       "    </tr>\n",
       "    <tr>\n",
       "      <th>key</th>\n",
       "      <th></th>\n",
       "    </tr>\n",
       "  </thead>\n",
       "  <tbody>\n",
       "    <tr>\n",
       "      <th>A</th>\n",
       "      <td>15</td>\n",
       "    </tr>\n",
       "    <tr>\n",
       "      <th>B</th>\n",
       "      <td>30</td>\n",
       "    </tr>\n",
       "    <tr>\n",
       "      <th>C</th>\n",
       "      <td>45</td>\n",
       "    </tr>\n",
       "  </tbody>\n",
       "</table>\n",
       "</div>"
      ],
      "text/plain": [
       "     data\n",
       "key      \n",
       "A      15\n",
       "B      30\n",
       "C      45"
      ]
     },
     "execution_count": 77,
     "metadata": {},
     "output_type": "execute_result"
    }
   ],
   "source": [
    "df = df.reset_index()\n",
    "df.columns=[\"key\",\"data\"]\n",
    "df.groupby(by=[\"key\"]).sum()"
   ]
  },
  {
   "cell_type": "code",
   "execution_count": null,
   "metadata": {
    "collapsed": true
   },
   "outputs": [],
   "source": []
  },
  {
   "cell_type": "markdown",
   "metadata": {},
   "source": [
    "======================================================================================================================"
   ]
  },
  {
   "cell_type": "markdown",
   "metadata": {},
   "source": [
    "## Working with Special Types of Data\n",
    "\n",
    "**Pandas** has a support for different types of data such as:\n",
    "\n",
    "1. Time Series\n",
    "1. Categoricals (very recently)\n",
    "\n",
    "Reference: http://pandas.pydata.org/pandas-docs/stable/10min.html"
   ]
  },
  {
   "cell_type": "code",
   "execution_count": 78,
   "metadata": {
    "collapsed": true
   },
   "outputs": [],
   "source": [
    "rng = pd.date_range('1/1/2012', periods=200, freq='S')\n",
    "ts = pd.Series(np.random.randint(0, 500, len(rng)), index=rng)"
   ]
  },
  {
   "cell_type": "code",
   "execution_count": 79,
   "metadata": {
    "collapsed": false,
    "scrolled": true
   },
   "outputs": [
    {
     "data": {
      "text/plain": [
       "2012-01-01 00:00:00    251\n",
       "2012-01-01 00:00:01    420\n",
       "2012-01-01 00:00:02    145\n",
       "2012-01-01 00:00:03    235\n",
       "2012-01-01 00:00:04    384\n",
       "Freq: S, dtype: int64"
      ]
     },
     "execution_count": 79,
     "metadata": {},
     "output_type": "execute_result"
    }
   ],
   "source": [
    "ts.head()"
   ]
  },
  {
   "cell_type": "code",
   "execution_count": 80,
   "metadata": {
    "collapsed": false
   },
   "outputs": [
    {
     "data": {
      "text/plain": [
       "2012-01-01 00:03:15    111\n",
       "2012-01-01 00:03:16     12\n",
       "2012-01-01 00:03:17     42\n",
       "2012-01-01 00:03:18     97\n",
       "2012-01-01 00:03:19     75\n",
       "Freq: S, dtype: int64"
      ]
     },
     "execution_count": 80,
     "metadata": {},
     "output_type": "execute_result"
    }
   ],
   "source": [
    "ts.tail()"
   ]
  },
  {
   "cell_type": "markdown",
   "metadata": {},
   "source": [
    "#### Resampling the Time Series"
   ]
  },
  {
   "cell_type": "code",
   "execution_count": 81,
   "metadata": {
    "collapsed": false
   },
   "outputs": [
    {
     "name": "stderr",
     "output_type": "stream",
     "text": [
      "/home/matthewmckay/anaconda/lib/python3.5/site-packages/IPython/lib/pretty.py:108: FutureWarning: .resample() is now a deferred operation\n",
      "use .resample(...).mean() instead of .resample(...)\n",
      "  return getattr(obj, attr, default)\n"
     ]
    },
    {
     "data": {
      "text/plain": [
       "DatetimeIndexResampler [freq=<Minute>, axis=0, closed=left, label=left, convention=start, base=0]"
      ]
     },
     "execution_count": 81,
     "metadata": {},
     "output_type": "execute_result"
    }
   ],
   "source": [
    "ts.resample('1Min')  #TODO: Update"
   ]
  },
  {
   "cell_type": "code",
   "execution_count": 82,
   "metadata": {
    "collapsed": false
   },
   "outputs": [
    {
     "name": "stderr",
     "output_type": "stream",
     "text": [
      "/home/matthewmckay/anaconda/lib/python3.5/site-packages/ipykernel/__main__.py:1: FutureWarning: how in .resample() is deprecated\n",
      "the new syntax is .resample(...).mean()\n",
      "  if __name__ == '__main__':\n"
     ]
    },
    {
     "data": {
      "text/plain": [
       "2012-01-01 00:00:00    240.750000\n",
       "2012-01-01 00:01:00    239.250000\n",
       "2012-01-01 00:02:00    260.816667\n",
       "2012-01-01 00:03:00    171.500000\n",
       "Freq: T, dtype: float64"
      ]
     },
     "execution_count": 82,
     "metadata": {},
     "output_type": "execute_result"
    }
   ],
   "source": [
    "ts.resample('1Min', how='mean')   #TODO: Update"
   ]
  },
  {
   "cell_type": "code",
   "execution_count": 83,
   "metadata": {
    "collapsed": false
   },
   "outputs": [
    {
     "name": "stderr",
     "output_type": "stream",
     "text": [
      "/home/matthewmckay/anaconda/lib/python3.5/site-packages/ipykernel/__main__.py:1: FutureWarning: how in .resample() is deprecated\n",
      "the new syntax is .resample(...).sum()\n",
      "  if __name__ == '__main__':\n"
     ]
    },
    {
     "data": {
      "text/plain": [
       "2012-01-01 00:00:00    14445\n",
       "2012-01-01 00:01:00    14355\n",
       "2012-01-01 00:02:00    15649\n",
       "2012-01-01 00:03:00     3430\n",
       "Freq: T, dtype: int64"
      ]
     },
     "execution_count": 83,
     "metadata": {},
     "output_type": "execute_result"
    }
   ],
   "source": [
    "ts.resample('1Min', how='sum')   #TODO: Update"
   ]
  },
  {
   "cell_type": "markdown",
   "metadata": {},
   "source": [
    "#### Working with Time Series Data\n",
    "\n",
    "**See:** pandas-explore-fred-data.ipynb as an example of working with real world data\n",
    "\n",
    "Let's work with some random generated data)"
   ]
  },
  {
   "cell_type": "code",
   "execution_count": 84,
   "metadata": {
    "collapsed": false
   },
   "outputs": [],
   "source": [
    "s = pd.Series(np.random.randn(1000), index=pd.date_range('1/1/1990', periods=1000))"
   ]
  },
  {
   "cell_type": "code",
   "execution_count": 85,
   "metadata": {
    "collapsed": false
   },
   "outputs": [
    {
     "data": {
      "text/plain": [
       "1990-01-01    0.551383\n",
       "1990-01-02    0.004238\n",
       "1990-01-03   -0.676016\n",
       "1990-01-04   -0.855016\n",
       "1990-01-05    1.285163\n",
       "Freq: D, dtype: float64"
      ]
     },
     "execution_count": 85,
     "metadata": {},
     "output_type": "execute_result"
    }
   ],
   "source": [
    "s.head()"
   ]
  },
  {
   "cell_type": "code",
   "execution_count": 86,
   "metadata": {
    "collapsed": false
   },
   "outputs": [
    {
     "data": {
      "text/plain": [
       "1992-09-22    0.690017\n",
       "1992-09-23    1.723506\n",
       "1992-09-24   -0.564532\n",
       "1992-09-25    0.344585\n",
       "1992-09-26   -0.513278\n",
       "Freq: D, dtype: float64"
      ]
     },
     "execution_count": 86,
     "metadata": {},
     "output_type": "execute_result"
    }
   ],
   "source": [
    "s.tail()"
   ]
  },
  {
   "cell_type": "code",
   "execution_count": 87,
   "metadata": {
    "collapsed": false
   },
   "outputs": [
    {
     "data": {
      "text/plain": [
       "1000"
      ]
     },
     "execution_count": 87,
     "metadata": {},
     "output_type": "execute_result"
    }
   ],
   "source": [
    "len(s)"
   ]
  },
  {
   "cell_type": "code",
   "execution_count": 88,
   "metadata": {
    "collapsed": true
   },
   "outputs": [],
   "source": [
    "s = s.cumsum()      #Generate a cumulative sum"
   ]
  },
  {
   "cell_type": "code",
   "execution_count": 89,
   "metadata": {
    "collapsed": false,
    "scrolled": true
   },
   "outputs": [
    {
     "name": "stderr",
     "output_type": "stream",
     "text": [
      "/home/matthewmckay/anaconda/lib/python3.5/site-packages/ipykernel/__main__.py:1: FutureWarning: pd.rolling_mean is deprecated for Series and will be removed in a future version, replace with \n",
      "\tSeries.rolling(center=True,window=60).mean()\n",
      "  if __name__ == '__main__':\n"
     ]
    }
   ],
   "source": [
    "r = pd.rolling_mean(s, 60, center=True)                    #TODO: Update\n",
    "#Note: r = s.rolling(window=60) [As of Pandas version 0.18]"
   ]
  },
  {
   "cell_type": "code",
   "execution_count": 90,
   "metadata": {
    "collapsed": false
   },
   "outputs": [],
   "source": [
    "data = pd.DataFrame({'s' : s, 'r' : r})"
   ]
  },
  {
   "cell_type": "code",
   "execution_count": 91,
   "metadata": {
    "collapsed": false,
    "scrolled": true
   },
   "outputs": [
    {
     "data": {
      "text/plain": [
       "<matplotlib.axes._subplots.AxesSubplot at 0x7f99a4492518>"
      ]
     },
     "execution_count": 91,
     "metadata": {},
     "output_type": "execute_result"
    },
    {
     "data": {
      "image/png": "[encoded data removed]",
      "text/plain": [
       "<matplotlib.figure.Figure at 0x7f99a44e0668>"
      ]
     },
     "metadata": {},
     "output_type": "display_data"
    }
   ],
   "source": [
    "data.plot()"
   ]
  },
  {
   "cell_type": "markdown",
   "metadata": {},
   "source": [
    "-----------------------------------------------------------------------"
   ]
  },
  {
   "cell_type": "markdown",
   "metadata": {},
   "source": [
    "# Example \\#1: CFNAI Data\n",
    "\n",
    "Replicating the following graph using Pandas\n",
    "\n",
    "1. Working with Hierarchical Data\n",
    "1. Working with datetime objects"
   ]
  },
  {
   "cell_type": "code",
   "execution_count": 92,
   "metadata": {
    "collapsed": false
   },
   "outputs": [
    {
     "data": {
      "image/png": "[encoded data removed]",
      "text/plain": [
       "<IPython.core.display.Image object>"
      ]
     },
     "execution_count": 92,
     "metadata": {},
     "output_type": "execute_result"
    }
   ],
   "source": [
    "Image(\"./cfnai-monthly-ma3-png.png\")"
   ]
  },
  {
   "cell_type": "code",
   "execution_count": 114,
   "metadata": {
    "collapsed": false
   },
   "outputs": [],
   "source": [
    "df = pd.read_excel(\"./cfnai-data-series-xlsx.xlsx\")"
   ]
  },
  {
   "cell_type": "code",
   "execution_count": 115,
   "metadata": {
    "collapsed": false
   },
   "outputs": [
    {
     "data": {
      "text/plain": [
       "Index(['1967:03', '1967:04', '1967:05', '1967:06', '1967:07', '1967:08',\n",
       "       '1967:09', '1967:10', '1967:11', '1967:12',\n",
       "       ...\n",
       "       '2015:06', '2015:07', '2015:08', '2015:09', '2015:10', '2015:11',\n",
       "       '2015:12', '2016:01', '2016:02', '2016:03'],\n",
       "      dtype='object', length=589)"
      ]
     },
     "execution_count": 115,
     "metadata": {},
     "output_type": "execute_result"
    }
   ],
   "source": [
    "df.index"
   ]
  },
  {
   "cell_type": "code",
   "execution_count": 116,
   "metadata": {
    "collapsed": false
   },
   "outputs": [],
   "source": [
    "df.index = df.index.str.split(\":\", expand=True)"
   ]
  },
  {
   "cell_type": "code",
   "execution_count": 117,
   "metadata": {
    "collapsed": false
   },
   "outputs": [],
   "source": [
    "df.index.set_levels(df.index.levels[0].map(lambda x: int(x)), level=0, inplace=True)\n",
    "df.index.set_levels(df.index.levels[1].map(lambda x: int(x)), level=1, inplace=True)"
   ]
  },
  {
   "cell_type": "code",
   "execution_count": 118,
   "metadata": {
    "collapsed": false
   },
   "outputs": [],
   "source": [
    "df.index.names = [\"year\",\"month\"]"
   ]
  },
  {
   "cell_type": "code",
   "execution_count": 119,
   "metadata": {
    "collapsed": false
   },
   "outputs": [
    {
     "data": {
      "text/html": [
       "<div>\n",
       "<table border=\"1\" class=\"dataframe\">\n",
       "  <thead>\n",
       "    <tr style=\"text-align: right;\">\n",
       "      <th></th>\n",
       "      <th></th>\n",
       "      <th>P_I</th>\n",
       "      <th>EU_H</th>\n",
       "      <th>C_H</th>\n",
       "      <th>SO_I</th>\n",
       "      <th>CFNAI</th>\n",
       "      <th>CFNAI_MA3</th>\n",
       "      <th>DIFFUSION</th>\n",
       "    </tr>\n",
       "    <tr>\n",
       "      <th>year</th>\n",
       "      <th>month</th>\n",
       "      <th></th>\n",
       "      <th></th>\n",
       "      <th></th>\n",
       "      <th></th>\n",
       "      <th></th>\n",
       "      <th></th>\n",
       "      <th></th>\n",
       "    </tr>\n",
       "  </thead>\n",
       "  <tbody>\n",
       "    <tr>\n",
       "      <th rowspan=\"5\" valign=\"top\">1967</th>\n",
       "      <th>3</th>\n",
       "      <td>-0.369880</td>\n",
       "      <td>-0.062517</td>\n",
       "      <td>-0.036264</td>\n",
       "      <td>-0.021383</td>\n",
       "      <td>-0.490010</td>\n",
       "      <td>NaN</td>\n",
       "      <td>NaN</td>\n",
       "    </tr>\n",
       "    <tr>\n",
       "      <th>4</th>\n",
       "      <td>0.223156</td>\n",
       "      <td>-0.243228</td>\n",
       "      <td>-0.008409</td>\n",
       "      <td>-0.114427</td>\n",
       "      <td>-0.142874</td>\n",
       "      <td>NaN</td>\n",
       "      <td>NaN</td>\n",
       "    </tr>\n",
       "    <tr>\n",
       "      <th>5</th>\n",
       "      <td>-0.611894</td>\n",
       "      <td>0.111490</td>\n",
       "      <td>-0.057219</td>\n",
       "      <td>-0.103701</td>\n",
       "      <td>-0.661290</td>\n",
       "      <td>-0.431391</td>\n",
       "      <td>-0.217897</td>\n",
       "    </tr>\n",
       "    <tr>\n",
       "      <th>6</th>\n",
       "      <td>-0.150152</td>\n",
       "      <td>0.102446</td>\n",
       "      <td>0.071709</td>\n",
       "      <td>-0.034229</td>\n",
       "      <td>-0.010192</td>\n",
       "      <td>-0.271452</td>\n",
       "      <td>-0.199257</td>\n",
       "    </tr>\n",
       "    <tr>\n",
       "      <th>7</th>\n",
       "      <td>-0.283465</td>\n",
       "      <td>0.193661</td>\n",
       "      <td>-0.066431</td>\n",
       "      <td>-0.186489</td>\n",
       "      <td>-0.342690</td>\n",
       "      <td>-0.338057</td>\n",
       "      <td>-0.247779</td>\n",
       "    </tr>\n",
       "  </tbody>\n",
       "</table>\n",
       "</div>"
      ],
      "text/plain": [
       "                 P_I      EU_H       C_H      SO_I     CFNAI  CFNAI_MA3  \\\n",
       "year month                                                                \n",
       "1967 3     -0.369880 -0.062517 -0.036264 -0.021383 -0.490010        NaN   \n",
       "     4      0.223156 -0.243228 -0.008409 -0.114427 -0.142874        NaN   \n",
       "     5     -0.611894  0.111490 -0.057219 -0.103701 -0.661290  -0.431391   \n",
       "     6     -0.150152  0.102446  0.071709 -0.034229 -0.010192  -0.271452   \n",
       "     7     -0.283465  0.193661 -0.066431 -0.186489 -0.342690  -0.338057   \n",
       "\n",
       "            DIFFUSION  \n",
       "year month             \n",
       "1967 3            NaN  \n",
       "     4            NaN  \n",
       "     5      -0.217897  \n",
       "     6      -0.199257  \n",
       "     7      -0.247779  "
      ]
     },
     "execution_count": 119,
     "metadata": {},
     "output_type": "execute_result"
    }
   ],
   "source": [
    "df.head()"
   ]
  },
  {
   "cell_type": "code",
   "execution_count": 128,
   "metadata": {
    "collapsed": false
   },
   "outputs": [
    {
     "data": {
      "text/plain": [
       "<matplotlib.axes._subplots.AxesSubplot at 0x7f999bf7bc88>"
      ]
     },
     "execution_count": 128,
     "metadata": {},
     "output_type": "execute_result"
    },
    {
     "data": {
      "image/png": "[encoded data removed]",
      "text/plain": [
       "<matplotlib.figure.Figure at 0x7f999bf88c88>"
      ]
     },
     "metadata": {},
     "output_type": "display_data"
    }
   ],
   "source": [
    "df.ix[2003:2016]['CFNAI'].plot()"
   ]
  },
  {
   "cell_type": "code",
   "execution_count": 126,
   "metadata": {
    "collapsed": false
   },
   "outputs": [
    {
     "data": {
      "text/html": [
       "<div>\n",
       "<table border=\"1\" class=\"dataframe\">\n",
       "  <thead>\n",
       "    <tr style=\"text-align: right;\">\n",
       "      <th></th>\n",
       "      <th></th>\n",
       "      <th>P_I</th>\n",
       "      <th>EU_H</th>\n",
       "      <th>C_H</th>\n",
       "      <th>SO_I</th>\n",
       "    </tr>\n",
       "    <tr>\n",
       "      <th>year</th>\n",
       "      <th>month</th>\n",
       "      <th></th>\n",
       "      <th></th>\n",
       "      <th></th>\n",
       "      <th></th>\n",
       "    </tr>\n",
       "  </thead>\n",
       "  <tbody>\n",
       "    <tr>\n",
       "      <th rowspan=\"5\" valign=\"top\">2003</th>\n",
       "      <th>1</th>\n",
       "      <td>0.161773</td>\n",
       "      <td>0.059513</td>\n",
       "      <td>0.062086</td>\n",
       "      <td>0.119393</td>\n",
       "    </tr>\n",
       "    <tr>\n",
       "      <th>2</th>\n",
       "      <td>-0.008320</td>\n",
       "      <td>-0.431139</td>\n",
       "      <td>-0.066996</td>\n",
       "      <td>-0.154053</td>\n",
       "    </tr>\n",
       "    <tr>\n",
       "      <th>3</th>\n",
       "      <td>-0.137302</td>\n",
       "      <td>-0.476053</td>\n",
       "      <td>0.114220</td>\n",
       "      <td>0.025863</td>\n",
       "    </tr>\n",
       "    <tr>\n",
       "      <th>4</th>\n",
       "      <td>-0.539615</td>\n",
       "      <td>-0.374927</td>\n",
       "      <td>0.092435</td>\n",
       "      <td>-0.206530</td>\n",
       "    </tr>\n",
       "    <tr>\n",
       "      <th>5</th>\n",
       "      <td>-0.042670</td>\n",
       "      <td>-0.277445</td>\n",
       "      <td>0.084537</td>\n",
       "      <td>0.072942</td>\n",
       "    </tr>\n",
       "  </tbody>\n",
       "</table>\n",
       "</div>"
      ],
      "text/plain": [
       "                 P_I      EU_H       C_H      SO_I\n",
       "year month                                        \n",
       "2003 1      0.161773  0.059513  0.062086  0.119393\n",
       "     2     -0.008320 -0.431139 -0.066996 -0.154053\n",
       "     3     -0.137302 -0.476053  0.114220  0.025863\n",
       "     4     -0.539615 -0.374927  0.092435 -0.206530\n",
       "     5     -0.042670 -0.277445  0.084537  0.072942"
      ]
     },
     "execution_count": 126,
     "metadata": {},
     "output_type": "execute_result"
    }
   ],
   "source": [
    "df.ix[2003:2016][['P_I', 'EU_H', 'C_H', 'SO_I']].head()"
   ]
  },
  {
   "cell_type": "code",
   "execution_count": 151,
   "metadata": {
    "collapsed": false
   },
   "outputs": [
    {
     "data": {
      "text/plain": [
       "<matplotlib.axes._subplots.AxesSubplot at 0x7f998817fc88>"
      ]
     },
     "execution_count": 151,
     "metadata": {},
     "output_type": "execute_result"
    },
    {
     "data": {
      "image/png": "[encoded data removed]",
      "text/plain": [
       "<matplotlib.figure.Figure at 0x7f9993117c50>"
      ]
     },
     "metadata": {},
     "output_type": "display_data"
    }
   ],
   "source": [
    "df.ix[2003:2016][['P_I', 'EU_H', 'C_H', 'SO_I']].plot(kind='bar', stacked=True)"
   ]
  },
  {
   "cell_type": "code",
   "execution_count": 150,
   "metadata": {
    "collapsed": false
   },
   "outputs": [
    {
     "data": {
      "text/plain": [
       "<matplotlib.axes._subplots.AxesSubplot at 0x7f9989340b38>"
      ]
     },
     "execution_count": 150,
     "metadata": {},
     "output_type": "execute_result"
    },
    {
     "data": {
      "image/png": "[encoded data removed]",
      "text/plain": [
       "<matplotlib.figure.Figure at 0x7f9988a2f5c0>"
      ]
     },
     "metadata": {},
     "output_type": "display_data"
    }
   ],
   "source": [
    "#-Produce Composite Charts-#\n",
    "import matplotlib.pyplot as plt\n",
    "from matplotlib import cm\n",
    "fig = plt.figure(figsize=(15, 15))\n",
    "df.ix[2003:2016][['P_I', 'EU_H', 'C_H', 'SO_I']].plot(ax=fig.gca(), kind='bar', stacked=True, colormap=cm.viridis)\n",
    "df.ix[2003:2016]['CFNAI_MA3'].plot(ax=fig.gca(), color=\"black\", linewidth=3)"
   ]
  },
  {
   "cell_type": "code",
   "execution_count": null,
   "metadata": {
    "collapsed": true
   },
   "outputs": [],
   "source": []
  },
  {
   "cell_type": "markdown",
   "metadata": {},
   "source": [
    "### Using Datetime Objects"
   ]
  },
  {
   "cell_type": "code",
   "execution_count": 152,
   "metadata": {
    "collapsed": false
   },
   "outputs": [],
   "source": [
    "df = pd.read_excel(\"./cfnai-data-series-xlsx.xlsx\")\n",
    "df.index = df.index.str.split(\":\", expand=True)\n",
    "# df.index.set_levels(df.index.levels[0].map(lambda x: int(x)), level=0, inplace=True)\n",
    "# df.index.set_levels(df.index.levels[1].map(lambda x: int(x)), level=1, inplace=True)\n",
    "df.index.names = [\"year\",\"month\"]\n",
    "df.reset_index(inplace=True)"
   ]
  },
  {
   "cell_type": "code",
   "execution_count": 153,
   "metadata": {
    "collapsed": false
   },
   "outputs": [
    {
     "data": {
      "text/html": [
       "<div>\n",
       "<table border=\"1\" class=\"dataframe\">\n",
       "  <thead>\n",
       "    <tr style=\"text-align: right;\">\n",
       "      <th></th>\n",
       "      <th>year</th>\n",
       "      <th>month</th>\n",
       "      <th>P_I</th>\n",
       "      <th>EU_H</th>\n",
       "      <th>C_H</th>\n",
       "      <th>SO_I</th>\n",
       "      <th>CFNAI</th>\n",
       "      <th>CFNAI_MA3</th>\n",
       "      <th>DIFFUSION</th>\n",
       "    </tr>\n",
       "  </thead>\n",
       "  <tbody>\n",
       "    <tr>\n",
       "      <th>0</th>\n",
       "      <td>1967</td>\n",
       "      <td>03</td>\n",
       "      <td>-0.369880</td>\n",
       "      <td>-0.062517</td>\n",
       "      <td>-0.036264</td>\n",
       "      <td>-0.021383</td>\n",
       "      <td>-0.490010</td>\n",
       "      <td>NaN</td>\n",
       "      <td>NaN</td>\n",
       "    </tr>\n",
       "    <tr>\n",
       "      <th>1</th>\n",
       "      <td>1967</td>\n",
       "      <td>04</td>\n",
       "      <td>0.223156</td>\n",
       "      <td>-0.243228</td>\n",
       "      <td>-0.008409</td>\n",
       "      <td>-0.114427</td>\n",
       "      <td>-0.142874</td>\n",
       "      <td>NaN</td>\n",
       "      <td>NaN</td>\n",
       "    </tr>\n",
       "    <tr>\n",
       "      <th>2</th>\n",
       "      <td>1967</td>\n",
       "      <td>05</td>\n",
       "      <td>-0.611894</td>\n",
       "      <td>0.111490</td>\n",
       "      <td>-0.057219</td>\n",
       "      <td>-0.103701</td>\n",
       "      <td>-0.661290</td>\n",
       "      <td>-0.431391</td>\n",
       "      <td>-0.217897</td>\n",
       "    </tr>\n",
       "    <tr>\n",
       "      <th>3</th>\n",
       "      <td>1967</td>\n",
       "      <td>06</td>\n",
       "      <td>-0.150152</td>\n",
       "      <td>0.102446</td>\n",
       "      <td>0.071709</td>\n",
       "      <td>-0.034229</td>\n",
       "      <td>-0.010192</td>\n",
       "      <td>-0.271452</td>\n",
       "      <td>-0.199257</td>\n",
       "    </tr>\n",
       "    <tr>\n",
       "      <th>4</th>\n",
       "      <td>1967</td>\n",
       "      <td>07</td>\n",
       "      <td>-0.283465</td>\n",
       "      <td>0.193661</td>\n",
       "      <td>-0.066431</td>\n",
       "      <td>-0.186489</td>\n",
       "      <td>-0.342690</td>\n",
       "      <td>-0.338057</td>\n",
       "      <td>-0.247779</td>\n",
       "    </tr>\n",
       "  </tbody>\n",
       "</table>\n",
       "</div>"
      ],
      "text/plain": [
       "   year month       P_I      EU_H       C_H      SO_I     CFNAI  CFNAI_MA3  \\\n",
       "0  1967    03 -0.369880 -0.062517 -0.036264 -0.021383 -0.490010        NaN   \n",
       "1  1967    04  0.223156 -0.243228 -0.008409 -0.114427 -0.142874        NaN   \n",
       "2  1967    05 -0.611894  0.111490 -0.057219 -0.103701 -0.661290  -0.431391   \n",
       "3  1967    06 -0.150152  0.102446  0.071709 -0.034229 -0.010192  -0.271452   \n",
       "4  1967    07 -0.283465  0.193661 -0.066431 -0.186489 -0.342690  -0.338057   \n",
       "\n",
       "   DIFFUSION  \n",
       "0        NaN  \n",
       "1        NaN  \n",
       "2  -0.217897  \n",
       "3  -0.199257  \n",
       "4  -0.247779  "
      ]
     },
     "execution_count": 153,
     "metadata": {},
     "output_type": "execute_result"
    }
   ],
   "source": [
    "df.head()"
   ]
  },
  {
   "cell_type": "code",
   "execution_count": 154,
   "metadata": {
    "collapsed": false,
    "scrolled": true
   },
   "outputs": [],
   "source": [
    "df['day'] = 1\n",
    "df.index = pd.to_datetime(df[['year','month', 'day']])\n",
    "df.drop(['year','month','day'], axis=1, inplace=True)"
   ]
  },
  {
   "cell_type": "code",
   "execution_count": 155,
   "metadata": {
    "collapsed": false
   },
   "outputs": [
    {
     "data": {
      "text/plain": [
       "DatetimeIndex(['1967-03-01', '1967-04-01', '1967-05-01', '1967-06-01',\n",
       "               '1967-07-01', '1967-08-01', '1967-09-01', '1967-10-01',\n",
       "               '1967-11-01', '1967-12-01',\n",
       "               ...\n",
       "               '2015-06-01', '2015-07-01', '2015-08-01', '2015-09-01',\n",
       "               '2015-10-01', '2015-11-01', '2015-12-01', '2016-01-01',\n",
       "               '2016-02-01', '2016-03-01'],\n",
       "              dtype='datetime64[ns]', length=589, freq=None)"
      ]
     },
     "execution_count": 155,
     "metadata": {},
     "output_type": "execute_result"
    }
   ],
   "source": [
    "df.index"
   ]
  },
  {
   "cell_type": "code",
   "execution_count": 156,
   "metadata": {
    "collapsed": false,
    "scrolled": true
   },
   "outputs": [
    {
     "data": {
      "text/plain": [
       "<matplotlib.axes._subplots.AxesSubplot at 0x7f998752b128>"
      ]
     },
     "execution_count": 156,
     "metadata": {},
     "output_type": "execute_result"
    },
    {
     "data": {
      "image/png": "[encoded data removed]",
      "text/plain": [
       "<matplotlib.figure.Figure at 0x7f9988366e10>"
      ]
     },
     "metadata": {},
     "output_type": "display_data"
    }
   ],
   "source": [
    "df.ix['2003':'2018']['CFNAI'].plot()"
   ]
  },
  {
   "cell_type": "code",
   "execution_count": 162,
   "metadata": {
    "collapsed": false
   },
   "outputs": [
    {
     "data": {
      "text/html": [
       "<div>\n",
       "<table border=\"1\" class=\"dataframe\">\n",
       "  <thead>\n",
       "    <tr style=\"text-align: right;\">\n",
       "      <th></th>\n",
       "      <th>P_I</th>\n",
       "      <th>EU_H</th>\n",
       "      <th>C_H</th>\n",
       "      <th>SO_I</th>\n",
       "    </tr>\n",
       "  </thead>\n",
       "  <tbody>\n",
       "    <tr>\n",
       "      <th>2003-01-01</th>\n",
       "      <td>0.161773</td>\n",
       "      <td>0.059513</td>\n",
       "      <td>0.062086</td>\n",
       "      <td>0.119393</td>\n",
       "    </tr>\n",
       "    <tr>\n",
       "      <th>2003-02-01</th>\n",
       "      <td>-0.008320</td>\n",
       "      <td>-0.431139</td>\n",
       "      <td>-0.066996</td>\n",
       "      <td>-0.154053</td>\n",
       "    </tr>\n",
       "    <tr>\n",
       "      <th>2003-03-01</th>\n",
       "      <td>-0.137302</td>\n",
       "      <td>-0.476053</td>\n",
       "      <td>0.114220</td>\n",
       "      <td>0.025863</td>\n",
       "    </tr>\n",
       "    <tr>\n",
       "      <th>2003-04-01</th>\n",
       "      <td>-0.539615</td>\n",
       "      <td>-0.374927</td>\n",
       "      <td>0.092435</td>\n",
       "      <td>-0.206530</td>\n",
       "    </tr>\n",
       "    <tr>\n",
       "      <th>2003-05-01</th>\n",
       "      <td>-0.042670</td>\n",
       "      <td>-0.277445</td>\n",
       "      <td>0.084537</td>\n",
       "      <td>0.072942</td>\n",
       "    </tr>\n",
       "  </tbody>\n",
       "</table>\n",
       "</div>"
      ],
      "text/plain": [
       "                 P_I      EU_H       C_H      SO_I\n",
       "2003-01-01  0.161773  0.059513  0.062086  0.119393\n",
       "2003-02-01 -0.008320 -0.431139 -0.066996 -0.154053\n",
       "2003-03-01 -0.137302 -0.476053  0.114220  0.025863\n",
       "2003-04-01 -0.539615 -0.374927  0.092435 -0.206530\n",
       "2003-05-01 -0.042670 -0.277445  0.084537  0.072942"
      ]
     },
     "execution_count": 162,
     "metadata": {},
     "output_type": "execute_result"
    }
   ],
   "source": [
    "df.ix['2003':'2018'][['P_I', 'EU_H', 'C_H', 'SO_I']].head()"
   ]
  },
  {
   "cell_type": "code",
   "execution_count": 206,
   "metadata": {
    "collapsed": false,
    "scrolled": false
   },
   "outputs": [
    {
     "data": {
      "image/png": "[encoded data removed]",
      "text/plain": [
       "<matplotlib.figure.Figure at 0x7f9976a27198>"
      ]
     },
     "metadata": {},
     "output_type": "display_data"
    }
   ],
   "source": [
    "#-Produce Composite Chart-#\n",
    "import matplotlib.pyplot as plt\n",
    "from matplotlib import cm\n",
    "fig = plt.figure(figsize=(20, 10))\n",
    "ax = fig.gca()\n",
    "df.ix['2003':'2018'][['P_I', 'EU_H', 'C_H', 'SO_I']].plot(ax=ax, kind='bar', stacked=True, colormap=cm.viridis, use_index=False)\n",
    "df.ix['2003':'2018'][['CFNAI_MA3']].plot(ax=ax, color=\"black\", linewidth=3, use_index=False)\n",
    "ax.set_title(\"CFNAI Data [2003 to 2018]\");"
   ]
  },
  {
   "cell_type": "code",
   "execution_count": 184,
   "metadata": {
    "collapsed": false
   },
   "outputs": [
    {
     "data": {
      "text/plain": [
       "array([2003, 2003, 2003, 2003, 2003, 2003, 2003, 2003, 2003, 2003, 2003,\n",
       "       2003, 2004, 2004, 2004, 2004, 2004, 2004, 2004, 2004, 2004, 2004,\n",
       "       2004, 2004, 2005, 2005, 2005, 2005, 2005, 2005, 2005, 2005, 2005,\n",
       "       2005, 2005, 2005, 2006, 2006, 2006, 2006, 2006, 2006, 2006, 2006,\n",
       "       2006, 2006, 2006, 2006, 2007, 2007, 2007, 2007, 2007, 2007, 2007,\n",
       "       2007, 2007, 2007, 2007, 2007, 2008, 2008, 2008, 2008, 2008, 2008,\n",
       "       2008, 2008, 2008, 2008, 2008, 2008, 2009, 2009, 2009, 2009, 2009,\n",
       "       2009, 2009, 2009, 2009, 2009, 2009, 2009, 2010, 2010, 2010, 2010,\n",
       "       2010, 2010, 2010, 2010, 2010, 2010, 2010, 2010, 2011, 2011, 2011,\n",
       "       2011, 2011, 2011, 2011, 2011, 2011, 2011, 2011, 2011, 2012, 2012,\n",
       "       2012, 2012, 2012, 2012, 2012, 2012, 2012, 2012, 2012, 2012, 2013,\n",
       "       2013, 2013, 2013, 2013, 2013, 2013, 2013, 2013, 2013, 2013, 2013,\n",
       "       2014, 2014, 2014, 2014, 2014, 2014, 2014, 2014, 2014, 2014, 2014,\n",
       "       2014, 2015, 2015, 2015, 2015, 2015, 2015, 2015, 2015, 2015, 2015,\n",
       "       2015, 2015, 2016, 2016, 2016, 2016, 2016, 2016, 2016, 2016, 2016,\n",
       "       2016, 2016, 2016, 2017, 2017, 2017, 2017, 2017, 2017, 2017, 2017,\n",
       "       2017, 2017, 2017, 2017], dtype=int32)"
      ]
     },
     "execution_count": 184,
     "metadata": {},
     "output_type": "execute_result"
    }
   ],
   "source": [
    "dates = pd.date_range(start=\"2003\",end=\"2018\", freq='M')\n",
    "dates.year"
   ]
  },
  {
   "cell_type": "code",
   "execution_count": 185,
   "metadata": {
    "collapsed": false
   },
   "outputs": [],
   "source": [
    "#TODO: FIX X-AXIS of GRAPHS"
   ]
  },
  {
   "cell_type": "code",
   "execution_count": null,
   "metadata": {
    "collapsed": false
   },
   "outputs": [],
   "source": [
    "#TODO: Add Sliders for Time Scales and Redrawn Graphs"
   ]
  },
  {
   "cell_type": "markdown",
   "metadata": {},
   "source": [
    "### Bokeh Plot"
   ]
  },
  {
   "cell_type": "code",
   "execution_count": null,
   "metadata": {
    "collapsed": true
   },
   "outputs": [],
   "source": [
    "#TODO: Complete Bokeh Plot (if time permits) for interactive charts"
   ]
  },
  {
   "cell_type": "code",
   "execution_count": null,
   "metadata": {
    "collapsed": true
   },
   "outputs": [],
   "source": []
  },
  {
   "cell_type": "code",
   "execution_count": null,
   "metadata": {
    "collapsed": true
   },
   "outputs": [],
   "source": []
  },
  {
   "cell_type": "code",
   "execution_count": null,
   "metadata": {
    "collapsed": true
   },
   "outputs": [],
   "source": []
  },
  {
   "cell_type": "markdown",
   "metadata": {},
   "source": [
    "======================================================================================================================="
   ]
  },
  {
   "cell_type": "markdown",
   "metadata": {},
   "source": [
    "## Medium Sized DataSets (International Trade)\n",
    "\n",
    "Some problems start to become large and may demand working with more sophisticated tools such as **pandas**. Very large problems require data management tools such as SQL, NoSQL, and Graph based Datasets; but a large number of problems are in between: not small enough for Excel and manual manipulation, but annoyingly small to have to learn database management. **Pandas** sits in this space nicely as a spreadsheet type abstraction that is scalable. Pandas is focused on **in-memory** datasets (i.e. datasets that can fit into RAM)\n",
    "\n",
    "Let's consider Product Level International Exports data for the world economy.\n",
    "\n",
    "**Files Required:**\n",
    "Go to http://atlas.media.mit.edu/en/resources/data/ and download\n",
    "1. SITC4 Rev. 2 (1962 to 2013) - \"Product Trade between Origin and Destination Country by Year (bilateral)\"\n",
    "2. \"Country Names\"\n",
    "3. \"SITC Revision 2 Product Names\"\n"
   ]
  },
  {
   "cell_type": "code",
   "execution_count": 91,
   "metadata": {
    "collapsed": true
   },
   "outputs": [],
   "source": [
    "export = \"data/year_origin_sitc_rev2.tsv\"\n",
    "cname = \"data/country_names.tsv\"\n",
    "pname = \"data/products_sitc_rev2.tsv\""
   ]
  },
  {
   "cell_type": "code",
   "execution_count": 92,
   "metadata": {
    "collapsed": false
   },
   "outputs": [],
   "source": [
    "export = pd.read_csv(export, sep='\\t')\n",
    "cname = pd.read_csv(cname, sep='\\t')\n",
    "pname = pd.read_csv(pname, sep='\\t')"
   ]
  },
  {
   "cell_type": "markdown",
   "metadata": {},
   "source": [
    "#### Let's take look at the data"
   ]
  },
  {
   "cell_type": "code",
   "execution_count": 93,
   "metadata": {
    "collapsed": false
   },
   "outputs": [
    {
     "data": {
      "text/html": [
       "<div>\n",
       "<table border=\"1\" class=\"dataframe\">\n",
       "  <thead>\n",
       "    <tr style=\"text-align: right;\">\n",
       "      <th></th>\n",
       "      <th>year</th>\n",
       "      <th>origin</th>\n",
       "      <th>sitc_rev2</th>\n",
       "      <th>export_val</th>\n",
       "      <th>import_val</th>\n",
       "      <th>export_rca</th>\n",
       "      <th>import_rca</th>\n",
       "    </tr>\n",
       "  </thead>\n",
       "  <tbody>\n",
       "    <tr>\n",
       "      <th>0</th>\n",
       "      <td>1962</td>\n",
       "      <td>afg</td>\n",
       "      <td>230</td>\n",
       "      <td>4000</td>\n",
       "      <td>2000</td>\n",
       "      <td>0.013854</td>\n",
       "      <td>NaN</td>\n",
       "    </tr>\n",
       "    <tr>\n",
       "      <th>1</th>\n",
       "      <td>1962</td>\n",
       "      <td>afg</td>\n",
       "      <td>250</td>\n",
       "      <td>66000</td>\n",
       "      <td>0</td>\n",
       "      <td>0.384611</td>\n",
       "      <td>NaN</td>\n",
       "    </tr>\n",
       "    <tr>\n",
       "      <th>2</th>\n",
       "      <td>1962</td>\n",
       "      <td>afg</td>\n",
       "      <td>540</td>\n",
       "      <td>74000</td>\n",
       "      <td>0</td>\n",
       "      <td>2.358660</td>\n",
       "      <td>NaN</td>\n",
       "    </tr>\n",
       "    <tr>\n",
       "      <th>3</th>\n",
       "      <td>1962</td>\n",
       "      <td>afg</td>\n",
       "      <td>545</td>\n",
       "      <td>17000</td>\n",
       "      <td>0</td>\n",
       "      <td>0.074049</td>\n",
       "      <td>NaN</td>\n",
       "    </tr>\n",
       "    <tr>\n",
       "      <th>4</th>\n",
       "      <td>1962</td>\n",
       "      <td>afg</td>\n",
       "      <td>548</td>\n",
       "      <td>33000</td>\n",
       "      <td>0</td>\n",
       "      <td>0.691940</td>\n",
       "      <td>NaN</td>\n",
       "    </tr>\n",
       "  </tbody>\n",
       "</table>\n",
       "</div>"
      ],
      "text/plain": [
       "   year origin  sitc_rev2  export_val  import_val  export_rca  import_rca\n",
       "0  1962    afg        230        4000        2000    0.013854         NaN\n",
       "1  1962    afg        250       66000           0    0.384611         NaN\n",
       "2  1962    afg        540       74000           0    2.358660         NaN\n",
       "3  1962    afg        545       17000           0    0.074049         NaN\n",
       "4  1962    afg        548       33000           0    0.691940         NaN"
      ]
     },
     "execution_count": 93,
     "metadata": {},
     "output_type": "execute_result"
    }
   ],
   "source": [
    "export.head()"
   ]
  },
  {
   "cell_type": "code",
   "execution_count": 94,
   "metadata": {
    "collapsed": false
   },
   "outputs": [
    {
     "data": {
      "text/html": [
       "<div>\n",
       "<table border=\"1\" class=\"dataframe\">\n",
       "  <thead>\n",
       "    <tr style=\"text-align: right;\">\n",
       "      <th></th>\n",
       "      <th>id</th>\n",
       "      <th>id_3char</th>\n",
       "      <th>name</th>\n",
       "    </tr>\n",
       "  </thead>\n",
       "  <tbody>\n",
       "    <tr>\n",
       "      <th>0</th>\n",
       "      <td>afago</td>\n",
       "      <td>ago</td>\n",
       "      <td>Angola</td>\n",
       "    </tr>\n",
       "    <tr>\n",
       "      <th>1</th>\n",
       "      <td>afbdi</td>\n",
       "      <td>bdi</td>\n",
       "      <td>Burundi</td>\n",
       "    </tr>\n",
       "    <tr>\n",
       "      <th>2</th>\n",
       "      <td>afben</td>\n",
       "      <td>ben</td>\n",
       "      <td>Benin</td>\n",
       "    </tr>\n",
       "    <tr>\n",
       "      <th>3</th>\n",
       "      <td>afbfa</td>\n",
       "      <td>bfa</td>\n",
       "      <td>Burkina Faso</td>\n",
       "    </tr>\n",
       "    <tr>\n",
       "      <th>4</th>\n",
       "      <td>afbwa</td>\n",
       "      <td>bwa</td>\n",
       "      <td>Botswana</td>\n",
       "    </tr>\n",
       "  </tbody>\n",
       "</table>\n",
       "</div>"
      ],
      "text/plain": [
       "      id id_3char          name\n",
       "0  afago      ago        Angola\n",
       "1  afbdi      bdi       Burundi\n",
       "2  afben      ben         Benin\n",
       "3  afbfa      bfa  Burkina Faso\n",
       "4  afbwa      bwa      Botswana"
      ]
     },
     "execution_count": 94,
     "metadata": {},
     "output_type": "execute_result"
    }
   ],
   "source": [
    "cname.head()"
   ]
  },
  {
   "cell_type": "code",
   "execution_count": 95,
   "metadata": {
    "collapsed": false
   },
   "outputs": [
    {
     "data": {
      "text/html": [
       "<div>\n",
       "<table border=\"1\" class=\"dataframe\">\n",
       "  <thead>\n",
       "    <tr style=\"text-align: right;\">\n",
       "      <th></th>\n",
       "      <th>id</th>\n",
       "      <th>sitc</th>\n",
       "      <th>name</th>\n",
       "    </tr>\n",
       "  </thead>\n",
       "  <tbody>\n",
       "    <tr>\n",
       "      <th>0</th>\n",
       "      <td>105722</td>\n",
       "      <td>5722</td>\n",
       "      <td>Initiating Devices</td>\n",
       "    </tr>\n",
       "    <tr>\n",
       "      <th>1</th>\n",
       "      <td>105838</td>\n",
       "      <td>5838</td>\n",
       "      <td>Polymerization Ion Exchangers</td>\n",
       "    </tr>\n",
       "    <tr>\n",
       "      <th>2</th>\n",
       "      <td>106250</td>\n",
       "      <td>6250</td>\n",
       "      <td>Rubber tires, tire cases, inner and flaps, for...</td>\n",
       "    </tr>\n",
       "    <tr>\n",
       "      <th>3</th>\n",
       "      <td>106251</td>\n",
       "      <td>6251</td>\n",
       "      <td>Car Tires</td>\n",
       "    </tr>\n",
       "    <tr>\n",
       "      <th>4</th>\n",
       "      <td>106280</td>\n",
       "      <td>6280</td>\n",
       "      <td>Other articles of rubber</td>\n",
       "    </tr>\n",
       "  </tbody>\n",
       "</table>\n",
       "</div>"
      ],
      "text/plain": [
       "       id  sitc                                               name\n",
       "0  105722  5722                                 Initiating Devices\n",
       "1  105838  5838                      Polymerization Ion Exchangers\n",
       "2  106250  6250  Rubber tires, tire cases, inner and flaps, for...\n",
       "3  106251  6251                                          Car Tires\n",
       "4  106280  6280                           Other articles of rubber"
      ]
     },
     "execution_count": 95,
     "metadata": {},
     "output_type": "execute_result"
    }
   ],
   "source": [
    "pname.head()"
   ]
  },
  {
   "cell_type": "code",
   "execution_count": 96,
   "metadata": {
    "collapsed": false
   },
   "outputs": [
    {
     "name": "stdout",
     "output_type": "stream",
     "text": [
      "<class 'pandas.core.frame.DataFrame'>\n",
      "Int64Index: 5002928 entries, 0 to 5002927\n",
      "Data columns (total 7 columns):\n",
      "year          int64\n",
      "origin        object\n",
      "sitc_rev2     int64\n",
      "export_val    float64\n",
      "import_val    float64\n",
      "export_rca    float64\n",
      "import_rca    float64\n",
      "dtypes: float64(4), int64(2), object(1)\n",
      "memory usage: 305.4+ MB\n"
     ]
    }
   ],
   "source": [
    "#-Memory Usage-#\n",
    "export.info()"
   ]
  },
  {
   "cell_type": "markdown",
   "metadata": {},
   "source": [
    "#### Let's Focus on the Export Data"
   ]
  },
  {
   "cell_type": "code",
   "execution_count": 97,
   "metadata": {
    "collapsed": false
   },
   "outputs": [
    {
     "data": {
      "text/html": [
       "<div>\n",
       "<table border=\"1\" class=\"dataframe\">\n",
       "  <thead>\n",
       "    <tr style=\"text-align: right;\">\n",
       "      <th></th>\n",
       "      <th>year</th>\n",
       "      <th>origin</th>\n",
       "      <th>sitc_rev2</th>\n",
       "      <th>export_val</th>\n",
       "      <th>import_val</th>\n",
       "      <th>export_rca</th>\n",
       "      <th>import_rca</th>\n",
       "    </tr>\n",
       "  </thead>\n",
       "  <tbody>\n",
       "    <tr>\n",
       "      <th>0</th>\n",
       "      <td>1962</td>\n",
       "      <td>afg</td>\n",
       "      <td>230</td>\n",
       "      <td>4000</td>\n",
       "      <td>2000</td>\n",
       "      <td>0.013854</td>\n",
       "      <td>NaN</td>\n",
       "    </tr>\n",
       "    <tr>\n",
       "      <th>1</th>\n",
       "      <td>1962</td>\n",
       "      <td>afg</td>\n",
       "      <td>250</td>\n",
       "      <td>66000</td>\n",
       "      <td>0</td>\n",
       "      <td>0.384611</td>\n",
       "      <td>NaN</td>\n",
       "    </tr>\n",
       "    <tr>\n",
       "      <th>2</th>\n",
       "      <td>1962</td>\n",
       "      <td>afg</td>\n",
       "      <td>540</td>\n",
       "      <td>74000</td>\n",
       "      <td>0</td>\n",
       "      <td>2.358660</td>\n",
       "      <td>NaN</td>\n",
       "    </tr>\n",
       "    <tr>\n",
       "      <th>3</th>\n",
       "      <td>1962</td>\n",
       "      <td>afg</td>\n",
       "      <td>545</td>\n",
       "      <td>17000</td>\n",
       "      <td>0</td>\n",
       "      <td>0.074049</td>\n",
       "      <td>NaN</td>\n",
       "    </tr>\n",
       "    <tr>\n",
       "      <th>4</th>\n",
       "      <td>1962</td>\n",
       "      <td>afg</td>\n",
       "      <td>548</td>\n",
       "      <td>33000</td>\n",
       "      <td>0</td>\n",
       "      <td>0.691940</td>\n",
       "      <td>NaN</td>\n",
       "    </tr>\n",
       "  </tbody>\n",
       "</table>\n",
       "</div>"
      ],
      "text/plain": [
       "   year origin  sitc_rev2  export_val  import_val  export_rca  import_rca\n",
       "0  1962    afg        230        4000        2000    0.013854         NaN\n",
       "1  1962    afg        250       66000           0    0.384611         NaN\n",
       "2  1962    afg        540       74000           0    2.358660         NaN\n",
       "3  1962    afg        545       17000           0    0.074049         NaN\n",
       "4  1962    afg        548       33000           0    0.691940         NaN"
      ]
     },
     "execution_count": 97,
     "metadata": {},
     "output_type": "execute_result"
    }
   ],
   "source": [
    "export.head()"
   ]
  },
  {
   "cell_type": "code",
   "execution_count": 98,
   "metadata": {
    "collapsed": false
   },
   "outputs": [
    {
     "data": {
      "text/plain": [
       "(5002928, 7)"
      ]
     },
     "execution_count": 98,
     "metadata": {},
     "output_type": "execute_result"
    }
   ],
   "source": [
    "export.shape"
   ]
  },
  {
   "cell_type": "code",
   "execution_count": 99,
   "metadata": {
    "collapsed": false
   },
   "outputs": [
    {
     "data": {
      "text/html": [
       "<div>\n",
       "<table border=\"1\" class=\"dataframe\">\n",
       "  <thead>\n",
       "    <tr style=\"text-align: right;\">\n",
       "      <th></th>\n",
       "      <th>year</th>\n",
       "      <th>sitc_rev2</th>\n",
       "      <th>export_val</th>\n",
       "      <th>import_val</th>\n",
       "      <th>export_rca</th>\n",
       "      <th>import_rca</th>\n",
       "    </tr>\n",
       "  </thead>\n",
       "  <tbody>\n",
       "    <tr>\n",
       "      <th>count</th>\n",
       "      <td>5002928.000000</td>\n",
       "      <td>5002928.000000</td>\n",
       "      <td>4.918819e+06</td>\n",
       "      <td>4.999516e+06</td>\n",
       "      <td>4918819.000000</td>\n",
       "      <td>3950609.000000</td>\n",
       "    </tr>\n",
       "    <tr>\n",
       "      <th>mean</th>\n",
       "      <td>1993.513410</td>\n",
       "      <td>5548.390583</td>\n",
       "      <td>4.548178e+07</td>\n",
       "      <td>4.458144e+07</td>\n",
       "      <td>2.593615</td>\n",
       "      <td>1.616125</td>\n",
       "    </tr>\n",
       "    <tr>\n",
       "      <th>std</th>\n",
       "      <td>13.116049</td>\n",
       "      <td>2673.359200</td>\n",
       "      <td>7.879395e+08</td>\n",
       "      <td>7.787933e+08</td>\n",
       "      <td>87.795506</td>\n",
       "      <td>21.995977</td>\n",
       "    </tr>\n",
       "    <tr>\n",
       "      <th>min</th>\n",
       "      <td>1962.000000</td>\n",
       "      <td>10.000000</td>\n",
       "      <td>0.000000e+00</td>\n",
       "      <td>0.000000e+00</td>\n",
       "      <td>0.000000</td>\n",
       "      <td>0.000000</td>\n",
       "    </tr>\n",
       "    <tr>\n",
       "      <th>25%</th>\n",
       "      <td>1985.000000</td>\n",
       "      <td>2929.000000</td>\n",
       "      <td>0.000000e+00</td>\n",
       "      <td>4.456700e+04</td>\n",
       "      <td>0.000000</td>\n",
       "      <td>0.130933</td>\n",
       "    </tr>\n",
       "    <tr>\n",
       "      <th>50%</th>\n",
       "      <td>1995.000000</td>\n",
       "      <td>6553.000000</td>\n",
       "      <td>3.672900e+04</td>\n",
       "      <td>6.300000e+05</td>\n",
       "      <td>0.035696</td>\n",
       "      <td>0.522320</td>\n",
       "    </tr>\n",
       "    <tr>\n",
       "      <th>75%</th>\n",
       "      <td>2004.000000</td>\n",
       "      <td>7435.000000</td>\n",
       "      <td>1.670977e+06</td>\n",
       "      <td>6.331729e+06</td>\n",
       "      <td>0.443627</td>\n",
       "      <td>1.307450</td>\n",
       "    </tr>\n",
       "    <tr>\n",
       "      <th>max</th>\n",
       "      <td>2013.000000</td>\n",
       "      <td>9710.000000</td>\n",
       "      <td>3.052372e+11</td>\n",
       "      <td>3.366875e+11</td>\n",
       "      <td>81664.200000</td>\n",
       "      <td>21594.500000</td>\n",
       "    </tr>\n",
       "  </tbody>\n",
       "</table>\n",
       "</div>"
      ],
      "text/plain": [
       "                 year       sitc_rev2    export_val    import_val  \\\n",
       "count  5002928.000000  5002928.000000  4.918819e+06  4.999516e+06   \n",
       "mean      1993.513410     5548.390583  4.548178e+07  4.458144e+07   \n",
       "std         13.116049     2673.359200  7.879395e+08  7.787933e+08   \n",
       "min       1962.000000       10.000000  0.000000e+00  0.000000e+00   \n",
       "25%       1985.000000     2929.000000  0.000000e+00  4.456700e+04   \n",
       "50%       1995.000000     6553.000000  3.672900e+04  6.300000e+05   \n",
       "75%       2004.000000     7435.000000  1.670977e+06  6.331729e+06   \n",
       "max       2013.000000     9710.000000  3.052372e+11  3.366875e+11   \n",
       "\n",
       "           export_rca      import_rca  \n",
       "count  4918819.000000  3950609.000000  \n",
       "mean         2.593615        1.616125  \n",
       "std         87.795506       21.995977  \n",
       "min          0.000000        0.000000  \n",
       "25%          0.000000        0.130933  \n",
       "50%          0.035696        0.522320  \n",
       "75%          0.443627        1.307450  \n",
       "max      81664.200000    21594.500000  "
      ]
     },
     "execution_count": 99,
     "metadata": {},
     "output_type": "execute_result"
    }
   ],
   "source": [
    "export.describe()"
   ]
  },
  {
   "cell_type": "markdown",
   "metadata": {},
   "source": [
    "**Warning:** Be careful with how the data is represented when it is imported. SITC revision 2 codes are typically 4 digits long, that incorporate leading zeros. When working with data always take time to inspect your data"
   ]
  },
  {
   "cell_type": "code",
   "execution_count": 100,
   "metadata": {
    "collapsed": false
   },
   "outputs": [],
   "source": [
    "export = \"data/year_origin_sitc_rev2.tsv\"\n",
    "export = pd.read_csv(export, sep='\\t', converters={'sitc_rev2':str})\n",
    "\n",
    "pname = \"data/products_sitc_rev2.tsv\"\n",
    "pname = pd.read_csv(pname, sep='\\t', converters={'sitc':str})"
   ]
  },
  {
   "cell_type": "code",
   "execution_count": 101,
   "metadata": {
    "collapsed": false
   },
   "outputs": [
    {
     "data": {
      "text/html": [
       "<div>\n",
       "<table border=\"1\" class=\"dataframe\">\n",
       "  <thead>\n",
       "    <tr style=\"text-align: right;\">\n",
       "      <th></th>\n",
       "      <th>year</th>\n",
       "      <th>origin</th>\n",
       "      <th>sitc_rev2</th>\n",
       "      <th>export_val</th>\n",
       "      <th>import_val</th>\n",
       "      <th>export_rca</th>\n",
       "      <th>import_rca</th>\n",
       "    </tr>\n",
       "  </thead>\n",
       "  <tbody>\n",
       "    <tr>\n",
       "      <th>0</th>\n",
       "      <td>1962</td>\n",
       "      <td>afg</td>\n",
       "      <td>0230</td>\n",
       "      <td>4000</td>\n",
       "      <td>2000</td>\n",
       "      <td>0.013854</td>\n",
       "      <td>NaN</td>\n",
       "    </tr>\n",
       "    <tr>\n",
       "      <th>1</th>\n",
       "      <td>1962</td>\n",
       "      <td>afg</td>\n",
       "      <td>0250</td>\n",
       "      <td>66000</td>\n",
       "      <td>0</td>\n",
       "      <td>0.384611</td>\n",
       "      <td>NaN</td>\n",
       "    </tr>\n",
       "    <tr>\n",
       "      <th>2</th>\n",
       "      <td>1962</td>\n",
       "      <td>afg</td>\n",
       "      <td>0540</td>\n",
       "      <td>74000</td>\n",
       "      <td>0</td>\n",
       "      <td>2.358660</td>\n",
       "      <td>NaN</td>\n",
       "    </tr>\n",
       "    <tr>\n",
       "      <th>3</th>\n",
       "      <td>1962</td>\n",
       "      <td>afg</td>\n",
       "      <td>0545</td>\n",
       "      <td>17000</td>\n",
       "      <td>0</td>\n",
       "      <td>0.074049</td>\n",
       "      <td>NaN</td>\n",
       "    </tr>\n",
       "    <tr>\n",
       "      <th>4</th>\n",
       "      <td>1962</td>\n",
       "      <td>afg</td>\n",
       "      <td>0548</td>\n",
       "      <td>33000</td>\n",
       "      <td>0</td>\n",
       "      <td>0.691940</td>\n",
       "      <td>NaN</td>\n",
       "    </tr>\n",
       "  </tbody>\n",
       "</table>\n",
       "</div>"
      ],
      "text/plain": [
       "   year origin sitc_rev2  export_val  import_val  export_rca  import_rca\n",
       "0  1962    afg      0230        4000        2000    0.013854         NaN\n",
       "1  1962    afg      0250       66000           0    0.384611         NaN\n",
       "2  1962    afg      0540       74000           0    2.358660         NaN\n",
       "3  1962    afg      0545       17000           0    0.074049         NaN\n",
       "4  1962    afg      0548       33000           0    0.691940         NaN"
      ]
     },
     "execution_count": 101,
     "metadata": {},
     "output_type": "execute_result"
    }
   ],
   "source": [
    "export.head()"
   ]
  },
  {
   "cell_type": "code",
   "execution_count": 102,
   "metadata": {
    "collapsed": false,
    "scrolled": true
   },
   "outputs": [
    {
     "data": {
      "text/html": [
       "<div>\n",
       "<table border=\"1\" class=\"dataframe\">\n",
       "  <thead>\n",
       "    <tr style=\"text-align: right;\">\n",
       "      <th></th>\n",
       "      <th>year</th>\n",
       "      <th>export_val</th>\n",
       "      <th>import_val</th>\n",
       "      <th>export_rca</th>\n",
       "      <th>import_rca</th>\n",
       "    </tr>\n",
       "  </thead>\n",
       "  <tbody>\n",
       "    <tr>\n",
       "      <th>count</th>\n",
       "      <td>5002928.000000</td>\n",
       "      <td>4.918819e+06</td>\n",
       "      <td>4.999516e+06</td>\n",
       "      <td>4918819.000000</td>\n",
       "      <td>3950609.000000</td>\n",
       "    </tr>\n",
       "    <tr>\n",
       "      <th>mean</th>\n",
       "      <td>1993.513410</td>\n",
       "      <td>4.548178e+07</td>\n",
       "      <td>4.458144e+07</td>\n",
       "      <td>2.593615</td>\n",
       "      <td>1.616125</td>\n",
       "    </tr>\n",
       "    <tr>\n",
       "      <th>std</th>\n",
       "      <td>13.116049</td>\n",
       "      <td>7.879395e+08</td>\n",
       "      <td>7.787933e+08</td>\n",
       "      <td>87.795506</td>\n",
       "      <td>21.995977</td>\n",
       "    </tr>\n",
       "    <tr>\n",
       "      <th>min</th>\n",
       "      <td>1962.000000</td>\n",
       "      <td>0.000000e+00</td>\n",
       "      <td>0.000000e+00</td>\n",
       "      <td>0.000000</td>\n",
       "      <td>0.000000</td>\n",
       "    </tr>\n",
       "    <tr>\n",
       "      <th>25%</th>\n",
       "      <td>1985.000000</td>\n",
       "      <td>0.000000e+00</td>\n",
       "      <td>4.456700e+04</td>\n",
       "      <td>0.000000</td>\n",
       "      <td>0.130933</td>\n",
       "    </tr>\n",
       "    <tr>\n",
       "      <th>50%</th>\n",
       "      <td>1995.000000</td>\n",
       "      <td>3.672900e+04</td>\n",
       "      <td>6.300000e+05</td>\n",
       "      <td>0.035696</td>\n",
       "      <td>0.522320</td>\n",
       "    </tr>\n",
       "    <tr>\n",
       "      <th>75%</th>\n",
       "      <td>2004.000000</td>\n",
       "      <td>1.670977e+06</td>\n",
       "      <td>6.331729e+06</td>\n",
       "      <td>0.443627</td>\n",
       "      <td>1.307450</td>\n",
       "    </tr>\n",
       "    <tr>\n",
       "      <th>max</th>\n",
       "      <td>2013.000000</td>\n",
       "      <td>3.052372e+11</td>\n",
       "      <td>3.366875e+11</td>\n",
       "      <td>81664.200000</td>\n",
       "      <td>21594.500000</td>\n",
       "    </tr>\n",
       "  </tbody>\n",
       "</table>\n",
       "</div>"
      ],
      "text/plain": [
       "                 year    export_val    import_val      export_rca  \\\n",
       "count  5002928.000000  4.918819e+06  4.999516e+06  4918819.000000   \n",
       "mean      1993.513410  4.548178e+07  4.458144e+07        2.593615   \n",
       "std         13.116049  7.879395e+08  7.787933e+08       87.795506   \n",
       "min       1962.000000  0.000000e+00  0.000000e+00        0.000000   \n",
       "25%       1985.000000  0.000000e+00  4.456700e+04        0.000000   \n",
       "50%       1995.000000  3.672900e+04  6.300000e+05        0.035696   \n",
       "75%       2004.000000  1.670977e+06  6.331729e+06        0.443627   \n",
       "max       2013.000000  3.052372e+11  3.366875e+11    81664.200000   \n",
       "\n",
       "           import_rca  \n",
       "count  3950609.000000  \n",
       "mean         1.616125  \n",
       "std         21.995977  \n",
       "min          0.000000  \n",
       "25%          0.130933  \n",
       "50%          0.522320  \n",
       "75%          1.307450  \n",
       "max      21594.500000  "
      ]
     },
     "execution_count": 102,
     "metadata": {},
     "output_type": "execute_result"
    }
   ],
   "source": [
    "export.describe()"
   ]
  },
  {
   "cell_type": "code",
   "execution_count": 103,
   "metadata": {
    "collapsed": false
   },
   "outputs": [
    {
     "name": "stdout",
     "output_type": "stream",
     "text": [
      "<class 'pandas.core.frame.DataFrame'>\n",
      "Int64Index: 5002928 entries, 0 to 5002927\n",
      "Data columns (total 7 columns):\n",
      "year          int64\n",
      "origin        object\n",
      "sitc_rev2     object\n",
      "export_val    float64\n",
      "import_val    float64\n",
      "export_rca    float64\n",
      "import_rca    float64\n",
      "dtypes: float64(4), int64(1), object(2)\n",
      "memory usage: 305.4+ MB\n"
     ]
    }
   ],
   "source": [
    "export.info()"
   ]
  },
  {
   "cell_type": "code",
   "execution_count": 104,
   "metadata": {
    "collapsed": false
   },
   "outputs": [
    {
     "data": {
      "text/plain": [
       "250"
      ]
     },
     "execution_count": 104,
     "metadata": {},
     "output_type": "execute_result"
    }
   ],
   "source": [
    "#-Compute Number of Countries-#\n",
    "export['origin'].drop_duplicates().size"
   ]
  },
  {
   "cell_type": "code",
   "execution_count": 105,
   "metadata": {
    "collapsed": false
   },
   "outputs": [
    {
     "data": {
      "text/plain": [
       "52"
      ]
     },
     "execution_count": 105,
     "metadata": {},
     "output_type": "execute_result"
    }
   ],
   "source": [
    "#-Compute Number of Years-#\n",
    "export['year'].drop_duplicates().size"
   ]
  },
  {
   "cell_type": "code",
   "execution_count": 106,
   "metadata": {
    "collapsed": false
   },
   "outputs": [
    {
     "data": {
      "text/plain": [
       "986"
      ]
     },
     "execution_count": 106,
     "metadata": {},
     "output_type": "execute_result"
    }
   ],
   "source": [
    "#-Compute Number of Products-#\n",
    "export['sitc_rev2'].drop_duplicates().size"
   ]
  },
  {
   "cell_type": "markdown",
   "metadata": {},
   "source": [
    "### Compute RCA Values\n",
    "\n",
    "We can use this Data to Compute a Measure of Comparative Advantage for:\n",
    "1. 250 Countries\n",
    "1. 52 Years, and\n",
    "1. 986 Prodoucts\n",
    "\n",
    "\n",
    "Let's use the standard Balassa definition of Revealed Comparative Advantage (RCA)\n",
    "\n",
    "$$\n",
    "RCA_{cpt} =\\frac{E_{cpt}}{E_{ct}} / \\frac{E_{pt}}{E_t}\n",
    "$$\n",
    "\n",
    "**Reference:** Balassa, B. (1965), Trade Liberalisation and Revealed Comparative Advantage, The Manchester School, 33, 99-123.\n"
   ]
  },
  {
   "cell_type": "code",
   "execution_count": 108,
   "metadata": {
    "collapsed": true
   },
   "outputs": [],
   "source": [
    "data = export[[\"year\",\"origin\",\"sitc_rev2\",\"export_val\",\"export_rca\"]]"
   ]
  },
  {
   "cell_type": "code",
   "execution_count": 109,
   "metadata": {
    "collapsed": false,
    "scrolled": true
   },
   "outputs": [
    {
     "data": {
      "text/html": [
       "<div>\n",
       "<table border=\"1\" class=\"dataframe\">\n",
       "  <thead>\n",
       "    <tr style=\"text-align: right;\">\n",
       "      <th></th>\n",
       "      <th>year</th>\n",
       "      <th>origin</th>\n",
       "      <th>sitc_rev2</th>\n",
       "      <th>export_val</th>\n",
       "      <th>export_rca</th>\n",
       "    </tr>\n",
       "  </thead>\n",
       "  <tbody>\n",
       "    <tr>\n",
       "      <th>0</th>\n",
       "      <td>1962</td>\n",
       "      <td>afg</td>\n",
       "      <td>0230</td>\n",
       "      <td>4000</td>\n",
       "      <td>0.013854</td>\n",
       "    </tr>\n",
       "    <tr>\n",
       "      <th>1</th>\n",
       "      <td>1962</td>\n",
       "      <td>afg</td>\n",
       "      <td>0250</td>\n",
       "      <td>66000</td>\n",
       "      <td>0.384611</td>\n",
       "    </tr>\n",
       "    <tr>\n",
       "      <th>2</th>\n",
       "      <td>1962</td>\n",
       "      <td>afg</td>\n",
       "      <td>0540</td>\n",
       "      <td>74000</td>\n",
       "      <td>2.358660</td>\n",
       "    </tr>\n",
       "    <tr>\n",
       "      <th>3</th>\n",
       "      <td>1962</td>\n",
       "      <td>afg</td>\n",
       "      <td>0545</td>\n",
       "      <td>17000</td>\n",
       "      <td>0.074049</td>\n",
       "    </tr>\n",
       "    <tr>\n",
       "      <th>4</th>\n",
       "      <td>1962</td>\n",
       "      <td>afg</td>\n",
       "      <td>0548</td>\n",
       "      <td>33000</td>\n",
       "      <td>0.691940</td>\n",
       "    </tr>\n",
       "  </tbody>\n",
       "</table>\n",
       "</div>"
      ],
      "text/plain": [
       "   year origin sitc_rev2  export_val  export_rca\n",
       "0  1962    afg      0230        4000    0.013854\n",
       "1  1962    afg      0250       66000    0.384611\n",
       "2  1962    afg      0540       74000    2.358660\n",
       "3  1962    afg      0545       17000    0.074049\n",
       "4  1962    afg      0548       33000    0.691940"
      ]
     },
     "execution_count": 109,
     "metadata": {},
     "output_type": "execute_result"
    }
   ],
   "source": [
    "data.head()"
   ]
  },
  {
   "cell_type": "code",
   "execution_count": 110,
   "metadata": {
    "collapsed": false,
    "scrolled": true
   },
   "outputs": [],
   "source": [
    "cntry_total = data.groupby(by=[\"year\",\"origin\"]).sum()[[\"export_val\"]]\n",
    "cntry_total.columns=['ctotal']\n",
    "product_total = data.groupby(by=[\"year\",\"sitc_rev2\"]).sum()[[\"export_val\"]]\n",
    "product_total.columns=['ptotal']\n",
    "world_total = data.groupby(by=[\"year\"]).sum()[[\"export_val\"]]\n",
    "world_total.columns=['wtotal']"
   ]
  },
  {
   "cell_type": "code",
   "execution_count": 111,
   "metadata": {
    "collapsed": false
   },
   "outputs": [
    {
     "data": {
      "text/html": [
       "<div>\n",
       "<table border=\"1\" class=\"dataframe\">\n",
       "  <thead>\n",
       "    <tr style=\"text-align: right;\">\n",
       "      <th></th>\n",
       "      <th></th>\n",
       "      <th>ctotal</th>\n",
       "    </tr>\n",
       "    <tr>\n",
       "      <th>year</th>\n",
       "      <th>origin</th>\n",
       "      <th></th>\n",
       "    </tr>\n",
       "  </thead>\n",
       "  <tbody>\n",
       "    <tr>\n",
       "      <th rowspan=\"5\" valign=\"top\">1962</th>\n",
       "      <th>afg</th>\n",
       "      <td>86135000</td>\n",
       "    </tr>\n",
       "    <tr>\n",
       "      <th>ago</th>\n",
       "      <td>119458000</td>\n",
       "    </tr>\n",
       "    <tr>\n",
       "      <th>alb</th>\n",
       "      <td>2688000</td>\n",
       "    </tr>\n",
       "    <tr>\n",
       "      <th>are</th>\n",
       "      <td>2000</td>\n",
       "    </tr>\n",
       "    <tr>\n",
       "      <th>arg</th>\n",
       "      <td>1430519000</td>\n",
       "    </tr>\n",
       "  </tbody>\n",
       "</table>\n",
       "</div>"
      ],
      "text/plain": [
       "                 ctotal\n",
       "year origin            \n",
       "1962 afg       86135000\n",
       "     ago      119458000\n",
       "     alb        2688000\n",
       "     are           2000\n",
       "     arg     1430519000"
      ]
     },
     "execution_count": 111,
     "metadata": {},
     "output_type": "execute_result"
    }
   ],
   "source": [
    "cntry_total.head()"
   ]
  },
  {
   "cell_type": "code",
   "execution_count": 112,
   "metadata": {
    "collapsed": false
   },
   "outputs": [
    {
     "data": {
      "text/html": [
       "<div>\n",
       "<table border=\"1\" class=\"dataframe\">\n",
       "  <thead>\n",
       "    <tr style=\"text-align: right;\">\n",
       "      <th></th>\n",
       "      <th></th>\n",
       "      <th>ptotal</th>\n",
       "    </tr>\n",
       "    <tr>\n",
       "      <th>year</th>\n",
       "      <th>sitc_rev2</th>\n",
       "      <th></th>\n",
       "    </tr>\n",
       "  </thead>\n",
       "  <tbody>\n",
       "    <tr>\n",
       "      <th rowspan=\"5\" valign=\"top\">1962</th>\n",
       "      <th>0010</th>\n",
       "      <td>1776000</td>\n",
       "    </tr>\n",
       "    <tr>\n",
       "      <th>0011</th>\n",
       "      <td>478649000</td>\n",
       "    </tr>\n",
       "    <tr>\n",
       "      <th>0012</th>\n",
       "      <td>44891000</td>\n",
       "    </tr>\n",
       "    <tr>\n",
       "      <th>0013</th>\n",
       "      <td>67317000</td>\n",
       "    </tr>\n",
       "    <tr>\n",
       "      <th>0014</th>\n",
       "      <td>25580000</td>\n",
       "    </tr>\n",
       "  </tbody>\n",
       "</table>\n",
       "</div>"
      ],
      "text/plain": [
       "                   ptotal\n",
       "year sitc_rev2           \n",
       "1962 0010         1776000\n",
       "     0011       478649000\n",
       "     0012        44891000\n",
       "     0013        67317000\n",
       "     0014        25580000"
      ]
     },
     "execution_count": 112,
     "metadata": {},
     "output_type": "execute_result"
    }
   ],
   "source": [
    "product_total.head()"
   ]
  },
  {
   "cell_type": "code",
   "execution_count": 113,
   "metadata": {
    "collapsed": false
   },
   "outputs": [
    {
     "data": {
      "text/html": [
       "<div>\n",
       "<table border=\"1\" class=\"dataframe\">\n",
       "  <thead>\n",
       "    <tr style=\"text-align: right;\">\n",
       "      <th></th>\n",
       "      <th>wtotal</th>\n",
       "    </tr>\n",
       "    <tr>\n",
       "      <th>year</th>\n",
       "      <th></th>\n",
       "    </tr>\n",
       "  </thead>\n",
       "  <tbody>\n",
       "    <tr>\n",
       "      <th>1962</th>\n",
       "      <td>1.437881e+11</td>\n",
       "    </tr>\n",
       "    <tr>\n",
       "      <th>1963</th>\n",
       "      <td>1.588631e+11</td>\n",
       "    </tr>\n",
       "    <tr>\n",
       "      <th>1964</th>\n",
       "      <td>1.796778e+11</td>\n",
       "    </tr>\n",
       "    <tr>\n",
       "      <th>1965</th>\n",
       "      <td>1.962422e+11</td>\n",
       "    </tr>\n",
       "    <tr>\n",
       "      <th>1966</th>\n",
       "      <td>2.167287e+11</td>\n",
       "    </tr>\n",
       "  </tbody>\n",
       "</table>\n",
       "</div>"
      ],
      "text/plain": [
       "            wtotal\n",
       "year              \n",
       "1962  1.437881e+11\n",
       "1963  1.588631e+11\n",
       "1964  1.796778e+11\n",
       "1965  1.962422e+11\n",
       "1966  2.167287e+11"
      ]
     },
     "execution_count": 113,
     "metadata": {},
     "output_type": "execute_result"
    }
   ],
   "source": [
    "world_total.head()"
   ]
  },
  {
   "cell_type": "code",
   "execution_count": 114,
   "metadata": {
    "collapsed": false
   },
   "outputs": [],
   "source": [
    "data = data.merge(cntry_total.reset_index(), on=[\"year\",\"origin\"])"
   ]
  },
  {
   "cell_type": "code",
   "execution_count": 115,
   "metadata": {
    "collapsed": false
   },
   "outputs": [
    {
     "data": {
      "text/html": [
       "<div>\n",
       "<table border=\"1\" class=\"dataframe\">\n",
       "  <thead>\n",
       "    <tr style=\"text-align: right;\">\n",
       "      <th></th>\n",
       "      <th>year</th>\n",
       "      <th>origin</th>\n",
       "      <th>sitc_rev2</th>\n",
       "      <th>export_val</th>\n",
       "      <th>export_rca</th>\n",
       "      <th>ctotal</th>\n",
       "    </tr>\n",
       "  </thead>\n",
       "  <tbody>\n",
       "    <tr>\n",
       "      <th>0</th>\n",
       "      <td>1962</td>\n",
       "      <td>afg</td>\n",
       "      <td>0230</td>\n",
       "      <td>4000</td>\n",
       "      <td>0.013854</td>\n",
       "      <td>86135000</td>\n",
       "    </tr>\n",
       "    <tr>\n",
       "      <th>1</th>\n",
       "      <td>1962</td>\n",
       "      <td>afg</td>\n",
       "      <td>0250</td>\n",
       "      <td>66000</td>\n",
       "      <td>0.384611</td>\n",
       "      <td>86135000</td>\n",
       "    </tr>\n",
       "    <tr>\n",
       "      <th>2</th>\n",
       "      <td>1962</td>\n",
       "      <td>afg</td>\n",
       "      <td>0540</td>\n",
       "      <td>74000</td>\n",
       "      <td>2.358660</td>\n",
       "      <td>86135000</td>\n",
       "    </tr>\n",
       "    <tr>\n",
       "      <th>3</th>\n",
       "      <td>1962</td>\n",
       "      <td>afg</td>\n",
       "      <td>0545</td>\n",
       "      <td>17000</td>\n",
       "      <td>0.074049</td>\n",
       "      <td>86135000</td>\n",
       "    </tr>\n",
       "    <tr>\n",
       "      <th>4</th>\n",
       "      <td>1962</td>\n",
       "      <td>afg</td>\n",
       "      <td>0548</td>\n",
       "      <td>33000</td>\n",
       "      <td>0.691940</td>\n",
       "      <td>86135000</td>\n",
       "    </tr>\n",
       "  </tbody>\n",
       "</table>\n",
       "</div>"
      ],
      "text/plain": [
       "   year origin sitc_rev2  export_val  export_rca    ctotal\n",
       "0  1962    afg      0230        4000    0.013854  86135000\n",
       "1  1962    afg      0250       66000    0.384611  86135000\n",
       "2  1962    afg      0540       74000    2.358660  86135000\n",
       "3  1962    afg      0545       17000    0.074049  86135000\n",
       "4  1962    afg      0548       33000    0.691940  86135000"
      ]
     },
     "execution_count": 115,
     "metadata": {},
     "output_type": "execute_result"
    }
   ],
   "source": [
    "data.head()"
   ]
  },
  {
   "cell_type": "code",
   "execution_count": 116,
   "metadata": {
    "collapsed": false
   },
   "outputs": [
    {
     "data": {
      "text/html": [
       "<div>\n",
       "<table border=\"1\" class=\"dataframe\">\n",
       "  <thead>\n",
       "    <tr style=\"text-align: right;\">\n",
       "      <th></th>\n",
       "      <th>year</th>\n",
       "      <th>origin</th>\n",
       "      <th>ctotal</th>\n",
       "    </tr>\n",
       "  </thead>\n",
       "  <tbody>\n",
       "    <tr>\n",
       "      <th>0</th>\n",
       "      <td>1962</td>\n",
       "      <td>afg</td>\n",
       "      <td>86135000</td>\n",
       "    </tr>\n",
       "    <tr>\n",
       "      <th>36223</th>\n",
       "      <td>1963</td>\n",
       "      <td>afg</td>\n",
       "      <td>105038000</td>\n",
       "    </tr>\n",
       "    <tr>\n",
       "      <th>74727</th>\n",
       "      <td>1964</td>\n",
       "      <td>afg</td>\n",
       "      <td>84797000</td>\n",
       "    </tr>\n",
       "    <tr>\n",
       "      <th>113808</th>\n",
       "      <td>1965</td>\n",
       "      <td>afg</td>\n",
       "      <td>91223000</td>\n",
       "    </tr>\n",
       "    <tr>\n",
       "      <th>154163</th>\n",
       "      <td>1966</td>\n",
       "      <td>afg</td>\n",
       "      <td>114601000</td>\n",
       "    </tr>\n",
       "  </tbody>\n",
       "</table>\n",
       "</div>"
      ],
      "text/plain": [
       "        year origin     ctotal\n",
       "0       1962    afg   86135000\n",
       "36223   1963    afg  105038000\n",
       "74727   1964    afg   84797000\n",
       "113808  1965    afg   91223000\n",
       "154163  1966    afg  114601000"
      ]
     },
     "execution_count": 116,
     "metadata": {},
     "output_type": "execute_result"
    }
   ],
   "source": [
    "#-Check what these Operations have Done-#\n",
    "data[data.origin == 'afg'][[\"year\",\"origin\",\"ctotal\"]].drop_duplicates().head()"
   ]
  },
  {
   "cell_type": "code",
   "execution_count": 117,
   "metadata": {
    "collapsed": true
   },
   "outputs": [],
   "source": [
    "data = data.merge(product_total.reset_index(), on=[\"year\",\"sitc_rev2\"])\n",
    "data = data.merge(world_total.reset_index(), on=[\"year\"])"
   ]
  },
  {
   "cell_type": "code",
   "execution_count": 118,
   "metadata": {
    "collapsed": false
   },
   "outputs": [
    {
     "data": {
      "text/html": [
       "<div>\n",
       "<table border=\"1\" class=\"dataframe\">\n",
       "  <thead>\n",
       "    <tr style=\"text-align: right;\">\n",
       "      <th></th>\n",
       "      <th>year</th>\n",
       "      <th>origin</th>\n",
       "      <th>sitc_rev2</th>\n",
       "      <th>export_val</th>\n",
       "      <th>export_rca</th>\n",
       "      <th>ctotal</th>\n",
       "      <th>ptotal</th>\n",
       "      <th>wtotal</th>\n",
       "    </tr>\n",
       "  </thead>\n",
       "  <tbody>\n",
       "    <tr>\n",
       "      <th>0</th>\n",
       "      <td>1962</td>\n",
       "      <td>afg</td>\n",
       "      <td>0230</td>\n",
       "      <td>4000</td>\n",
       "      <td>0.013854</td>\n",
       "      <td>86135000</td>\n",
       "      <td>438674000</td>\n",
       "      <td>1.437881e+11</td>\n",
       "    </tr>\n",
       "    <tr>\n",
       "      <th>1</th>\n",
       "      <td>1962</td>\n",
       "      <td>arg</td>\n",
       "      <td>0230</td>\n",
       "      <td>7162000</td>\n",
       "      <td>1.493650</td>\n",
       "      <td>1430519000</td>\n",
       "      <td>438674000</td>\n",
       "      <td>1.437881e+11</td>\n",
       "    </tr>\n",
       "    <tr>\n",
       "      <th>2</th>\n",
       "      <td>1962</td>\n",
       "      <td>aus</td>\n",
       "      <td>0230</td>\n",
       "      <td>66077000</td>\n",
       "      <td>9.519820</td>\n",
       "      <td>2070759000</td>\n",
       "      <td>438674000</td>\n",
       "      <td>1.437881e+11</td>\n",
       "    </tr>\n",
       "    <tr>\n",
       "      <th>3</th>\n",
       "      <td>1962</td>\n",
       "      <td>aut</td>\n",
       "      <td>0230</td>\n",
       "      <td>3071000</td>\n",
       "      <td>0.953014</td>\n",
       "      <td>961366000</td>\n",
       "      <td>438674000</td>\n",
       "      <td>1.437881e+11</td>\n",
       "    </tr>\n",
       "    <tr>\n",
       "      <th>4</th>\n",
       "      <td>1962</td>\n",
       "      <td>bel</td>\n",
       "      <td>0230</td>\n",
       "      <td>4802000</td>\n",
       "      <td>0.348457</td>\n",
       "      <td>4111319000</td>\n",
       "      <td>438674000</td>\n",
       "      <td>1.437881e+11</td>\n",
       "    </tr>\n",
       "  </tbody>\n",
       "</table>\n",
       "</div>"
      ],
      "text/plain": [
       "   year origin sitc_rev2  export_val  export_rca      ctotal     ptotal  \\\n",
       "0  1962    afg      0230        4000    0.013854    86135000  438674000   \n",
       "1  1962    arg      0230     7162000    1.493650  1430519000  438674000   \n",
       "2  1962    aus      0230    66077000    9.519820  2070759000  438674000   \n",
       "3  1962    aut      0230     3071000    0.953014   961366000  438674000   \n",
       "4  1962    bel      0230     4802000    0.348457  4111319000  438674000   \n",
       "\n",
       "         wtotal  \n",
       "0  1.437881e+11  \n",
       "1  1.437881e+11  \n",
       "2  1.437881e+11  \n",
       "3  1.437881e+11  \n",
       "4  1.437881e+11  "
      ]
     },
     "execution_count": 118,
     "metadata": {},
     "output_type": "execute_result"
    }
   ],
   "source": [
    "data.head()"
   ]
  },
  {
   "cell_type": "code",
   "execution_count": 119,
   "metadata": {
    "collapsed": false
   },
   "outputs": [],
   "source": [
    "data[\"computed_rca\"] = (data[\"export_val\"]/data[\"ctotal\"])/(data[\"ptotal\"]/data[\"wtotal\"])"
   ]
  },
  {
   "cell_type": "code",
   "execution_count": 120,
   "metadata": {
    "collapsed": false
   },
   "outputs": [],
   "source": [
    "data[\"diff\"] = data[\"export_rca\"] - data[\"computed_rca\"]"
   ]
  },
  {
   "cell_type": "code",
   "execution_count": 121,
   "metadata": {
    "collapsed": false
   },
   "outputs": [
    {
     "data": {
      "text/html": [
       "<div>\n",
       "<table border=\"1\" class=\"dataframe\">\n",
       "  <thead>\n",
       "    <tr style=\"text-align: right;\">\n",
       "      <th></th>\n",
       "      <th>year</th>\n",
       "      <th>origin</th>\n",
       "      <th>sitc_rev2</th>\n",
       "      <th>export_val</th>\n",
       "      <th>export_rca</th>\n",
       "      <th>ctotal</th>\n",
       "      <th>ptotal</th>\n",
       "      <th>wtotal</th>\n",
       "      <th>computed_rca</th>\n",
       "      <th>diff</th>\n",
       "    </tr>\n",
       "  </thead>\n",
       "  <tbody>\n",
       "    <tr>\n",
       "      <th>0</th>\n",
       "      <td>1962</td>\n",
       "      <td>afg</td>\n",
       "      <td>0230</td>\n",
       "      <td>4000</td>\n",
       "      <td>0.013854</td>\n",
       "      <td>86135000</td>\n",
       "      <td>438674000</td>\n",
       "      <td>1.437881e+11</td>\n",
       "      <td>0.015222</td>\n",
       "      <td>-0.001367</td>\n",
       "    </tr>\n",
       "    <tr>\n",
       "      <th>1</th>\n",
       "      <td>1962</td>\n",
       "      <td>arg</td>\n",
       "      <td>0230</td>\n",
       "      <td>7162000</td>\n",
       "      <td>1.493650</td>\n",
       "      <td>1430519000</td>\n",
       "      <td>438674000</td>\n",
       "      <td>1.437881e+11</td>\n",
       "      <td>1.641050</td>\n",
       "      <td>-0.147400</td>\n",
       "    </tr>\n",
       "    <tr>\n",
       "      <th>2</th>\n",
       "      <td>1962</td>\n",
       "      <td>aus</td>\n",
       "      <td>0230</td>\n",
       "      <td>66077000</td>\n",
       "      <td>9.519820</td>\n",
       "      <td>2070759000</td>\n",
       "      <td>438674000</td>\n",
       "      <td>1.437881e+11</td>\n",
       "      <td>10.459280</td>\n",
       "      <td>-0.939460</td>\n",
       "    </tr>\n",
       "    <tr>\n",
       "      <th>3</th>\n",
       "      <td>1962</td>\n",
       "      <td>aut</td>\n",
       "      <td>0230</td>\n",
       "      <td>3071000</td>\n",
       "      <td>0.953014</td>\n",
       "      <td>961366000</td>\n",
       "      <td>438674000</td>\n",
       "      <td>1.437881e+11</td>\n",
       "      <td>1.047061</td>\n",
       "      <td>-0.094047</td>\n",
       "    </tr>\n",
       "    <tr>\n",
       "      <th>4</th>\n",
       "      <td>1962</td>\n",
       "      <td>bel</td>\n",
       "      <td>0230</td>\n",
       "      <td>4802000</td>\n",
       "      <td>0.348457</td>\n",
       "      <td>4111319000</td>\n",
       "      <td>438674000</td>\n",
       "      <td>1.437881e+11</td>\n",
       "      <td>0.382844</td>\n",
       "      <td>-0.034387</td>\n",
       "    </tr>\n",
       "  </tbody>\n",
       "</table>\n",
       "</div>"
      ],
      "text/plain": [
       "   year origin sitc_rev2  export_val  export_rca      ctotal     ptotal  \\\n",
       "0  1962    afg      0230        4000    0.013854    86135000  438674000   \n",
       "1  1962    arg      0230     7162000    1.493650  1430519000  438674000   \n",
       "2  1962    aus      0230    66077000    9.519820  2070759000  438674000   \n",
       "3  1962    aut      0230     3071000    0.953014   961366000  438674000   \n",
       "4  1962    bel      0230     4802000    0.348457  4111319000  438674000   \n",
       "\n",
       "         wtotal  computed_rca      diff  \n",
       "0  1.437881e+11      0.015222 -0.001367  \n",
       "1  1.437881e+11      1.641050 -0.147400  \n",
       "2  1.437881e+11     10.459280 -0.939460  \n",
       "3  1.437881e+11      1.047061 -0.094047  \n",
       "4  1.437881e+11      0.382844 -0.034387  "
      ]
     },
     "execution_count": 121,
     "metadata": {},
     "output_type": "execute_result"
    }
   ],
   "source": [
    "data.head()"
   ]
  },
  {
   "cell_type": "code",
   "execution_count": 122,
   "metadata": {
    "collapsed": false,
    "scrolled": true
   },
   "outputs": [
    {
     "data": {
      "text/plain": [
       "<matplotlib.axes._subplots.AxesSubplot at 0x1151b9f98>"
      ]
     },
     "execution_count": 122,
     "metadata": {},
     "output_type": "execute_result"
    },
    {
     "data": {
      "image/png": "[encoded data removed]",
      "text/plain": [
       "<matplotlib.figure.Figure at 0x1151ada90>"
      ]
     },
     "metadata": {},
     "output_type": "display_data"
    }
   ],
   "source": [
    "#-Let's check How different the Computed Numbers are for Afghanistan-#\n",
    "%matplotlib inline\n",
    "data[(data.year==1962) & (data.origin==\"afg\")]['diff'].hist()"
   ]
  },
  {
   "cell_type": "code",
   "execution_count": 123,
   "metadata": {
    "collapsed": false
   },
   "outputs": [
    {
     "data": {
      "text/plain": [
       "<matplotlib.axes._subplots.AxesSubplot at 0x11558e3c8>"
      ]
     },
     "execution_count": 123,
     "metadata": {},
     "output_type": "execute_result"
    },
    {
     "data": {
      "image/png": "[encoded data removed]",
      "text/plain": [
       "<matplotlib.figure.Figure at 0x115582fd0>"
      ]
     },
     "metadata": {},
     "output_type": "display_data"
    }
   ],
   "source": [
    "#-USA-#\n",
    "data[(data.year==1962) & (data.origin==\"usa\")]['diff'].hist()"
   ]
  },
  {
   "cell_type": "markdown",
   "metadata": {},
   "source": [
    "===================================================================================================================="
   ]
  },
  {
   "cell_type": "markdown",
   "metadata": {},
   "source": [
    "## Web Data\n",
    "\n",
    "Let's consider a practical and everyday type of problem. Say we want to collect some data from a web site that has some embedded tables. Let's make use of the PyPI package index and check out the search results for `economics`.\n",
    "\n",
    "1. https://pypi.python.org/pypi\n",
    "2. Search `economics`\n",
    "3. Check the structure of the web link (https://pypi.python.org/pypi?%3Aaction=search&term=economics&submit=search)"
   ]
  },
  {
   "cell_type": "code",
   "execution_count": 124,
   "metadata": {
    "collapsed": true
   },
   "outputs": [],
   "source": [
    "#-Web Data and Web Scraping-#\n",
    "\n",
    "import pandas as pd\n",
    "import requests\n",
    "\n",
    "url = \"https://pypi.python.org/pypi?%3Aaction=search&term=economics&submit=search\"\n",
    "page = requests.get(url)"
   ]
  },
  {
   "cell_type": "code",
   "execution_count": 125,
   "metadata": {
    "collapsed": false
   },
   "outputs": [],
   "source": [
    "#page.      #-Explore the Object, This is a Representation of a Web Page-#"
   ]
  },
  {
   "cell_type": "code",
   "execution_count": 126,
   "metadata": {
    "collapsed": false
   },
   "outputs": [
    {
     "data": {
      "text/plain": [
       "'<?xml version=\"1.0\" encoding=\"utf-8\"?>\\n<!DOCTYPE html PUBLIC \"-//W3C//DTD XHTML 1.0 Transitional//EN\" \"http://www.w3.org/TR/xhtml1/DTD/xhtml1-transitional.dtd\">\\n\\n  <html xmlns=\"http://www.w3.org/1999/xhtml\" lang=\"en\" xml:lang=\"en\">\\n    <head>\\n      \\n      <meta content=\"text/html; charset=utf-8\" http-equiv=\"content-type\"/>\\n      <title>Index of Packages Matching \\'economics\\' : Python Package Index</title>\\n      <meta content=\"python programming language object oriented web free source package index download software\"/>\\n      <meta content=\"The Python Package Index is a repository of software for the Python programming language.\"/>\\n       <link rel=\"alternate\" type=\"application/rss+xml\" title=\"RSS: 40 latest updates\" href=\"https://pypi.python.org/pypi?:action=rss\"/>\\n       <link rel=\"alternate\" type=\"application/rss+xml\" title=\"RSS: 40 newest packages\" href=\"https://pypi.python.org/pypi?:action=packages_rss\"/>\\n       <link rel=\"stylesheet\" media=\"screen\" href=\"/static/styles/screen-switcher-default.css\" type=\"text/css\"/>\\n       <link media=\"screen\" href=\"/static/styles/netscape4.css\" type=\"text/css\" rel=\"stylesheet\"/>\\n       <link media=\"print\" href=\"/static/styles/print.css\" type=\"text/css\" rel=\"stylesheet\"/>\\n       <link media=\"screen\" href=\"/static/styles/largestyles.css\" type=\"text/css\" rel=\"alternate stylesheet\" title=\"large text\"/>\\n       <link media=\"screen\" href=\"/static/styles/defaultfonts.css\" type=\"text/css\" rel=\"alternate stylesheet\" title=\"default fonts\"/>\\n       <link rel=\"stylesheet\" media=\"screen\" href=\"/static/css/docutils.css\" type=\"text/css\"/>\\n       <link rel=\"stylesheet\" media=\"screen\" href=\"/static/css/pygments.css\" type=\"text/css\"/>\\n\\n       <!-- allow pypi to override the standard pydotorg/docutils/etc. styles -->\\n       <link rel=\"stylesheet\" href=\"/static/css/pypi.css\" type=\"text/css\"/>\\n       <link media=\"screen\" rel=\"stylesheet\" href=\"/static/css/pypi-screen.css\" type=\"text/css\"/>\\n\\n       \\n       <meta name=\"google-site-verification\" content=\"NSgF04qslVV4P7nymxJDSkWVK09zfdPTxgZfU3dNSoQ\"/>\\n       \\n\\n       \\n\\n       <style type=\"text/css\">\\n       </style>\\n    </head>\\n    <body>\\n     \\n\\n      <!--  Logo  -->\\n      <h1 id=\"logoheader\">\\n       <a accesskey=\"1\" href=\"http://www.python.org\" id=\"logolink\">\\n          <img src=\"/static/images/python-logo.png\" alt=\"homepage\" border=\"0\" id=\"logo\"/>\\n       </a>\\n      </h1>\\n      <!--  Skip to Navigation  -->\\n      <div class=\"skiptonav\"><a accesskey=\"2\" href=\"#left-hand-navigation\"><img src=\"/static/images/trans.gif\" alt=\"skip to navigation\" border=\"0\" id=\"skiptonav\"/></a></div>\\n      <div class=\"skiptonav\"><a accesskey=\"3\" href=\"#content-body\"><img src=\"/static/images/trans.gif\" alt=\"skip to content\" border=\"0\" id=\"skiptocontent\"/></a></div>\\n      <!--  Utility Menu  -->\\n\\n      <div id=\"utility-menu\">\\n        <!--  Search Box  -->\\n        <div id=\"searchbox\">\\n          <form id=\"searchform\" method=\"get\" name=\"searchform\" action=\"/pypi\">\\n            <input type=\"hidden\" name=\":action\" value=\"search\"/>\\n            <div id=\"search\">\\n              <input class=\"input-text\" id=\"term\" name=\"term\" autofocus=\"autofocus\"/>\\n              <input class=\"input-button\" type=\"submit\" name=\"submit\" value=\"search\" id=\"submit\"/>\\n            </div>\\n          </form>\\n        </div>\\n<!-- XXX: reinstate this       <div id=\"screen-switcher\"></div> -->\\n      </div>\\n      <div id=\"left-hand-navigation\">\\n\\n        <!--  Main Menu NEED LEVEL TWO HEADER AND FOOTER -->\\n        <div id=\"menu\">\\n          <ul class=\"level-one\">\\n            <li class=\"selected\">\\n              <a class=\"selected\" href=\"/pypi\">Package Index</a>\\n\\n              <ul class=\"level-two\">\\n\\n                \\n                  <li class=\"\"><a class=\"\" href=\"/pypi?%3Aaction=browse\">Browse&nbsp;packages</a></li>\\n                \\n                \\n                  <li class=\"\"><a class=\"\" href=\"/pypi?%3Aaction=submit_form\">Package&nbsp;submission</a></li>\\n                \\n                \\n                  <li class=\"\"><a class=\"\" href=\"/pypi?%3Aaction=list_classifiers\">List&nbsp;trove&nbsp;classifiers</a></li>\\n                \\n                \\n                  <li class=\"\"><a class=\"\" href=\"/pypi?%3Aaction=index\">List&nbsp;packages</a></li>\\n                \\n                \\n                  <li class=\"\"><a class=\"\" href=\"/pypi?%3Aaction=rss\">RSS&nbsp;(latest&nbsp;40&nbsp;updates)</a></li>\\n                \\n                \\n                  <li class=\"\"><a class=\"\" href=\"/pypi?%3Aaction=packages_rss\">RSS&nbsp;(newest&nbsp;40&nbsp;packages)</a></li>\\n                \\n\\t\\t<li><a href=\"/pypi?:action=browse&amp;c=533&amp;show=all\">Python 3 Packages</a></li>\\n        <li><a href=\"http://wiki.python.org/moin/CheeseShopTutorial\">PyPI Tutorial</a></li>\\n        <li><a href=\"/security\">PyPI Security</a></li>\\n        <li><a href=\"http://sourceforge.net/tracker/?group_id=66150&amp;atid=513504\">PyPI Support</a></li>\\n        <li><a href=\"https://bitbucket.org/pypa/pypi/issues\">PyPI Bug Reports</a></li>\\n        <li><a href=\"http://www.python.org/sigs/distutils-sig/\">PyPI Discussion</a></li>\\n        <li><a href=\"http://wiki.python.org/moin/CheeseShopDev\">PyPI Developer Info</a></li>\\n       </ul>\\n\\n            </li>\\n\\n\\n\\n\\n            <li class=\"\"><a href=\"http://www.python.org/about\" class=\"\" title=\"About The Python Language\">About</a>\\n            </li><li class=\"\"><a href=\"http://www.python.org/news\" class=\"\" title=\"\">News</a>\\n            </li><li class=\"\"><a href=\"http://www.python.org/doc\" class=\"\" title=\"\">Documentation</a>\\n            </li><li class=\"\"><a href=\"http://www.python.org/download\" title=\"\">Download</a>\\n\\n\\n            </li><li class=\"\"><a href=\"http://www.python.org/community\" class=\"\" title=\"\">Community</a>\\n            </li><li class=\"\"><a href=\"http://www.python.org/psf\" class=\"\" title=\"Python Software Foundation\">Foundation</a>\\n            </li><li class=\"\"><a href=\"http://www.python.org/dev\" class=\"\" title=\"Python Core Language Development\">Core Development</a>\\n          </li>\\n          </ul>\\n        </div>\\n\\n      </div>\\n      <div id=\"content-body\">\\n        <div id=\"body-main\">\\n          <div id=\"content\">\\n\\n            <div id=\"breadcrumb\">\\n              <a href=\"/pypi\">Package Index</a>\\n              \\n              \\n\\n            </div>\\n\\n            <div id=\"document-floating\">\\n\\n            <div id=\"document-navigation\" style=\"overflow-y: auto; max-height: 15em; overflow-x: hidden;\">\\n\\t\\t\\n                  <h4>Not Logged In</h4>\\n\\n                  <ul>\\n\\t\\t    \\n                    <li><a href=\"/pypi?%3Aaction=login_form\">Login</a></li>\\n                    <li><a href=\"/pypi?%3Aaction=register_form\">Register</a></li>\\n                    <li><a href=\"/pypi?%3Aaction=forgotten_password_form\">Lost Login?</a></li>\\n\\t\\t    <li>Use <a href=\"/pypi?:action=openid\">OpenID</a>\\n                      \\n                        <a style=\"border: none;\" href=\"/pypi?:action=login&amp;provider=Launchpad\"><img width=\"16\" height=\"16\" alt=\"Launchpad\" src=\"https://launchpad.net/@@/launchpad.png\" title=\"Launchpad\"/></a>\\n                      \\n                    </li>\\n                    <li><a href=\"/google_login\">Login with Google<img width=\"16\" height=\"16\" src=\"https://www.google.com/favicon.ico\" title=\"Google Login\" alt=\"Google Login\"/></a></li>\\n                  </ul>\\n\\n\\t\\t\\n\\n\\t\\t\\n\\n                <div id=\"statusdiv\">\\n                </div>\\n            </div>\\n        </div>\\n        \\n\\n\\n            <div class=\"section\">\\n              <h1>Index of Packages Matching \\'economics\\'</h1>\\n\\n              \\n\\n\\n\\n<table class=\"list\">\\n<tr>\\n <th>Package</th>\\n <th><u title=\"Occurrence of search term weighted by field (name, summary, keywords, description, author, maintainer)\">Weight*</u></th>\\n <th>Description</th>\\n</tr>\\n\\n<tr class=\"odd\">\\n <td><a href=\"/pypi/economics/0.1.2\">economics&nbsp;0.1.2</a></td>\\n <td>11</td>\\n <td>Functions and data manipulation for economics data</td>\\n</tr>\\n<tr class=\"even\">\\n <td><a href=\"/pypi/trytond_health_socioeconomics/3.0.0\">trytond_health_socioeconomics&nbsp;3.0.0</a></td>\\n <td>6</td>\\n <td>GNU Health Socioeconomics Module</td>\\n</tr>\\n<tr class=\"odd\">\\n <td><a href=\"/pypi/trytond_health_socioeconomics/2.8.1\">trytond_health_socioeconomics&nbsp;2.8.1</a></td>\\n <td>6</td>\\n <td>GNU Health Socioeconomics Module</td>\\n</tr>\\n<tr class=\"even\">\\n <td><a href=\"/pypi/econometrics/0.1.\">econometrics&nbsp;0.1.</a></td>\\n <td>4</td>\\n <td>Python economics library</td>\\n</tr>\\n<tr class=\"odd\">\\n <td><a href=\"/pypi/pymaclab/0.95.9\">pymaclab&nbsp;0.95.9</a></td>\\n <td>4</td>\\n <td>The Python Macroeconomics Laboratory</td>\\n</tr>\\n<tr class=\"even\">\\n <td><a href=\"/pypi/dismalpy/0.2.3\">dismalpy&nbsp;0.2.3</a></td>\\n <td>2</td>\\n <td>DismalPy: a collection of resources for quantitative economics in Python.</td>\\n</tr>\\n<tr class=\"odd\">\\n <td><a href=\"/pypi/dismalpy/0.2.2\">dismalpy&nbsp;0.2.2</a></td>\\n <td>2</td>\\n <td>DismalPy: a collection of resources for quantitative economics in Python.</td>\\n</tr>\\n<tr class=\"even\">\\n <td><a href=\"/pypi/econ/0.4\">econ&nbsp;0.4</a></td>\\n <td>2</td>\\n <td>An open set of economics related tools, data and services.</td>\\n</tr>\\n<tr class=\"odd\">\\n <td><a href=\"/pypi/FRB/1.1.1\">FRB&nbsp;1.1.1</a></td>\\n <td>2</td>\\n <td>Federal Reserve Economic Data (FRED)</td>\\n</tr>\\n<tr class=\"even\">\\n <td><a href=\"/pypi/FRB/1.1.2\">FRB&nbsp;1.1.2</a></td>\\n <td>2</td>\\n <td>Federal Reserve Economic Data (FRED)</td>\\n</tr>\\n<tr class=\"odd\">\\n <td><a href=\"/pypi/FRB/1.1.0\">FRB&nbsp;1.1.0</a></td>\\n <td>2</td>\\n <td>Federal Reserve Economic Data (FRED)</td>\\n</tr>\\n<tr class=\"even\">\\n <td><a href=\"/pypi/fredpy/0.4.2\">fredpy&nbsp;0.4.2</a></td>\\n <td>2</td>\\n <td>A package for downloading and working with data from Federal Reserve Economic Data</td>\\n</tr>\\n<tr class=\"odd\">\\n <td><a href=\"/pypi/fredpy/1.0.0\">fredpy&nbsp;1.0.0</a></td>\\n <td>2</td>\\n <td>A package for downloading and working with data from Federal Reserve Economic Data</td>\\n</tr>\\n<tr class=\"even\">\\n <td><a href=\"/pypi/fredpy/1.0.1\">fredpy&nbsp;1.0.1</a></td>\\n <td>2</td>\\n <td>A package for downloading and working with data from Federal Reserve Economic Data</td>\\n</tr>\\n<tr class=\"odd\">\\n <td><a href=\"/pypi/fredpy/0.4.1\">fredpy&nbsp;0.4.1</a></td>\\n <td>2</td>\\n <td>A package for downloading and working with data from Federal Reserve Economic Data</td>\\n</tr>\\n<tr class=\"even\">\\n <td><a href=\"/pypi/future_value/1.1.0\">future_value&nbsp;1.1.0</a></td>\\n <td>2</td>\\n <td>Define a future or present value of the taxes. For economics</td>\\n</tr>\\n<tr class=\"odd\">\\n <td><a href=\"/pypi/grmpy/1.1.1.19\">grmpy&nbsp;1.1.1.19</a></td>\\n <td>2</td>\\n <td>Estimator for the generalized Roy Model</td>\\n</tr>\\n<tr class=\"even\">\\n <td><a href=\"/pypi/inquisitor/0.1.2\">inquisitor&nbsp;0.1.2</a></td>\\n <td>2</td>\\n <td>Python class to fetch data from inquirim.com</td>\\n</tr>\\n<tr class=\"odd\">\\n <td><a href=\"/pypi/inquisitor/0.1\">inquisitor&nbsp;0.1</a></td>\\n <td>2</td>\\n <td>Python class to fetch data from inquirim.com</td>\\n</tr>\\n<tr class=\"even\">\\n <td><a href=\"/pypi/inquisitor/1.0b1\">inquisitor&nbsp;1.0b1</a></td>\\n <td>2</td>\\n <td>A python wrapper around the API of Inquirim.com</td>\\n</tr>\\n<tr class=\"odd\">\\n <td><a href=\"/pypi/inquisitor/0.1.1\">inquisitor&nbsp;0.1.1</a></td>\\n <td>2</td>\\n <td>Python class to fetch data from inquirim.com</td>\\n</tr>\\n<tr class=\"even\">\\n <td><a href=\"/pypi/linearsolve/0.0.1a\">linearsolve&nbsp;0.0.1a</a></td>\\n <td>2</td>\\n <td>A package for solving and simulating linear dynamic models using Klein\\'s (2000) mehtod</td>\\n</tr>\\n<tr class=\"odd\">\\n <td><a href=\"/pypi/paretochart/1.0\">paretochart&nbsp;1.0</a></td>\\n <td>2</td>\\n <td>Pareto chart for python (similar to Matlab\\'s, but much more flexible)</td>\\n</tr>\\n<tr class=\"even\">\\n <td><a href=\"/pypi/quantecon/0.3.0\">quantecon&nbsp;0.3.0</a></td>\\n <td>2</td>\\n <td>QuantEcon is a package to support all forms of quantitative economic modelling.</td>\\n</tr>\\n<tr class=\"odd\">\\n <td><a href=\"/pypi/quantecon/0.3.1\">quantecon&nbsp;0.3.1</a></td>\\n <td>2</td>\\n <td>QuantEcon is a package to support all forms of quantitative economic modelling.</td>\\n</tr>\\n<tr class=\"even\">\\n <td><a href=\"/pypi/quantecon/0.2.2\">quantecon&nbsp;0.2.2</a></td>\\n <td>2</td>\\n <td>QuantEcon is a package to support all forms of quantitative economic modelling.</td>\\n</tr>\\n<tr class=\"odd\">\\n <td><a href=\"/pypi/quantecon/0.2.0\">quantecon&nbsp;0.2.0</a></td>\\n <td>2</td>\\n <td>QuantEcon is a package to support all forms of quantitative economic modelling.</td>\\n</tr>\\n<tr class=\"even\">\\n <td><a href=\"/pypi/redwood/1.0\">redwood&nbsp;1.0</a></td>\\n <td>2</td>\\n <td>Tools for networked Experimental Economics</td>\\n</tr>\\n<tr class=\"odd\">\\n <td><a href=\"/pypi/robupy/0.1.8\">robupy&nbsp;0.1.8</a></td>\\n <td>2</td>\\n <td>Toolbox to explore robust dynamic discrete choice models</td>\\n</tr>\\n<tr class=\"even\">\\n <td><a href=\"/pypi/robupy/0.1.4\">robupy&nbsp;0.1.4</a></td>\\n <td>2</td>\\n <td>Toolbox to explore robust dynamic discrete choice models</td>\\n</tr>\\n<tr class=\"odd\">\\n <td><a href=\"/pypi/tallywallet-common/0.009\">tallywallet-common&nbsp;0.009</a></td>\\n <td>2</td>\\n <td>A currency trading ledger in Python</td>\\n</tr>\\n<tr class=\"even\">\\n <td><a href=\"/pypi/clusterPy/0.9.9\">clusterPy&nbsp;0.9.9</a></td>\\n <td>1</td>\\n <td>Spatial (geographic) data clustering: library of algorithms, create and test customized formulations using data simulations, visualization, map data utilities.</td>\\n</tr>\\n<tr class=\"odd\">\\n <td><a href=\"/pypi/GoldSaxAnalyticsEngineMarkets/0.013\">GoldSaxAnalyticsEngineMarkets&nbsp;0.013</a></td>\\n <td>1</td>\\n <td>The Real-Time Analytics Engine for the GoldSaxEngine-****Markets or any other engine. This can be used by any Trader, Market Maker, a Retail Investor, Instituitional Investor, Hedge Fund Managers, and Asset Managers.</td>\\n</tr>\\n<tr class=\"even\">\\n <td><a href=\"/pypi/GoldSaxEngineAustralianMarkets/0.021\">GoldSaxEngineAustralianMarkets&nbsp;0.021</a></td>\\n <td>1</td>\\n <td>The Real-Time Engine for the GoldSaxEngine-AustralianMarkets or any other engine. This can be used by any Trader, Market Maker, a Retail Investor, Instituitional Investor, Hedge Fund Managers, and Asset Managers.</td>\\n</tr>\\n<tr class=\"odd\">\\n <td><a href=\"/pypi/GoldSaxEngineChinaMarkets/0.01\">GoldSaxEngineChinaMarkets&nbsp;0.01</a></td>\\n <td>1</td>\\n <td>The Real-Time Engine for the GoldSaxEngine-ChinaMarkets or any other engine. This can be used by any Trader, Market Maker, a Retail Investor, Instituitional Investor, Hedge Fund Managers, and Asset Managers.</td>\\n</tr>\\n<tr class=\"even\">\\n <td><a href=\"/pypi/GoldSaxEngineCoreScheduler/1.011\">GoldSaxEngineCoreScheduler&nbsp;1.011</a></td>\\n <td>1</td>\\n <td>The Real-Time Scheduler Core Engine for the GoldSaxEngine-****Markets or any other engine. This can be used by any Trader, Market Maker, a Retail Investor, Instituitional Investor, Hedge Fund Managers, and Asset Managers.</td>\\n</tr>\\n<tr class=\"odd\">\\n <td><a href=\"/pypi/GoldSaxEngineIndianMarkets/0.031\">GoldSaxEngineIndianMarkets&nbsp;0.031</a></td>\\n <td>1</td>\\n <td>The Real-Time Engine for the GoldSaxEngine-IndianMarkets or any other engine. This can be used by any Trader, Market Maker, a Retail Investor, Instituitional Investor, Hedge Fund Managers, and Asset Managers.</td>\\n</tr>\\n<tr class=\"even\">\\n <td><a href=\"/pypi/GoldSaxEngineJapanMarkets/0.021\">GoldSaxEngineJapanMarkets&nbsp;0.021</a></td>\\n <td>1</td>\\n <td>The Real-Time Engine for the GoldSaxEngine-JapanMarkets or any other engine. This can be used by any Trader, Market Maker, a Retail Investor, Instituitional Investor, Hedge Fund Managers, and Asset Managers.</td>\\n</tr>\\n<tr class=\"odd\">\\n <td><a href=\"/pypi/GoldSaxEngineSouthKoreaMarkets/0.01\">GoldSaxEngineSouthKoreaMarkets&nbsp;0.01</a></td>\\n <td>1</td>\\n <td>The Real-Time Engine for the GoldSaxEngine-SouthKoreaMarkets or any other engine. This can be used by any Trader, Market Maker, a Retail Investor, Instituitional Investor, Hedge Fund Managers, and Asset Managers.</td>\\n</tr>\\n<tr class=\"even\">\\n <td><a href=\"/pypi/kabuki/0.6.1\">kabuki&nbsp;0.6.1</a></td>\\n <td>1</td>\\n <td>kabuki is a python toolbox that allows easy creation of hierarchical bayesian models for the cognitive sciences.</td>\\n</tr>\\n<tr class=\"odd\">\\n <td><a href=\"/pypi/kabuki/0.5.5\">kabuki&nbsp;0.5.5</a></td>\\n <td>1</td>\\n <td>kabuki is a python toolbox that allows easy creation of hierarchical bayesian models for the cognitive sciences.</td>\\n</tr>\\n<tr class=\"even\">\\n <td><a href=\"/pypi/nobel/0.2\">nobel&nbsp;0.2</a></td>\\n <td>1</td>\\n <td>A simple pythonic wrapper for the Nobel Prize API.</td>\\n</tr>\\n<tr class=\"odd\">\\n <td><a href=\"/pypi/ogusa/0.2\">ogusa&nbsp;0.2</a></td>\\n <td>1</td>\\n <td>ogusa</td>\\n</tr>\\n<tr class=\"even\">\\n <td><a href=\"/pypi/ogusa/0.1.1\">ogusa&nbsp;0.1.1</a></td>\\n <td>1</td>\\n <td>ogusa</td>\\n</tr>\\n<tr class=\"odd\">\\n <td><a href=\"/pypi/ogusa/0.4\">ogusa&nbsp;0.4</a></td>\\n <td>1</td>\\n <td>ogusa</td>\\n</tr>\\n<tr class=\"even\">\\n <td><a href=\"/pypi/pacer_lib/2.33\">pacer_lib&nbsp;2.33</a></td>\\n <td>1</td>\\n <td>A download interface for the Public Access to Court Electronic Records system</td>\\n</tr>\\n<tr class=\"odd\">\\n <td><a href=\"/pypi/py-moneyed/0.6.0\">py-moneyed&nbsp;0.6.0</a></td>\\n <td>1</td>\\n <td>Provides Currency and Money classes for use in your Python code.</td>\\n</tr>\\n<tr class=\"even\">\\n <td><a href=\"/pypi/pyasn/1.5.0b6\">pyasn&nbsp;1.5.0b6</a></td>\\n <td>1</td>\\n <td>Offline IP address to Autonomous System Number lookup module.</td>\\n</tr>\\n<tr class=\"odd\">\\n <td><a href=\"/pypi/pyCollocation/0.6.0-alpha\">pyCollocation&nbsp;0.6.0-alpha</a></td>\\n <td>1</td>\\n <td>Python package for solving initial value problems (IVP) and two-point boundary value problems (2PBVP) using the collocation method.</td>\\n</tr>\\n<tr class=\"even\">\\n <td><a href=\"/pypi/pyCollocation/0.4.0-alpha\">pyCollocation&nbsp;0.4.0-alpha</a></td>\\n <td>1</td>\\n <td>Python package for solving initial value problems (IVP) and two-point boundary value problems (2PBVP) using the collocation method.</td>\\n</tr>\\n<tr class=\"odd\">\\n <td><a href=\"/pypi/pyCollocation/0.5-alpha\">pyCollocation&nbsp;0.5-alpha</a></td>\\n <td>1</td>\\n <td>Python package for solving initial value problems (IVP) and two-point boundary value problems (2PBVP) using the collocation method.</td>\\n</tr>\\n<tr class=\"even\">\\n <td><a href=\"/pypi/pysolve/0.1.7\">pysolve&nbsp;0.1.7</a></td>\\n <td>1</td>\\n <td>A simple interface for solving systems of equations</td>\\n</tr>\\n<tr class=\"odd\">\\n <td><a href=\"/pypi/qfrm/0.1.1.12\">qfrm&nbsp;0.1.1.12</a></td>\\n <td>1</td>\\n <td>Quantitative Financial Risk Management: awesome OOP tools for measuring, managing and visualizing risk of financial instruments and portfolios.</td>\\n</tr>\\n<tr class=\"even\">\\n <td><a href=\"/pypi/qfrm/0.2.0.14\">qfrm&nbsp;0.2.0.14</a></td>\\n <td>1</td>\\n <td>Quantitative Financial Risk Management: awesome OOP tools for measuring, managing and visualizing risk of financial instruments and portfolios.</td>\\n</tr>\\n<tr class=\"odd\">\\n <td><a href=\"/pypi/qfrm/0.2.0.1\">qfrm&nbsp;0.2.0.1</a></td>\\n <td>1</td>\\n <td>Quantitative Financial Risk Management: awesome OOP tools for measuring, managing and visualizing risk of financial instruments and portfolios.</td>\\n</tr>\\n<tr class=\"even\">\\n <td><a href=\"/pypi/qfrm/0.2.0.7\">qfrm&nbsp;0.2.0.7</a></td>\\n <td>1</td>\\n <td>Quantitative Financial Risk Management: awesome OOP tools for measuring, managing and visualizing risk of financial instruments and portfolios.</td>\\n</tr>\\n<tr class=\"odd\">\\n <td><a href=\"/pypi/qfrm/0.2.0.19\">qfrm&nbsp;0.2.0.19</a></td>\\n <td>1</td>\\n <td>Quantitative Financial Risk Management: awesome OOP tools for measuring, managing and visualizing risk of financial instruments and portfolios.</td>\\n</tr>\\n<tr class=\"even\">\\n <td><a href=\"/pypi/taxcalc/0.5.9\">taxcalc&nbsp;0.5.9</a></td>\\n <td>1</td>\\n <td>taxcalc</td>\\n</tr>\\n<tr class=\"odd\">\\n <td><a href=\"/pypi/taxcalc/0.5.8\">taxcalc&nbsp;0.5.8</a></td>\\n <td>1</td>\\n <td>taxcalc</td>\\n</tr>\\n<tr class=\"even\">\\n <td><a href=\"/pypi/taxcalc/0.5.7\">taxcalc&nbsp;0.5.7</a></td>\\n <td>1</td>\\n <td>taxcalc</td>\\n</tr>\\n<tr class=\"odd\">\\n <td><a href=\"/pypi/trytond_health/2.8.1\">trytond_health&nbsp;2.8.1</a></td>\\n <td>1</td>\\n <td>GNU Health core module</td>\\n</tr>\\n<tr class=\"even\">\\n <td><a href=\"/pypi/trytond_health/3.0.0\">trytond_health&nbsp;3.0.0</a></td>\\n <td>1</td>\\n <td>GNU Health core module</td>\\n</tr>\\n<tr class=\"odd\">\\n <td><a href=\"/pypi/trytond_health_mdg6/3.0.0\">trytond_health_mdg6&nbsp;3.0.0</a></td>\\n <td>1</td>\\n <td>GNU Health MDG6 - Millenium Development Goal # 6 Module</td>\\n</tr>\\n<tr class=\"even\">\\n <td><a href=\"/pypi/trytond_health_mdg6/2.8.1\">trytond_health_mdg6&nbsp;2.8.1</a></td>\\n <td>1</td>\\n <td>GNU Health MDG6 - Millenium Development Goal # 6 Module</td>\\n</tr>\\n<tr class=\"odd\">\\n <td><a href=\"/pypi/trytond_health_qrcodes/3.0.0\">trytond_health_qrcodes&nbsp;3.0.0</a></td>\\n <td>1</td>\\n <td>GNU Health Quick Recognition - QR codes Module</td>\\n</tr>\\n<tr class=\"even\">\\n <td><a href=\"/pypi/trytond_health_qrcodes/2.8.1\">trytond_health_qrcodes&nbsp;2.8.1</a></td>\\n <td>1</td>\\n <td>GNU Health Quick Recognition - QR codes Module</td>\\n</tr>\\n<tr class=\"odd\">\\n <td><a href=\"/pypi/trytond_health_who_essential_medicines/3.0.0\">trytond_health_who_essential_medicines&nbsp;3.0.0</a></td>\\n <td>1</td>\\n <td>GNU Health WHO Essential Medicines Module</td>\\n</tr>\\n<tr class=\"even\">\\n <td><a href=\"/pypi/trytond_health_who_essential_medicines/2.8.1\">trytond_health_who_essential_medicines&nbsp;2.8.1</a></td>\\n <td>1</td>\\n <td>GNU Health WHO Essential Medicines Module</td>\\n</tr>\\n<tr class=\"odd\">\\n <td><a href=\"/pypi/turberfield-dynamics/00.010\">turberfield-dynamics&nbsp;00.010</a></td>\\n <td>1</td>\\n <td>A package from the Turberfield project. Provides a simulation framework.</td>\\n</tr>\\n<tr class=\"even\">\\n <td><a href=\"/pypi/turberfield-eargain/00.004\">turberfield-eargain&nbsp;00.004</a></td>\\n <td>1</td>\\n <td>An example of interactive storytelling with Python</td>\\n</tr>\\n<tr class=\"odd\">\\n <td><a href=\"/pypi/turberfield-ipc/0.12.0\">turberfield-ipc&nbsp;0.12.0</a></td>\\n <td>1</td>\\n <td>A Distributed Inter-Process Control Facility from the Turberfield project.</td>\\n</tr>\\n<tr class=\"even\">\\n <td><a href=\"/pypi/turberfield-machina/0.010.0\">turberfield-machina&nbsp;0.010.0</a></td>\\n <td>1</td>\\n <td>Semantic web-based movement for interactive storytelling.</td>\\n</tr>\\n<tr class=\"odd\">\\n <td><a href=\"/pypi/turberfield-utils/0.011.0\">turberfield-utils&nbsp;0.011.0</a></td>\\n <td>1</td>\\n <td>Reusable modules from the Turberfield project.</td>\\n</tr>\\n<tr class=\"even\">\\n <td><a href=\"/pypi/turberfield-utils/0.21.0\">turberfield-utils&nbsp;0.21.0</a></td>\\n <td>1</td>\\n <td>Reusable modules from the Turberfield project.</td>\\n</tr>\\n<tr class=\"odd\">\\n <td><a href=\"/pypi/turberfield-utils/0.18.0\">turberfield-utils&nbsp;0.18.0</a></td>\\n <td>1</td>\\n <td>Reusable modules from the Turberfield project.</td>\\n</tr>\\n<tr class=\"even\">\\n <td><a href=\"/pypi/turberfield-utils/0.20.0\">turberfield-utils&nbsp;0.20.0</a></td>\\n <td>1</td>\\n <td>Reusable modules from the Turberfield project.</td>\\n</tr>\\n<tr class=\"odd\">\\n <td><a href=\"/pypi/ud-py-moneyed/0.6.1\">ud-py-moneyed&nbsp;0.6.1</a></td>\\n <td>1</td>\\n <td>Provides Currency and Money classes for use in your Python code.</td>\\n</tr>\\n<tr class=\"even\">\\n <td><a href=\"/pypi/ud-py-moneyed/0.5.2\">ud-py-moneyed&nbsp;0.5.2</a></td>\\n <td>1</td>\\n <td>Provides Currency and Money classes for use in your Python code.</td>\\n</tr>\\n\\n<tr>\\n <td id=\"last\" colspan=\"3\"/>\\n</tr>\\n</table>\\n\\n<p>*: occurrence of search term weighted by\\nfield (name, summary, keywords, description, author, maintainer)</p>\\n\\n\\n\\n            </div>\\n\\n\\n          </div>\\n          <div id=\"footer\"><div id=\"credits\">\\n            <a href=\"http://www.python.org/about/website\">Website maintained by the Python community</a><br/>\\n            <a href=\"https://www.fastly.com/\" title=\"Real-time CDN services provided by Fastly\">Real-time CDN by Fastly</a> /\\n            <a href=\"http://developer.rackspace.com/\" title=\"Server hosting by Rackspace Open Source support\">hosting by Rackspace</a> /\\n            <a href=\"http://www.timparkin.co.uk/\" title=\"Design by Tim Parkin, Yorkshire man, photographer and developer\">design by Tim Parkin</a>\\n          </div>\\n          Copyright © 1990-2015, <a href=\"http://www.python.org/psf\">Python Software Foundation</a><br/>\\n          <a href=\"http://www.python.org/about/legal\">Legal Statements</a>\\n\\n          </div>\\n        </div>\\n      </div>\\n\\n      \\n      <script>\\n        (function(i,s,o,g,r,a,m){i[\\'GoogleAnalyticsObject\\']=r;i[r]=i[r]||function(){\\n          (i[r].q=i[r].q||[]).push(arguments)},i[r].l=1*new Date();a=s.createElement(o),\\n          m=s.getElementsByTagName(o)[0];a.async=1;a.src=g;m.parentNode.insertBefore(a,m)\\n        })(window,document,\\'script\\',\\'//www.google-analytics.com/analytics.js\\',\\'ga\\');\\n\\n        ga(\\'create\\', \\'UA-55961911-1\\', \\'auto\\');\\n        ga(\\'require\\', \\'linkid\\', \\'linkid.js\\');\\n        ga(\\'send\\', \\'pageview\\');\\n      </script>\\n      \\n\\n      <script type=\"text/javascript\" src=\"//statuspage-production.s3.amazonaws.com/se-v2.js\">\\n      </script>\\n      <script type=\"text/javascript\">\\n        var sp = new StatusPage.page({ page : \\'2p66nmmycsj3\\' });\\n        sp.summary({\\n          // <![CDATA[\\n          success: function(data) {\\n            var div = document.getElementById(\\'statusdiv\\');\\n            var reports = \"</br><h4 id=\\'statusbox\\'>Status</h4>\\\\n\";\\n            var outage = 0;\\n            var maintenance = 0;\\n            for (i in data.incidents) {\\n              var incident = data.incidents[i];\\n              var message, status = incident.status;\\n              if (status === \\'scheduled\\') {\\n                message = \\'<li><a href=\"\\' + incident.shortlink + \\'\">\\' + incident.name + \\' scheduled.</a></li>\\\\n\\';\\n                reports += message;\\n                maintenance += 1;\\n              } else if (status === \\'in_progress\\') {\\n                message = \\'<li><a href=\"\\' + incident.shortlink + \\'\">\\' + incident.name + \\' is currently in progress.\\' + \\'</a></li>\\\\n\\';\\n                reports += message;\\n                maintenance += 1;\\n              } else if (status !== \\'resolved\\' && status !== \\'postmortem\\' && status !== \\'completed\\') {\\n                message = \\'<li><a href=\"\\' + incident.shortlink + \\'\">\\' + incident.name + \\': \\' + incident.status + \\'</a></li>\\\\n\\';\\n                reports += message;\\n                outage += 1;\\n              }\\n            }\\n            for (i in data.scheduled_maintenances) {\\n              var incident = data.scheduled_maintenances[i];\\n              var message, status = incident.status;\\n              if (status === \\'scheduled\\') {\\n                message = \\'<li><a href=\"\\' + incident.shortlink + \\'\">\\' + incident.name + \\' scheduled.</a></li>\\\\n\\';\\n                reports += message;\\n                maintenance += 1;\\n              } else if (status === \\'in_progress\\') {\\n                message = \\'<li><a href=\"\\' + incident.shortlink + \\'\">\\' + incident.name + \\' is currently in progress.\\' + \\'</a></li>\\\\n\\';\\n                reports += message;\\n                maintenance += 1;\\n              } else if (status !== \\'resolved\\' && status !== \\'postmortem\\' && status !== \\'completed\\') {\\n                message = \\'<li><a href=\"\\' + incident.shortlink + \\'\">\\' + incident.name + \\': \\' + incident.status + \\'</a></li>\\\\n\\';\\n                reports += message;\\n                outage += 1;\\n              }\\n            }\\n            if (outage + maintenance === 0) {\\n              reports += \"<li><a href=\\'http://status.python.org\\'>Nothing to report</a></li>\";\\n            }\\n            div.innerHTML=reports;\\n            if (outage > 0) {\\n              var statusbox = document.getElementById(\"statusbox\");\\n              statusbox.style.background = \\'#FC234A\\';\\n            }\\n          }\\n          // ]]>\\n        });\\n      </script>\\n\\n    </body>\\n  </html>\\n\\n'"
      ]
     },
     "execution_count": 126,
     "metadata": {},
     "output_type": "execute_result"
    }
   ],
   "source": [
    "page.text"
   ]
  },
  {
   "cell_type": "code",
   "execution_count": 127,
   "metadata": {
    "collapsed": true
   },
   "outputs": [],
   "source": [
    "table = pd.read_html(page.text)"
   ]
  },
  {
   "cell_type": "code",
   "execution_count": 128,
   "metadata": {
    "collapsed": false
   },
   "outputs": [
    {
     "data": {
      "text/html": [
       "<div>\n",
       "<table border=\"1\" class=\"dataframe\">\n",
       "  <thead>\n",
       "    <tr style=\"text-align: right;\">\n",
       "      <th></th>\n",
       "      <th>0</th>\n",
       "      <th>1</th>\n",
       "      <th>2</th>\n",
       "    </tr>\n",
       "  </thead>\n",
       "  <tbody>\n",
       "    <tr>\n",
       "      <th>0</th>\n",
       "      <td>Package</td>\n",
       "      <td>Weight*</td>\n",
       "      <td>Description</td>\n",
       "    </tr>\n",
       "    <tr>\n",
       "      <th>1</th>\n",
       "      <td>economics 0.1.2</td>\n",
       "      <td>11</td>\n",
       "      <td>Functions and data manipulation for economics ...</td>\n",
       "    </tr>\n",
       "    <tr>\n",
       "      <th>2</th>\n",
       "      <td>trytond_health_socioeconomics 3.0.0</td>\n",
       "      <td>6</td>\n",
       "      <td>GNU Health Socioeconomics Module</td>\n",
       "    </tr>\n",
       "    <tr>\n",
       "      <th>3</th>\n",
       "      <td>trytond_health_socioeconomics 2.8.1</td>\n",
       "      <td>6</td>\n",
       "      <td>GNU Health Socioeconomics Module</td>\n",
       "    </tr>\n",
       "    <tr>\n",
       "      <th>4</th>\n",
       "      <td>econometrics 0.1.</td>\n",
       "      <td>4</td>\n",
       "      <td>Python economics library</td>\n",
       "    </tr>\n",
       "    <tr>\n",
       "      <th>5</th>\n",
       "      <td>pymaclab 0.95.9</td>\n",
       "      <td>4</td>\n",
       "      <td>The Python Macroeconomics Laboratory</td>\n",
       "    </tr>\n",
       "    <tr>\n",
       "      <th>6</th>\n",
       "      <td>dismalpy 0.2.3</td>\n",
       "      <td>2</td>\n",
       "      <td>DismalPy: a collection of resources for quanti...</td>\n",
       "    </tr>\n",
       "    <tr>\n",
       "      <th>7</th>\n",
       "      <td>dismalpy 0.2.2</td>\n",
       "      <td>2</td>\n",
       "      <td>DismalPy: a collection of resources for quanti...</td>\n",
       "    </tr>\n",
       "    <tr>\n",
       "      <th>8</th>\n",
       "      <td>econ 0.4</td>\n",
       "      <td>2</td>\n",
       "      <td>An open set of economics related tools, data a...</td>\n",
       "    </tr>\n",
       "    <tr>\n",
       "      <th>9</th>\n",
       "      <td>FRB 1.1.1</td>\n",
       "      <td>2</td>\n",
       "      <td>Federal Reserve Economic Data (FRED)</td>\n",
       "    </tr>\n",
       "    <tr>\n",
       "      <th>10</th>\n",
       "      <td>FRB 1.1.2</td>\n",
       "      <td>2</td>\n",
       "      <td>Federal Reserve Economic Data (FRED)</td>\n",
       "    </tr>\n",
       "    <tr>\n",
       "      <th>11</th>\n",
       "      <td>FRB 1.1.0</td>\n",
       "      <td>2</td>\n",
       "      <td>Federal Reserve Economic Data (FRED)</td>\n",
       "    </tr>\n",
       "    <tr>\n",
       "      <th>12</th>\n",
       "      <td>fredpy 0.4.2</td>\n",
       "      <td>2</td>\n",
       "      <td>A package for downloading and working with dat...</td>\n",
       "    </tr>\n",
       "    <tr>\n",
       "      <th>13</th>\n",
       "      <td>fredpy 1.0.0</td>\n",
       "      <td>2</td>\n",
       "      <td>A package for downloading and working with dat...</td>\n",
       "    </tr>\n",
       "    <tr>\n",
       "      <th>14</th>\n",
       "      <td>fredpy 1.0.1</td>\n",
       "      <td>2</td>\n",
       "      <td>A package for downloading and working with dat...</td>\n",
       "    </tr>\n",
       "    <tr>\n",
       "      <th>15</th>\n",
       "      <td>fredpy 0.4.1</td>\n",
       "      <td>2</td>\n",
       "      <td>A package for downloading and working with dat...</td>\n",
       "    </tr>\n",
       "    <tr>\n",
       "      <th>16</th>\n",
       "      <td>future_value 1.1.0</td>\n",
       "      <td>2</td>\n",
       "      <td>Define a future or present value of the taxes....</td>\n",
       "    </tr>\n",
       "    <tr>\n",
       "      <th>17</th>\n",
       "      <td>grmpy 1.1.1.19</td>\n",
       "      <td>2</td>\n",
       "      <td>Estimator for the generalized Roy Model</td>\n",
       "    </tr>\n",
       "    <tr>\n",
       "      <th>18</th>\n",
       "      <td>inquisitor 0.1.2</td>\n",
       "      <td>2</td>\n",
       "      <td>Python class to fetch data from inquirim.com</td>\n",
       "    </tr>\n",
       "    <tr>\n",
       "      <th>19</th>\n",
       "      <td>inquisitor 0.1</td>\n",
       "      <td>2</td>\n",
       "      <td>Python class to fetch data from inquirim.com</td>\n",
       "    </tr>\n",
       "    <tr>\n",
       "      <th>20</th>\n",
       "      <td>inquisitor 1.0b1</td>\n",
       "      <td>2</td>\n",
       "      <td>A python wrapper around the API of Inquirim.com</td>\n",
       "    </tr>\n",
       "    <tr>\n",
       "      <th>21</th>\n",
       "      <td>inquisitor 0.1.1</td>\n",
       "      <td>2</td>\n",
       "      <td>Python class to fetch data from inquirim.com</td>\n",
       "    </tr>\n",
       "    <tr>\n",
       "      <th>22</th>\n",
       "      <td>linearsolve 0.0.1a</td>\n",
       "      <td>2</td>\n",
       "      <td>A package for solving and simulating linear dy...</td>\n",
       "    </tr>\n",
       "    <tr>\n",
       "      <th>23</th>\n",
       "      <td>paretochart 1.0</td>\n",
       "      <td>2</td>\n",
       "      <td>Pareto chart for python (similar to Matlab's, ...</td>\n",
       "    </tr>\n",
       "    <tr>\n",
       "      <th>24</th>\n",
       "      <td>quantecon 0.3.0</td>\n",
       "      <td>2</td>\n",
       "      <td>QuantEcon is a package to support all forms of...</td>\n",
       "    </tr>\n",
       "    <tr>\n",
       "      <th>25</th>\n",
       "      <td>quantecon 0.3.1</td>\n",
       "      <td>2</td>\n",
       "      <td>QuantEcon is a package to support all forms of...</td>\n",
       "    </tr>\n",
       "    <tr>\n",
       "      <th>26</th>\n",
       "      <td>quantecon 0.2.2</td>\n",
       "      <td>2</td>\n",
       "      <td>QuantEcon is a package to support all forms of...</td>\n",
       "    </tr>\n",
       "    <tr>\n",
       "      <th>27</th>\n",
       "      <td>quantecon 0.2.0</td>\n",
       "      <td>2</td>\n",
       "      <td>QuantEcon is a package to support all forms of...</td>\n",
       "    </tr>\n",
       "    <tr>\n",
       "      <th>28</th>\n",
       "      <td>redwood 1.0</td>\n",
       "      <td>2</td>\n",
       "      <td>Tools for networked Experimental Economics</td>\n",
       "    </tr>\n",
       "    <tr>\n",
       "      <th>29</th>\n",
       "      <td>robupy 0.1.8</td>\n",
       "      <td>2</td>\n",
       "      <td>Toolbox to explore robust dynamic discrete cho...</td>\n",
       "    </tr>\n",
       "    <tr>\n",
       "      <th>...</th>\n",
       "      <td>...</td>\n",
       "      <td>...</td>\n",
       "      <td>...</td>\n",
       "    </tr>\n",
       "    <tr>\n",
       "      <th>50</th>\n",
       "      <td>pyCollocation 0.4.0-alpha</td>\n",
       "      <td>1</td>\n",
       "      <td>Python package for solving initial value probl...</td>\n",
       "    </tr>\n",
       "    <tr>\n",
       "      <th>51</th>\n",
       "      <td>pyCollocation 0.5-alpha</td>\n",
       "      <td>1</td>\n",
       "      <td>Python package for solving initial value probl...</td>\n",
       "    </tr>\n",
       "    <tr>\n",
       "      <th>52</th>\n",
       "      <td>pysolve 0.1.7</td>\n",
       "      <td>1</td>\n",
       "      <td>A simple interface for solving systems of equa...</td>\n",
       "    </tr>\n",
       "    <tr>\n",
       "      <th>53</th>\n",
       "      <td>qfrm 0.1.1.12</td>\n",
       "      <td>1</td>\n",
       "      <td>Quantitative Financial Risk Management: awesom...</td>\n",
       "    </tr>\n",
       "    <tr>\n",
       "      <th>54</th>\n",
       "      <td>qfrm 0.2.0.14</td>\n",
       "      <td>1</td>\n",
       "      <td>Quantitative Financial Risk Management: awesom...</td>\n",
       "    </tr>\n",
       "    <tr>\n",
       "      <th>55</th>\n",
       "      <td>qfrm 0.2.0.1</td>\n",
       "      <td>1</td>\n",
       "      <td>Quantitative Financial Risk Management: awesom...</td>\n",
       "    </tr>\n",
       "    <tr>\n",
       "      <th>56</th>\n",
       "      <td>qfrm 0.2.0.7</td>\n",
       "      <td>1</td>\n",
       "      <td>Quantitative Financial Risk Management: awesom...</td>\n",
       "    </tr>\n",
       "    <tr>\n",
       "      <th>57</th>\n",
       "      <td>qfrm 0.2.0.19</td>\n",
       "      <td>1</td>\n",
       "      <td>Quantitative Financial Risk Management: awesom...</td>\n",
       "    </tr>\n",
       "    <tr>\n",
       "      <th>58</th>\n",
       "      <td>taxcalc 0.5.9</td>\n",
       "      <td>1</td>\n",
       "      <td>taxcalc</td>\n",
       "    </tr>\n",
       "    <tr>\n",
       "      <th>59</th>\n",
       "      <td>taxcalc 0.5.8</td>\n",
       "      <td>1</td>\n",
       "      <td>taxcalc</td>\n",
       "    </tr>\n",
       "    <tr>\n",
       "      <th>60</th>\n",
       "      <td>taxcalc 0.5.7</td>\n",
       "      <td>1</td>\n",
       "      <td>taxcalc</td>\n",
       "    </tr>\n",
       "    <tr>\n",
       "      <th>61</th>\n",
       "      <td>trytond_health 2.8.1</td>\n",
       "      <td>1</td>\n",
       "      <td>GNU Health core module</td>\n",
       "    </tr>\n",
       "    <tr>\n",
       "      <th>62</th>\n",
       "      <td>trytond_health 3.0.0</td>\n",
       "      <td>1</td>\n",
       "      <td>GNU Health core module</td>\n",
       "    </tr>\n",
       "    <tr>\n",
       "      <th>63</th>\n",
       "      <td>trytond_health_mdg6 3.0.0</td>\n",
       "      <td>1</td>\n",
       "      <td>GNU Health MDG6 - Millenium Development Goal #...</td>\n",
       "    </tr>\n",
       "    <tr>\n",
       "      <th>64</th>\n",
       "      <td>trytond_health_mdg6 2.8.1</td>\n",
       "      <td>1</td>\n",
       "      <td>GNU Health MDG6 - Millenium Development Goal #...</td>\n",
       "    </tr>\n",
       "    <tr>\n",
       "      <th>65</th>\n",
       "      <td>trytond_health_qrcodes 3.0.0</td>\n",
       "      <td>1</td>\n",
       "      <td>GNU Health Quick Recognition - QR codes Module</td>\n",
       "    </tr>\n",
       "    <tr>\n",
       "      <th>66</th>\n",
       "      <td>trytond_health_qrcodes 2.8.1</td>\n",
       "      <td>1</td>\n",
       "      <td>GNU Health Quick Recognition - QR codes Module</td>\n",
       "    </tr>\n",
       "    <tr>\n",
       "      <th>67</th>\n",
       "      <td>trytond_health_who_essential_medicines 3.0.0</td>\n",
       "      <td>1</td>\n",
       "      <td>GNU Health WHO Essential Medicines Module</td>\n",
       "    </tr>\n",
       "    <tr>\n",
       "      <th>68</th>\n",
       "      <td>trytond_health_who_essential_medicines 2.8.1</td>\n",
       "      <td>1</td>\n",
       "      <td>GNU Health WHO Essential Medicines Module</td>\n",
       "    </tr>\n",
       "    <tr>\n",
       "      <th>69</th>\n",
       "      <td>turberfield-dynamics 00.010</td>\n",
       "      <td>1</td>\n",
       "      <td>A package from the Turberfield project. Provid...</td>\n",
       "    </tr>\n",
       "    <tr>\n",
       "      <th>70</th>\n",
       "      <td>turberfield-eargain 00.004</td>\n",
       "      <td>1</td>\n",
       "      <td>An example of interactive storytelling with Py...</td>\n",
       "    </tr>\n",
       "    <tr>\n",
       "      <th>71</th>\n",
       "      <td>turberfield-ipc 0.12.0</td>\n",
       "      <td>1</td>\n",
       "      <td>A Distributed Inter-Process Control Facility f...</td>\n",
       "    </tr>\n",
       "    <tr>\n",
       "      <th>72</th>\n",
       "      <td>turberfield-machina 0.010.0</td>\n",
       "      <td>1</td>\n",
       "      <td>Semantic web-based movement for interactive st...</td>\n",
       "    </tr>\n",
       "    <tr>\n",
       "      <th>73</th>\n",
       "      <td>turberfield-utils 0.011.0</td>\n",
       "      <td>1</td>\n",
       "      <td>Reusable modules from the Turberfield project.</td>\n",
       "    </tr>\n",
       "    <tr>\n",
       "      <th>74</th>\n",
       "      <td>turberfield-utils 0.21.0</td>\n",
       "      <td>1</td>\n",
       "      <td>Reusable modules from the Turberfield project.</td>\n",
       "    </tr>\n",
       "    <tr>\n",
       "      <th>75</th>\n",
       "      <td>turberfield-utils 0.18.0</td>\n",
       "      <td>1</td>\n",
       "      <td>Reusable modules from the Turberfield project.</td>\n",
       "    </tr>\n",
       "    <tr>\n",
       "      <th>76</th>\n",
       "      <td>turberfield-utils 0.20.0</td>\n",
       "      <td>1</td>\n",
       "      <td>Reusable modules from the Turberfield project.</td>\n",
       "    </tr>\n",
       "    <tr>\n",
       "      <th>77</th>\n",
       "      <td>ud-py-moneyed 0.6.1</td>\n",
       "      <td>1</td>\n",
       "      <td>Provides Currency and Money classes for use in...</td>\n",
       "    </tr>\n",
       "    <tr>\n",
       "      <th>78</th>\n",
       "      <td>ud-py-moneyed 0.5.2</td>\n",
       "      <td>1</td>\n",
       "      <td>Provides Currency and Money classes for use in...</td>\n",
       "    </tr>\n",
       "    <tr>\n",
       "      <th>79</th>\n",
       "      <td>NaN</td>\n",
       "      <td>NaN</td>\n",
       "      <td>NaN</td>\n",
       "    </tr>\n",
       "  </tbody>\n",
       "</table>\n",
       "<p>80 rows × 3 columns</p>\n",
       "</div>"
      ],
      "text/plain": [
       "                                               0        1  \\\n",
       "0                                        Package  Weight*   \n",
       "1                                economics 0.1.2       11   \n",
       "2            trytond_health_socioeconomics 3.0.0        6   \n",
       "3            trytond_health_socioeconomics 2.8.1        6   \n",
       "4                              econometrics 0.1.        4   \n",
       "5                                pymaclab 0.95.9        4   \n",
       "6                                 dismalpy 0.2.3        2   \n",
       "7                                 dismalpy 0.2.2        2   \n",
       "8                                       econ 0.4        2   \n",
       "9                                      FRB 1.1.1        2   \n",
       "10                                     FRB 1.1.2        2   \n",
       "11                                     FRB 1.1.0        2   \n",
       "12                                  fredpy 0.4.2        2   \n",
       "13                                  fredpy 1.0.0        2   \n",
       "14                                  fredpy 1.0.1        2   \n",
       "15                                  fredpy 0.4.1        2   \n",
       "16                            future_value 1.1.0        2   \n",
       "17                                grmpy 1.1.1.19        2   \n",
       "18                              inquisitor 0.1.2        2   \n",
       "19                                inquisitor 0.1        2   \n",
       "20                              inquisitor 1.0b1        2   \n",
       "21                              inquisitor 0.1.1        2   \n",
       "22                            linearsolve 0.0.1a        2   \n",
       "23                               paretochart 1.0        2   \n",
       "24                               quantecon 0.3.0        2   \n",
       "25                               quantecon 0.3.1        2   \n",
       "26                               quantecon 0.2.2        2   \n",
       "27                               quantecon 0.2.0        2   \n",
       "28                                   redwood 1.0        2   \n",
       "29                                  robupy 0.1.8        2   \n",
       "..                                           ...      ...   \n",
       "50                     pyCollocation 0.4.0-alpha        1   \n",
       "51                       pyCollocation 0.5-alpha        1   \n",
       "52                                 pysolve 0.1.7        1   \n",
       "53                                 qfrm 0.1.1.12        1   \n",
       "54                                 qfrm 0.2.0.14        1   \n",
       "55                                  qfrm 0.2.0.1        1   \n",
       "56                                  qfrm 0.2.0.7        1   \n",
       "57                                 qfrm 0.2.0.19        1   \n",
       "58                                 taxcalc 0.5.9        1   \n",
       "59                                 taxcalc 0.5.8        1   \n",
       "60                                 taxcalc 0.5.7        1   \n",
       "61                          trytond_health 2.8.1        1   \n",
       "62                          trytond_health 3.0.0        1   \n",
       "63                     trytond_health_mdg6 3.0.0        1   \n",
       "64                     trytond_health_mdg6 2.8.1        1   \n",
       "65                  trytond_health_qrcodes 3.0.0        1   \n",
       "66                  trytond_health_qrcodes 2.8.1        1   \n",
       "67  trytond_health_who_essential_medicines 3.0.0        1   \n",
       "68  trytond_health_who_essential_medicines 2.8.1        1   \n",
       "69                   turberfield-dynamics 00.010        1   \n",
       "70                    turberfield-eargain 00.004        1   \n",
       "71                        turberfield-ipc 0.12.0        1   \n",
       "72                   turberfield-machina 0.010.0        1   \n",
       "73                     turberfield-utils 0.011.0        1   \n",
       "74                      turberfield-utils 0.21.0        1   \n",
       "75                      turberfield-utils 0.18.0        1   \n",
       "76                      turberfield-utils 0.20.0        1   \n",
       "77                           ud-py-moneyed 0.6.1        1   \n",
       "78                           ud-py-moneyed 0.5.2        1   \n",
       "79                                           NaN      NaN   \n",
       "\n",
       "                                                    2  \n",
       "0                                         Description  \n",
       "1   Functions and data manipulation for economics ...  \n",
       "2                    GNU Health Socioeconomics Module  \n",
       "3                    GNU Health Socioeconomics Module  \n",
       "4                            Python economics library  \n",
       "5                The Python Macroeconomics Laboratory  \n",
       "6   DismalPy: a collection of resources for quanti...  \n",
       "7   DismalPy: a collection of resources for quanti...  \n",
       "8   An open set of economics related tools, data a...  \n",
       "9                Federal Reserve Economic Data (FRED)  \n",
       "10               Federal Reserve Economic Data (FRED)  \n",
       "11               Federal Reserve Economic Data (FRED)  \n",
       "12  A package for downloading and working with dat...  \n",
       "13  A package for downloading and working with dat...  \n",
       "14  A package for downloading and working with dat...  \n",
       "15  A package for downloading and working with dat...  \n",
       "16  Define a future or present value of the taxes....  \n",
       "17            Estimator for the generalized Roy Model  \n",
       "18       Python class to fetch data from inquirim.com  \n",
       "19       Python class to fetch data from inquirim.com  \n",
       "20    A python wrapper around the API of Inquirim.com  \n",
       "21       Python class to fetch data from inquirim.com  \n",
       "22  A package for solving and simulating linear dy...  \n",
       "23  Pareto chart for python (similar to Matlab's, ...  \n",
       "24  QuantEcon is a package to support all forms of...  \n",
       "25  QuantEcon is a package to support all forms of...  \n",
       "26  QuantEcon is a package to support all forms of...  \n",
       "27  QuantEcon is a package to support all forms of...  \n",
       "28         Tools for networked Experimental Economics  \n",
       "29  Toolbox to explore robust dynamic discrete cho...  \n",
       "..                                                ...  \n",
       "50  Python package for solving initial value probl...  \n",
       "51  Python package for solving initial value probl...  \n",
       "52  A simple interface for solving systems of equa...  \n",
       "53  Quantitative Financial Risk Management: awesom...  \n",
       "54  Quantitative Financial Risk Management: awesom...  \n",
       "55  Quantitative Financial Risk Management: awesom...  \n",
       "56  Quantitative Financial Risk Management: awesom...  \n",
       "57  Quantitative Financial Risk Management: awesom...  \n",
       "58                                            taxcalc  \n",
       "59                                            taxcalc  \n",
       "60                                            taxcalc  \n",
       "61                             GNU Health core module  \n",
       "62                             GNU Health core module  \n",
       "63  GNU Health MDG6 - Millenium Development Goal #...  \n",
       "64  GNU Health MDG6 - Millenium Development Goal #...  \n",
       "65     GNU Health Quick Recognition - QR codes Module  \n",
       "66     GNU Health Quick Recognition - QR codes Module  \n",
       "67          GNU Health WHO Essential Medicines Module  \n",
       "68          GNU Health WHO Essential Medicines Module  \n",
       "69  A package from the Turberfield project. Provid...  \n",
       "70  An example of interactive storytelling with Py...  \n",
       "71  A Distributed Inter-Process Control Facility f...  \n",
       "72  Semantic web-based movement for interactive st...  \n",
       "73     Reusable modules from the Turberfield project.  \n",
       "74     Reusable modules from the Turberfield project.  \n",
       "75     Reusable modules from the Turberfield project.  \n",
       "76     Reusable modules from the Turberfield project.  \n",
       "77  Provides Currency and Money classes for use in...  \n",
       "78  Provides Currency and Money classes for use in...  \n",
       "79                                                NaN  \n",
       "\n",
       "[80 rows x 3 columns]"
      ]
     },
     "execution_count": 128,
     "metadata": {},
     "output_type": "execute_result"
    }
   ],
   "source": [
    "table[0]"
   ]
  },
  {
   "cell_type": "code",
   "execution_count": 129,
   "metadata": {
    "collapsed": false
   },
   "outputs": [],
   "source": [
    "#-Use Infered Header Information-#\n",
    "table = pd.read_html(page.text, header=0)[0]"
   ]
  },
  {
   "cell_type": "code",
   "execution_count": 130,
   "metadata": {
    "collapsed": false
   },
   "outputs": [
    {
     "data": {
      "text/html": [
       "<div>\n",
       "<table border=\"1\" class=\"dataframe\">\n",
       "  <thead>\n",
       "    <tr style=\"text-align: right;\">\n",
       "      <th></th>\n",
       "      <th>Package</th>\n",
       "      <th>Weight*</th>\n",
       "      <th>Description</th>\n",
       "    </tr>\n",
       "  </thead>\n",
       "  <tbody>\n",
       "    <tr>\n",
       "      <th>0</th>\n",
       "      <td>economics 0.1.2</td>\n",
       "      <td>11</td>\n",
       "      <td>Functions and data manipulation for economics ...</td>\n",
       "    </tr>\n",
       "    <tr>\n",
       "      <th>1</th>\n",
       "      <td>trytond_health_socioeconomics 3.0.0</td>\n",
       "      <td>6</td>\n",
       "      <td>GNU Health Socioeconomics Module</td>\n",
       "    </tr>\n",
       "    <tr>\n",
       "      <th>2</th>\n",
       "      <td>trytond_health_socioeconomics 2.8.1</td>\n",
       "      <td>6</td>\n",
       "      <td>GNU Health Socioeconomics Module</td>\n",
       "    </tr>\n",
       "    <tr>\n",
       "      <th>3</th>\n",
       "      <td>econometrics 0.1.</td>\n",
       "      <td>4</td>\n",
       "      <td>Python economics library</td>\n",
       "    </tr>\n",
       "    <tr>\n",
       "      <th>4</th>\n",
       "      <td>pymaclab 0.95.9</td>\n",
       "      <td>4</td>\n",
       "      <td>The Python Macroeconomics Laboratory</td>\n",
       "    </tr>\n",
       "    <tr>\n",
       "      <th>5</th>\n",
       "      <td>dismalpy 0.2.3</td>\n",
       "      <td>2</td>\n",
       "      <td>DismalPy: a collection of resources for quanti...</td>\n",
       "    </tr>\n",
       "    <tr>\n",
       "      <th>6</th>\n",
       "      <td>dismalpy 0.2.2</td>\n",
       "      <td>2</td>\n",
       "      <td>DismalPy: a collection of resources for quanti...</td>\n",
       "    </tr>\n",
       "    <tr>\n",
       "      <th>7</th>\n",
       "      <td>econ 0.4</td>\n",
       "      <td>2</td>\n",
       "      <td>An open set of economics related tools, data a...</td>\n",
       "    </tr>\n",
       "    <tr>\n",
       "      <th>8</th>\n",
       "      <td>FRB 1.1.1</td>\n",
       "      <td>2</td>\n",
       "      <td>Federal Reserve Economic Data (FRED)</td>\n",
       "    </tr>\n",
       "    <tr>\n",
       "      <th>9</th>\n",
       "      <td>FRB 1.1.2</td>\n",
       "      <td>2</td>\n",
       "      <td>Federal Reserve Economic Data (FRED)</td>\n",
       "    </tr>\n",
       "    <tr>\n",
       "      <th>10</th>\n",
       "      <td>FRB 1.1.0</td>\n",
       "      <td>2</td>\n",
       "      <td>Federal Reserve Economic Data (FRED)</td>\n",
       "    </tr>\n",
       "    <tr>\n",
       "      <th>11</th>\n",
       "      <td>fredpy 0.4.2</td>\n",
       "      <td>2</td>\n",
       "      <td>A package for downloading and working with dat...</td>\n",
       "    </tr>\n",
       "    <tr>\n",
       "      <th>12</th>\n",
       "      <td>fredpy 1.0.0</td>\n",
       "      <td>2</td>\n",
       "      <td>A package for downloading and working with dat...</td>\n",
       "    </tr>\n",
       "    <tr>\n",
       "      <th>13</th>\n",
       "      <td>fredpy 1.0.1</td>\n",
       "      <td>2</td>\n",
       "      <td>A package for downloading and working with dat...</td>\n",
       "    </tr>\n",
       "    <tr>\n",
       "      <th>14</th>\n",
       "      <td>fredpy 0.4.1</td>\n",
       "      <td>2</td>\n",
       "      <td>A package for downloading and working with dat...</td>\n",
       "    </tr>\n",
       "    <tr>\n",
       "      <th>15</th>\n",
       "      <td>future_value 1.1.0</td>\n",
       "      <td>2</td>\n",
       "      <td>Define a future or present value of the taxes....</td>\n",
       "    </tr>\n",
       "    <tr>\n",
       "      <th>16</th>\n",
       "      <td>grmpy 1.1.1.19</td>\n",
       "      <td>2</td>\n",
       "      <td>Estimator for the generalized Roy Model</td>\n",
       "    </tr>\n",
       "    <tr>\n",
       "      <th>17</th>\n",
       "      <td>inquisitor 0.1.2</td>\n",
       "      <td>2</td>\n",
       "      <td>Python class to fetch data from inquirim.com</td>\n",
       "    </tr>\n",
       "    <tr>\n",
       "      <th>18</th>\n",
       "      <td>inquisitor 0.1</td>\n",
       "      <td>2</td>\n",
       "      <td>Python class to fetch data from inquirim.com</td>\n",
       "    </tr>\n",
       "    <tr>\n",
       "      <th>19</th>\n",
       "      <td>inquisitor 1.0b1</td>\n",
       "      <td>2</td>\n",
       "      <td>A python wrapper around the API of Inquirim.com</td>\n",
       "    </tr>\n",
       "    <tr>\n",
       "      <th>20</th>\n",
       "      <td>inquisitor 0.1.1</td>\n",
       "      <td>2</td>\n",
       "      <td>Python class to fetch data from inquirim.com</td>\n",
       "    </tr>\n",
       "    <tr>\n",
       "      <th>21</th>\n",
       "      <td>linearsolve 0.0.1a</td>\n",
       "      <td>2</td>\n",
       "      <td>A package for solving and simulating linear dy...</td>\n",
       "    </tr>\n",
       "    <tr>\n",
       "      <th>22</th>\n",
       "      <td>paretochart 1.0</td>\n",
       "      <td>2</td>\n",
       "      <td>Pareto chart for python (similar to Matlab's, ...</td>\n",
       "    </tr>\n",
       "    <tr>\n",
       "      <th>23</th>\n",
       "      <td>quantecon 0.3.0</td>\n",
       "      <td>2</td>\n",
       "      <td>QuantEcon is a package to support all forms of...</td>\n",
       "    </tr>\n",
       "    <tr>\n",
       "      <th>24</th>\n",
       "      <td>quantecon 0.3.1</td>\n",
       "      <td>2</td>\n",
       "      <td>QuantEcon is a package to support all forms of...</td>\n",
       "    </tr>\n",
       "    <tr>\n",
       "      <th>25</th>\n",
       "      <td>quantecon 0.2.2</td>\n",
       "      <td>2</td>\n",
       "      <td>QuantEcon is a package to support all forms of...</td>\n",
       "    </tr>\n",
       "    <tr>\n",
       "      <th>26</th>\n",
       "      <td>quantecon 0.2.0</td>\n",
       "      <td>2</td>\n",
       "      <td>QuantEcon is a package to support all forms of...</td>\n",
       "    </tr>\n",
       "    <tr>\n",
       "      <th>27</th>\n",
       "      <td>redwood 1.0</td>\n",
       "      <td>2</td>\n",
       "      <td>Tools for networked Experimental Economics</td>\n",
       "    </tr>\n",
       "    <tr>\n",
       "      <th>28</th>\n",
       "      <td>robupy 0.1.8</td>\n",
       "      <td>2</td>\n",
       "      <td>Toolbox to explore robust dynamic discrete cho...</td>\n",
       "    </tr>\n",
       "    <tr>\n",
       "      <th>29</th>\n",
       "      <td>robupy 0.1.4</td>\n",
       "      <td>2</td>\n",
       "      <td>Toolbox to explore robust dynamic discrete cho...</td>\n",
       "    </tr>\n",
       "    <tr>\n",
       "      <th>...</th>\n",
       "      <td>...</td>\n",
       "      <td>...</td>\n",
       "      <td>...</td>\n",
       "    </tr>\n",
       "    <tr>\n",
       "      <th>49</th>\n",
       "      <td>pyCollocation 0.4.0-alpha</td>\n",
       "      <td>1</td>\n",
       "      <td>Python package for solving initial value probl...</td>\n",
       "    </tr>\n",
       "    <tr>\n",
       "      <th>50</th>\n",
       "      <td>pyCollocation 0.5-alpha</td>\n",
       "      <td>1</td>\n",
       "      <td>Python package for solving initial value probl...</td>\n",
       "    </tr>\n",
       "    <tr>\n",
       "      <th>51</th>\n",
       "      <td>pysolve 0.1.7</td>\n",
       "      <td>1</td>\n",
       "      <td>A simple interface for solving systems of equa...</td>\n",
       "    </tr>\n",
       "    <tr>\n",
       "      <th>52</th>\n",
       "      <td>qfrm 0.1.1.12</td>\n",
       "      <td>1</td>\n",
       "      <td>Quantitative Financial Risk Management: awesom...</td>\n",
       "    </tr>\n",
       "    <tr>\n",
       "      <th>53</th>\n",
       "      <td>qfrm 0.2.0.14</td>\n",
       "      <td>1</td>\n",
       "      <td>Quantitative Financial Risk Management: awesom...</td>\n",
       "    </tr>\n",
       "    <tr>\n",
       "      <th>54</th>\n",
       "      <td>qfrm 0.2.0.1</td>\n",
       "      <td>1</td>\n",
       "      <td>Quantitative Financial Risk Management: awesom...</td>\n",
       "    </tr>\n",
       "    <tr>\n",
       "      <th>55</th>\n",
       "      <td>qfrm 0.2.0.7</td>\n",
       "      <td>1</td>\n",
       "      <td>Quantitative Financial Risk Management: awesom...</td>\n",
       "    </tr>\n",
       "    <tr>\n",
       "      <th>56</th>\n",
       "      <td>qfrm 0.2.0.19</td>\n",
       "      <td>1</td>\n",
       "      <td>Quantitative Financial Risk Management: awesom...</td>\n",
       "    </tr>\n",
       "    <tr>\n",
       "      <th>57</th>\n",
       "      <td>taxcalc 0.5.9</td>\n",
       "      <td>1</td>\n",
       "      <td>taxcalc</td>\n",
       "    </tr>\n",
       "    <tr>\n",
       "      <th>58</th>\n",
       "      <td>taxcalc 0.5.8</td>\n",
       "      <td>1</td>\n",
       "      <td>taxcalc</td>\n",
       "    </tr>\n",
       "    <tr>\n",
       "      <th>59</th>\n",
       "      <td>taxcalc 0.5.7</td>\n",
       "      <td>1</td>\n",
       "      <td>taxcalc</td>\n",
       "    </tr>\n",
       "    <tr>\n",
       "      <th>60</th>\n",
       "      <td>trytond_health 2.8.1</td>\n",
       "      <td>1</td>\n",
       "      <td>GNU Health core module</td>\n",
       "    </tr>\n",
       "    <tr>\n",
       "      <th>61</th>\n",
       "      <td>trytond_health 3.0.0</td>\n",
       "      <td>1</td>\n",
       "      <td>GNU Health core module</td>\n",
       "    </tr>\n",
       "    <tr>\n",
       "      <th>62</th>\n",
       "      <td>trytond_health_mdg6 3.0.0</td>\n",
       "      <td>1</td>\n",
       "      <td>GNU Health MDG6 - Millenium Development Goal #...</td>\n",
       "    </tr>\n",
       "    <tr>\n",
       "      <th>63</th>\n",
       "      <td>trytond_health_mdg6 2.8.1</td>\n",
       "      <td>1</td>\n",
       "      <td>GNU Health MDG6 - Millenium Development Goal #...</td>\n",
       "    </tr>\n",
       "    <tr>\n",
       "      <th>64</th>\n",
       "      <td>trytond_health_qrcodes 3.0.0</td>\n",
       "      <td>1</td>\n",
       "      <td>GNU Health Quick Recognition - QR codes Module</td>\n",
       "    </tr>\n",
       "    <tr>\n",
       "      <th>65</th>\n",
       "      <td>trytond_health_qrcodes 2.8.1</td>\n",
       "      <td>1</td>\n",
       "      <td>GNU Health Quick Recognition - QR codes Module</td>\n",
       "    </tr>\n",
       "    <tr>\n",
       "      <th>66</th>\n",
       "      <td>trytond_health_who_essential_medicines 3.0.0</td>\n",
       "      <td>1</td>\n",
       "      <td>GNU Health WHO Essential Medicines Module</td>\n",
       "    </tr>\n",
       "    <tr>\n",
       "      <th>67</th>\n",
       "      <td>trytond_health_who_essential_medicines 2.8.1</td>\n",
       "      <td>1</td>\n",
       "      <td>GNU Health WHO Essential Medicines Module</td>\n",
       "    </tr>\n",
       "    <tr>\n",
       "      <th>68</th>\n",
       "      <td>turberfield-dynamics 00.010</td>\n",
       "      <td>1</td>\n",
       "      <td>A package from the Turberfield project. Provid...</td>\n",
       "    </tr>\n",
       "    <tr>\n",
       "      <th>69</th>\n",
       "      <td>turberfield-eargain 00.004</td>\n",
       "      <td>1</td>\n",
       "      <td>An example of interactive storytelling with Py...</td>\n",
       "    </tr>\n",
       "    <tr>\n",
       "      <th>70</th>\n",
       "      <td>turberfield-ipc 0.12.0</td>\n",
       "      <td>1</td>\n",
       "      <td>A Distributed Inter-Process Control Facility f...</td>\n",
       "    </tr>\n",
       "    <tr>\n",
       "      <th>71</th>\n",
       "      <td>turberfield-machina 0.010.0</td>\n",
       "      <td>1</td>\n",
       "      <td>Semantic web-based movement for interactive st...</td>\n",
       "    </tr>\n",
       "    <tr>\n",
       "      <th>72</th>\n",
       "      <td>turberfield-utils 0.011.0</td>\n",
       "      <td>1</td>\n",
       "      <td>Reusable modules from the Turberfield project.</td>\n",
       "    </tr>\n",
       "    <tr>\n",
       "      <th>73</th>\n",
       "      <td>turberfield-utils 0.21.0</td>\n",
       "      <td>1</td>\n",
       "      <td>Reusable modules from the Turberfield project.</td>\n",
       "    </tr>\n",
       "    <tr>\n",
       "      <th>74</th>\n",
       "      <td>turberfield-utils 0.18.0</td>\n",
       "      <td>1</td>\n",
       "      <td>Reusable modules from the Turberfield project.</td>\n",
       "    </tr>\n",
       "    <tr>\n",
       "      <th>75</th>\n",
       "      <td>turberfield-utils 0.20.0</td>\n",
       "      <td>1</td>\n",
       "      <td>Reusable modules from the Turberfield project.</td>\n",
       "    </tr>\n",
       "    <tr>\n",
       "      <th>76</th>\n",
       "      <td>ud-py-moneyed 0.6.1</td>\n",
       "      <td>1</td>\n",
       "      <td>Provides Currency and Money classes for use in...</td>\n",
       "    </tr>\n",
       "    <tr>\n",
       "      <th>77</th>\n",
       "      <td>ud-py-moneyed 0.5.2</td>\n",
       "      <td>1</td>\n",
       "      <td>Provides Currency and Money classes for use in...</td>\n",
       "    </tr>\n",
       "    <tr>\n",
       "      <th>78</th>\n",
       "      <td>NaN</td>\n",
       "      <td>NaN</td>\n",
       "      <td>NaN</td>\n",
       "    </tr>\n",
       "  </tbody>\n",
       "</table>\n",
       "<p>79 rows × 3 columns</p>\n",
       "</div>"
      ],
      "text/plain": [
       "                                         Package  Weight*  \\\n",
       "0                                economics 0.1.2       11   \n",
       "1            trytond_health_socioeconomics 3.0.0        6   \n",
       "2            trytond_health_socioeconomics 2.8.1        6   \n",
       "3                              econometrics 0.1.        4   \n",
       "4                                pymaclab 0.95.9        4   \n",
       "5                                 dismalpy 0.2.3        2   \n",
       "6                                 dismalpy 0.2.2        2   \n",
       "7                                       econ 0.4        2   \n",
       "8                                      FRB 1.1.1        2   \n",
       "9                                      FRB 1.1.2        2   \n",
       "10                                     FRB 1.1.0        2   \n",
       "11                                  fredpy 0.4.2        2   \n",
       "12                                  fredpy 1.0.0        2   \n",
       "13                                  fredpy 1.0.1        2   \n",
       "14                                  fredpy 0.4.1        2   \n",
       "15                            future_value 1.1.0        2   \n",
       "16                                grmpy 1.1.1.19        2   \n",
       "17                              inquisitor 0.1.2        2   \n",
       "18                                inquisitor 0.1        2   \n",
       "19                              inquisitor 1.0b1        2   \n",
       "20                              inquisitor 0.1.1        2   \n",
       "21                            linearsolve 0.0.1a        2   \n",
       "22                               paretochart 1.0        2   \n",
       "23                               quantecon 0.3.0        2   \n",
       "24                               quantecon 0.3.1        2   \n",
       "25                               quantecon 0.2.2        2   \n",
       "26                               quantecon 0.2.0        2   \n",
       "27                                   redwood 1.0        2   \n",
       "28                                  robupy 0.1.8        2   \n",
       "29                                  robupy 0.1.4        2   \n",
       "..                                           ...      ...   \n",
       "49                     pyCollocation 0.4.0-alpha        1   \n",
       "50                       pyCollocation 0.5-alpha        1   \n",
       "51                                 pysolve 0.1.7        1   \n",
       "52                                 qfrm 0.1.1.12        1   \n",
       "53                                 qfrm 0.2.0.14        1   \n",
       "54                                  qfrm 0.2.0.1        1   \n",
       "55                                  qfrm 0.2.0.7        1   \n",
       "56                                 qfrm 0.2.0.19        1   \n",
       "57                                 taxcalc 0.5.9        1   \n",
       "58                                 taxcalc 0.5.8        1   \n",
       "59                                 taxcalc 0.5.7        1   \n",
       "60                          trytond_health 2.8.1        1   \n",
       "61                          trytond_health 3.0.0        1   \n",
       "62                     trytond_health_mdg6 3.0.0        1   \n",
       "63                     trytond_health_mdg6 2.8.1        1   \n",
       "64                  trytond_health_qrcodes 3.0.0        1   \n",
       "65                  trytond_health_qrcodes 2.8.1        1   \n",
       "66  trytond_health_who_essential_medicines 3.0.0        1   \n",
       "67  trytond_health_who_essential_medicines 2.8.1        1   \n",
       "68                   turberfield-dynamics 00.010        1   \n",
       "69                    turberfield-eargain 00.004        1   \n",
       "70                        turberfield-ipc 0.12.0        1   \n",
       "71                   turberfield-machina 0.010.0        1   \n",
       "72                     turberfield-utils 0.011.0        1   \n",
       "73                      turberfield-utils 0.21.0        1   \n",
       "74                      turberfield-utils 0.18.0        1   \n",
       "75                      turberfield-utils 0.20.0        1   \n",
       "76                           ud-py-moneyed 0.6.1        1   \n",
       "77                           ud-py-moneyed 0.5.2        1   \n",
       "78                                           NaN      NaN   \n",
       "\n",
       "                                          Description  \n",
       "0   Functions and data manipulation for economics ...  \n",
       "1                    GNU Health Socioeconomics Module  \n",
       "2                    GNU Health Socioeconomics Module  \n",
       "3                            Python economics library  \n",
       "4                The Python Macroeconomics Laboratory  \n",
       "5   DismalPy: a collection of resources for quanti...  \n",
       "6   DismalPy: a collection of resources for quanti...  \n",
       "7   An open set of economics related tools, data a...  \n",
       "8                Federal Reserve Economic Data (FRED)  \n",
       "9                Federal Reserve Economic Data (FRED)  \n",
       "10               Federal Reserve Economic Data (FRED)  \n",
       "11  A package for downloading and working with dat...  \n",
       "12  A package for downloading and working with dat...  \n",
       "13  A package for downloading and working with dat...  \n",
       "14  A package for downloading and working with dat...  \n",
       "15  Define a future or present value of the taxes....  \n",
       "16            Estimator for the generalized Roy Model  \n",
       "17       Python class to fetch data from inquirim.com  \n",
       "18       Python class to fetch data from inquirim.com  \n",
       "19    A python wrapper around the API of Inquirim.com  \n",
       "20       Python class to fetch data from inquirim.com  \n",
       "21  A package for solving and simulating linear dy...  \n",
       "22  Pareto chart for python (similar to Matlab's, ...  \n",
       "23  QuantEcon is a package to support all forms of...  \n",
       "24  QuantEcon is a package to support all forms of...  \n",
       "25  QuantEcon is a package to support all forms of...  \n",
       "26  QuantEcon is a package to support all forms of...  \n",
       "27         Tools for networked Experimental Economics  \n",
       "28  Toolbox to explore robust dynamic discrete cho...  \n",
       "29  Toolbox to explore robust dynamic discrete cho...  \n",
       "..                                                ...  \n",
       "49  Python package for solving initial value probl...  \n",
       "50  Python package for solving initial value probl...  \n",
       "51  A simple interface for solving systems of equa...  \n",
       "52  Quantitative Financial Risk Management: awesom...  \n",
       "53  Quantitative Financial Risk Management: awesom...  \n",
       "54  Quantitative Financial Risk Management: awesom...  \n",
       "55  Quantitative Financial Risk Management: awesom...  \n",
       "56  Quantitative Financial Risk Management: awesom...  \n",
       "57                                            taxcalc  \n",
       "58                                            taxcalc  \n",
       "59                                            taxcalc  \n",
       "60                             GNU Health core module  \n",
       "61                             GNU Health core module  \n",
       "62  GNU Health MDG6 - Millenium Development Goal #...  \n",
       "63  GNU Health MDG6 - Millenium Development Goal #...  \n",
       "64     GNU Health Quick Recognition - QR codes Module  \n",
       "65     GNU Health Quick Recognition - QR codes Module  \n",
       "66          GNU Health WHO Essential Medicines Module  \n",
       "67          GNU Health WHO Essential Medicines Module  \n",
       "68  A package from the Turberfield project. Provid...  \n",
       "69  An example of interactive storytelling with Py...  \n",
       "70  A Distributed Inter-Process Control Facility f...  \n",
       "71  Semantic web-based movement for interactive st...  \n",
       "72     Reusable modules from the Turberfield project.  \n",
       "73     Reusable modules from the Turberfield project.  \n",
       "74     Reusable modules from the Turberfield project.  \n",
       "75     Reusable modules from the Turberfield project.  \n",
       "76  Provides Currency and Money classes for use in...  \n",
       "77  Provides Currency and Money classes for use in...  \n",
       "78                                                NaN  \n",
       "\n",
       "[79 rows x 3 columns]"
      ]
     },
     "execution_count": 130,
     "metadata": {},
     "output_type": "execute_result"
    }
   ],
   "source": [
    "#-Nicely Formatted Table-#\n",
    "table"
   ]
  },
  {
   "cell_type": "code",
   "execution_count": 131,
   "metadata": {
    "collapsed": true
   },
   "outputs": [],
   "source": [
    "#-Final Code-#\n",
    "url = \"https://pypi.python.org/pypi?%3Aaction=search&term=economics&submit=search\"\n",
    "page = requests.get(url)\n",
    "table = pd.read_html(page.text, header=0)[0]"
   ]
  },
  {
   "cell_type": "code",
   "execution_count": 132,
   "metadata": {
    "collapsed": false,
    "scrolled": true
   },
   "outputs": [
    {
     "data": {
      "text/html": [
       "<div>\n",
       "<table border=\"1\" class=\"dataframe\">\n",
       "  <thead>\n",
       "    <tr style=\"text-align: right;\">\n",
       "      <th></th>\n",
       "      <th>Package</th>\n",
       "      <th>Weight*</th>\n",
       "      <th>Description</th>\n",
       "    </tr>\n",
       "  </thead>\n",
       "  <tbody>\n",
       "    <tr>\n",
       "      <th>0</th>\n",
       "      <td>economics 0.1.2</td>\n",
       "      <td>11</td>\n",
       "      <td>Functions and data manipulation for economics ...</td>\n",
       "    </tr>\n",
       "    <tr>\n",
       "      <th>1</th>\n",
       "      <td>trytond_health_socioeconomics 3.0.0</td>\n",
       "      <td>6</td>\n",
       "      <td>GNU Health Socioeconomics Module</td>\n",
       "    </tr>\n",
       "    <tr>\n",
       "      <th>2</th>\n",
       "      <td>trytond_health_socioeconomics 2.8.1</td>\n",
       "      <td>6</td>\n",
       "      <td>GNU Health Socioeconomics Module</td>\n",
       "    </tr>\n",
       "    <tr>\n",
       "      <th>3</th>\n",
       "      <td>econometrics 0.1.</td>\n",
       "      <td>4</td>\n",
       "      <td>Python economics library</td>\n",
       "    </tr>\n",
       "    <tr>\n",
       "      <th>4</th>\n",
       "      <td>pymaclab 0.95.9</td>\n",
       "      <td>4</td>\n",
       "      <td>The Python Macroeconomics Laboratory</td>\n",
       "    </tr>\n",
       "    <tr>\n",
       "      <th>5</th>\n",
       "      <td>dismalpy 0.2.3</td>\n",
       "      <td>2</td>\n",
       "      <td>DismalPy: a collection of resources for quanti...</td>\n",
       "    </tr>\n",
       "    <tr>\n",
       "      <th>6</th>\n",
       "      <td>dismalpy 0.2.2</td>\n",
       "      <td>2</td>\n",
       "      <td>DismalPy: a collection of resources for quanti...</td>\n",
       "    </tr>\n",
       "    <tr>\n",
       "      <th>7</th>\n",
       "      <td>econ 0.4</td>\n",
       "      <td>2</td>\n",
       "      <td>An open set of economics related tools, data a...</td>\n",
       "    </tr>\n",
       "    <tr>\n",
       "      <th>8</th>\n",
       "      <td>FRB 1.1.1</td>\n",
       "      <td>2</td>\n",
       "      <td>Federal Reserve Economic Data (FRED)</td>\n",
       "    </tr>\n",
       "    <tr>\n",
       "      <th>9</th>\n",
       "      <td>FRB 1.1.2</td>\n",
       "      <td>2</td>\n",
       "      <td>Federal Reserve Economic Data (FRED)</td>\n",
       "    </tr>\n",
       "    <tr>\n",
       "      <th>10</th>\n",
       "      <td>FRB 1.1.0</td>\n",
       "      <td>2</td>\n",
       "      <td>Federal Reserve Economic Data (FRED)</td>\n",
       "    </tr>\n",
       "    <tr>\n",
       "      <th>11</th>\n",
       "      <td>fredpy 0.4.2</td>\n",
       "      <td>2</td>\n",
       "      <td>A package for downloading and working with dat...</td>\n",
       "    </tr>\n",
       "    <tr>\n",
       "      <th>12</th>\n",
       "      <td>fredpy 1.0.0</td>\n",
       "      <td>2</td>\n",
       "      <td>A package for downloading and working with dat...</td>\n",
       "    </tr>\n",
       "    <tr>\n",
       "      <th>13</th>\n",
       "      <td>fredpy 1.0.1</td>\n",
       "      <td>2</td>\n",
       "      <td>A package for downloading and working with dat...</td>\n",
       "    </tr>\n",
       "    <tr>\n",
       "      <th>14</th>\n",
       "      <td>fredpy 0.4.1</td>\n",
       "      <td>2</td>\n",
       "      <td>A package for downloading and working with dat...</td>\n",
       "    </tr>\n",
       "    <tr>\n",
       "      <th>15</th>\n",
       "      <td>future_value 1.1.0</td>\n",
       "      <td>2</td>\n",
       "      <td>Define a future or present value of the taxes....</td>\n",
       "    </tr>\n",
       "    <tr>\n",
       "      <th>16</th>\n",
       "      <td>grmpy 1.1.1.19</td>\n",
       "      <td>2</td>\n",
       "      <td>Estimator for the generalized Roy Model</td>\n",
       "    </tr>\n",
       "    <tr>\n",
       "      <th>17</th>\n",
       "      <td>inquisitor 0.1.2</td>\n",
       "      <td>2</td>\n",
       "      <td>Python class to fetch data from inquirim.com</td>\n",
       "    </tr>\n",
       "    <tr>\n",
       "      <th>18</th>\n",
       "      <td>inquisitor 0.1</td>\n",
       "      <td>2</td>\n",
       "      <td>Python class to fetch data from inquirim.com</td>\n",
       "    </tr>\n",
       "    <tr>\n",
       "      <th>19</th>\n",
       "      <td>inquisitor 1.0b1</td>\n",
       "      <td>2</td>\n",
       "      <td>A python wrapper around the API of Inquirim.com</td>\n",
       "    </tr>\n",
       "    <tr>\n",
       "      <th>20</th>\n",
       "      <td>inquisitor 0.1.1</td>\n",
       "      <td>2</td>\n",
       "      <td>Python class to fetch data from inquirim.com</td>\n",
       "    </tr>\n",
       "    <tr>\n",
       "      <th>21</th>\n",
       "      <td>linearsolve 0.0.1a</td>\n",
       "      <td>2</td>\n",
       "      <td>A package for solving and simulating linear dy...</td>\n",
       "    </tr>\n",
       "    <tr>\n",
       "      <th>22</th>\n",
       "      <td>paretochart 1.0</td>\n",
       "      <td>2</td>\n",
       "      <td>Pareto chart for python (similar to Matlab's, ...</td>\n",
       "    </tr>\n",
       "    <tr>\n",
       "      <th>23</th>\n",
       "      <td>quantecon 0.3.0</td>\n",
       "      <td>2</td>\n",
       "      <td>QuantEcon is a package to support all forms of...</td>\n",
       "    </tr>\n",
       "    <tr>\n",
       "      <th>24</th>\n",
       "      <td>quantecon 0.3.1</td>\n",
       "      <td>2</td>\n",
       "      <td>QuantEcon is a package to support all forms of...</td>\n",
       "    </tr>\n",
       "    <tr>\n",
       "      <th>25</th>\n",
       "      <td>quantecon 0.2.2</td>\n",
       "      <td>2</td>\n",
       "      <td>QuantEcon is a package to support all forms of...</td>\n",
       "    </tr>\n",
       "    <tr>\n",
       "      <th>26</th>\n",
       "      <td>quantecon 0.2.0</td>\n",
       "      <td>2</td>\n",
       "      <td>QuantEcon is a package to support all forms of...</td>\n",
       "    </tr>\n",
       "    <tr>\n",
       "      <th>27</th>\n",
       "      <td>redwood 1.0</td>\n",
       "      <td>2</td>\n",
       "      <td>Tools for networked Experimental Economics</td>\n",
       "    </tr>\n",
       "    <tr>\n",
       "      <th>28</th>\n",
       "      <td>robupy 0.1.8</td>\n",
       "      <td>2</td>\n",
       "      <td>Toolbox to explore robust dynamic discrete cho...</td>\n",
       "    </tr>\n",
       "    <tr>\n",
       "      <th>29</th>\n",
       "      <td>robupy 0.1.4</td>\n",
       "      <td>2</td>\n",
       "      <td>Toolbox to explore robust dynamic discrete cho...</td>\n",
       "    </tr>\n",
       "    <tr>\n",
       "      <th>...</th>\n",
       "      <td>...</td>\n",
       "      <td>...</td>\n",
       "      <td>...</td>\n",
       "    </tr>\n",
       "    <tr>\n",
       "      <th>49</th>\n",
       "      <td>pyCollocation 0.4.0-alpha</td>\n",
       "      <td>1</td>\n",
       "      <td>Python package for solving initial value probl...</td>\n",
       "    </tr>\n",
       "    <tr>\n",
       "      <th>50</th>\n",
       "      <td>pyCollocation 0.5-alpha</td>\n",
       "      <td>1</td>\n",
       "      <td>Python package for solving initial value probl...</td>\n",
       "    </tr>\n",
       "    <tr>\n",
       "      <th>51</th>\n",
       "      <td>pysolve 0.1.7</td>\n",
       "      <td>1</td>\n",
       "      <td>A simple interface for solving systems of equa...</td>\n",
       "    </tr>\n",
       "    <tr>\n",
       "      <th>52</th>\n",
       "      <td>qfrm 0.1.1.12</td>\n",
       "      <td>1</td>\n",
       "      <td>Quantitative Financial Risk Management: awesom...</td>\n",
       "    </tr>\n",
       "    <tr>\n",
       "      <th>53</th>\n",
       "      <td>qfrm 0.2.0.14</td>\n",
       "      <td>1</td>\n",
       "      <td>Quantitative Financial Risk Management: awesom...</td>\n",
       "    </tr>\n",
       "    <tr>\n",
       "      <th>54</th>\n",
       "      <td>qfrm 0.2.0.1</td>\n",
       "      <td>1</td>\n",
       "      <td>Quantitative Financial Risk Management: awesom...</td>\n",
       "    </tr>\n",
       "    <tr>\n",
       "      <th>55</th>\n",
       "      <td>qfrm 0.2.0.7</td>\n",
       "      <td>1</td>\n",
       "      <td>Quantitative Financial Risk Management: awesom...</td>\n",
       "    </tr>\n",
       "    <tr>\n",
       "      <th>56</th>\n",
       "      <td>qfrm 0.2.0.19</td>\n",
       "      <td>1</td>\n",
       "      <td>Quantitative Financial Risk Management: awesom...</td>\n",
       "    </tr>\n",
       "    <tr>\n",
       "      <th>57</th>\n",
       "      <td>taxcalc 0.5.9</td>\n",
       "      <td>1</td>\n",
       "      <td>taxcalc</td>\n",
       "    </tr>\n",
       "    <tr>\n",
       "      <th>58</th>\n",
       "      <td>taxcalc 0.5.8</td>\n",
       "      <td>1</td>\n",
       "      <td>taxcalc</td>\n",
       "    </tr>\n",
       "    <tr>\n",
       "      <th>59</th>\n",
       "      <td>taxcalc 0.5.7</td>\n",
       "      <td>1</td>\n",
       "      <td>taxcalc</td>\n",
       "    </tr>\n",
       "    <tr>\n",
       "      <th>60</th>\n",
       "      <td>trytond_health 2.8.1</td>\n",
       "      <td>1</td>\n",
       "      <td>GNU Health core module</td>\n",
       "    </tr>\n",
       "    <tr>\n",
       "      <th>61</th>\n",
       "      <td>trytond_health 3.0.0</td>\n",
       "      <td>1</td>\n",
       "      <td>GNU Health core module</td>\n",
       "    </tr>\n",
       "    <tr>\n",
       "      <th>62</th>\n",
       "      <td>trytond_health_mdg6 3.0.0</td>\n",
       "      <td>1</td>\n",
       "      <td>GNU Health MDG6 - Millenium Development Goal #...</td>\n",
       "    </tr>\n",
       "    <tr>\n",
       "      <th>63</th>\n",
       "      <td>trytond_health_mdg6 2.8.1</td>\n",
       "      <td>1</td>\n",
       "      <td>GNU Health MDG6 - Millenium Development Goal #...</td>\n",
       "    </tr>\n",
       "    <tr>\n",
       "      <th>64</th>\n",
       "      <td>trytond_health_qrcodes 3.0.0</td>\n",
       "      <td>1</td>\n",
       "      <td>GNU Health Quick Recognition - QR codes Module</td>\n",
       "    </tr>\n",
       "    <tr>\n",
       "      <th>65</th>\n",
       "      <td>trytond_health_qrcodes 2.8.1</td>\n",
       "      <td>1</td>\n",
       "      <td>GNU Health Quick Recognition - QR codes Module</td>\n",
       "    </tr>\n",
       "    <tr>\n",
       "      <th>66</th>\n",
       "      <td>trytond_health_who_essential_medicines 3.0.0</td>\n",
       "      <td>1</td>\n",
       "      <td>GNU Health WHO Essential Medicines Module</td>\n",
       "    </tr>\n",
       "    <tr>\n",
       "      <th>67</th>\n",
       "      <td>trytond_health_who_essential_medicines 2.8.1</td>\n",
       "      <td>1</td>\n",
       "      <td>GNU Health WHO Essential Medicines Module</td>\n",
       "    </tr>\n",
       "    <tr>\n",
       "      <th>68</th>\n",
       "      <td>turberfield-dynamics 00.010</td>\n",
       "      <td>1</td>\n",
       "      <td>A package from the Turberfield project. Provid...</td>\n",
       "    </tr>\n",
       "    <tr>\n",
       "      <th>69</th>\n",
       "      <td>turberfield-eargain 00.004</td>\n",
       "      <td>1</td>\n",
       "      <td>An example of interactive storytelling with Py...</td>\n",
       "    </tr>\n",
       "    <tr>\n",
       "      <th>70</th>\n",
       "      <td>turberfield-ipc 0.12.0</td>\n",
       "      <td>1</td>\n",
       "      <td>A Distributed Inter-Process Control Facility f...</td>\n",
       "    </tr>\n",
       "    <tr>\n",
       "      <th>71</th>\n",
       "      <td>turberfield-machina 0.010.0</td>\n",
       "      <td>1</td>\n",
       "      <td>Semantic web-based movement for interactive st...</td>\n",
       "    </tr>\n",
       "    <tr>\n",
       "      <th>72</th>\n",
       "      <td>turberfield-utils 0.011.0</td>\n",
       "      <td>1</td>\n",
       "      <td>Reusable modules from the Turberfield project.</td>\n",
       "    </tr>\n",
       "    <tr>\n",
       "      <th>73</th>\n",
       "      <td>turberfield-utils 0.21.0</td>\n",
       "      <td>1</td>\n",
       "      <td>Reusable modules from the Turberfield project.</td>\n",
       "    </tr>\n",
       "    <tr>\n",
       "      <th>74</th>\n",
       "      <td>turberfield-utils 0.18.0</td>\n",
       "      <td>1</td>\n",
       "      <td>Reusable modules from the Turberfield project.</td>\n",
       "    </tr>\n",
       "    <tr>\n",
       "      <th>75</th>\n",
       "      <td>turberfield-utils 0.20.0</td>\n",
       "      <td>1</td>\n",
       "      <td>Reusable modules from the Turberfield project.</td>\n",
       "    </tr>\n",
       "    <tr>\n",
       "      <th>76</th>\n",
       "      <td>ud-py-moneyed 0.6.1</td>\n",
       "      <td>1</td>\n",
       "      <td>Provides Currency and Money classes for use in...</td>\n",
       "    </tr>\n",
       "    <tr>\n",
       "      <th>77</th>\n",
       "      <td>ud-py-moneyed 0.5.2</td>\n",
       "      <td>1</td>\n",
       "      <td>Provides Currency and Money classes for use in...</td>\n",
       "    </tr>\n",
       "    <tr>\n",
       "      <th>78</th>\n",
       "      <td>NaN</td>\n",
       "      <td>NaN</td>\n",
       "      <td>NaN</td>\n",
       "    </tr>\n",
       "  </tbody>\n",
       "</table>\n",
       "<p>79 rows × 3 columns</p>\n",
       "</div>"
      ],
      "text/plain": [
       "                                         Package  Weight*  \\\n",
       "0                                economics 0.1.2       11   \n",
       "1            trytond_health_socioeconomics 3.0.0        6   \n",
       "2            trytond_health_socioeconomics 2.8.1        6   \n",
       "3                              econometrics 0.1.        4   \n",
       "4                                pymaclab 0.95.9        4   \n",
       "5                                 dismalpy 0.2.3        2   \n",
       "6                                 dismalpy 0.2.2        2   \n",
       "7                                       econ 0.4        2   \n",
       "8                                      FRB 1.1.1        2   \n",
       "9                                      FRB 1.1.2        2   \n",
       "10                                     FRB 1.1.0        2   \n",
       "11                                  fredpy 0.4.2        2   \n",
       "12                                  fredpy 1.0.0        2   \n",
       "13                                  fredpy 1.0.1        2   \n",
       "14                                  fredpy 0.4.1        2   \n",
       "15                            future_value 1.1.0        2   \n",
       "16                                grmpy 1.1.1.19        2   \n",
       "17                              inquisitor 0.1.2        2   \n",
       "18                                inquisitor 0.1        2   \n",
       "19                              inquisitor 1.0b1        2   \n",
       "20                              inquisitor 0.1.1        2   \n",
       "21                            linearsolve 0.0.1a        2   \n",
       "22                               paretochart 1.0        2   \n",
       "23                               quantecon 0.3.0        2   \n",
       "24                               quantecon 0.3.1        2   \n",
       "25                               quantecon 0.2.2        2   \n",
       "26                               quantecon 0.2.0        2   \n",
       "27                                   redwood 1.0        2   \n",
       "28                                  robupy 0.1.8        2   \n",
       "29                                  robupy 0.1.4        2   \n",
       "..                                           ...      ...   \n",
       "49                     pyCollocation 0.4.0-alpha        1   \n",
       "50                       pyCollocation 0.5-alpha        1   \n",
       "51                                 pysolve 0.1.7        1   \n",
       "52                                 qfrm 0.1.1.12        1   \n",
       "53                                 qfrm 0.2.0.14        1   \n",
       "54                                  qfrm 0.2.0.1        1   \n",
       "55                                  qfrm 0.2.0.7        1   \n",
       "56                                 qfrm 0.2.0.19        1   \n",
       "57                                 taxcalc 0.5.9        1   \n",
       "58                                 taxcalc 0.5.8        1   \n",
       "59                                 taxcalc 0.5.7        1   \n",
       "60                          trytond_health 2.8.1        1   \n",
       "61                          trytond_health 3.0.0        1   \n",
       "62                     trytond_health_mdg6 3.0.0        1   \n",
       "63                     trytond_health_mdg6 2.8.1        1   \n",
       "64                  trytond_health_qrcodes 3.0.0        1   \n",
       "65                  trytond_health_qrcodes 2.8.1        1   \n",
       "66  trytond_health_who_essential_medicines 3.0.0        1   \n",
       "67  trytond_health_who_essential_medicines 2.8.1        1   \n",
       "68                   turberfield-dynamics 00.010        1   \n",
       "69                    turberfield-eargain 00.004        1   \n",
       "70                        turberfield-ipc 0.12.0        1   \n",
       "71                   turberfield-machina 0.010.0        1   \n",
       "72                     turberfield-utils 0.011.0        1   \n",
       "73                      turberfield-utils 0.21.0        1   \n",
       "74                      turberfield-utils 0.18.0        1   \n",
       "75                      turberfield-utils 0.20.0        1   \n",
       "76                           ud-py-moneyed 0.6.1        1   \n",
       "77                           ud-py-moneyed 0.5.2        1   \n",
       "78                                           NaN      NaN   \n",
       "\n",
       "                                          Description  \n",
       "0   Functions and data manipulation for economics ...  \n",
       "1                    GNU Health Socioeconomics Module  \n",
       "2                    GNU Health Socioeconomics Module  \n",
       "3                            Python economics library  \n",
       "4                The Python Macroeconomics Laboratory  \n",
       "5   DismalPy: a collection of resources for quanti...  \n",
       "6   DismalPy: a collection of resources for quanti...  \n",
       "7   An open set of economics related tools, data a...  \n",
       "8                Federal Reserve Economic Data (FRED)  \n",
       "9                Federal Reserve Economic Data (FRED)  \n",
       "10               Federal Reserve Economic Data (FRED)  \n",
       "11  A package for downloading and working with dat...  \n",
       "12  A package for downloading and working with dat...  \n",
       "13  A package for downloading and working with dat...  \n",
       "14  A package for downloading and working with dat...  \n",
       "15  Define a future or present value of the taxes....  \n",
       "16            Estimator for the generalized Roy Model  \n",
       "17       Python class to fetch data from inquirim.com  \n",
       "18       Python class to fetch data from inquirim.com  \n",
       "19    A python wrapper around the API of Inquirim.com  \n",
       "20       Python class to fetch data from inquirim.com  \n",
       "21  A package for solving and simulating linear dy...  \n",
       "22  Pareto chart for python (similar to Matlab's, ...  \n",
       "23  QuantEcon is a package to support all forms of...  \n",
       "24  QuantEcon is a package to support all forms of...  \n",
       "25  QuantEcon is a package to support all forms of...  \n",
       "26  QuantEcon is a package to support all forms of...  \n",
       "27         Tools for networked Experimental Economics  \n",
       "28  Toolbox to explore robust dynamic discrete cho...  \n",
       "29  Toolbox to explore robust dynamic discrete cho...  \n",
       "..                                                ...  \n",
       "49  Python package for solving initial value probl...  \n",
       "50  Python package for solving initial value probl...  \n",
       "51  A simple interface for solving systems of equa...  \n",
       "52  Quantitative Financial Risk Management: awesom...  \n",
       "53  Quantitative Financial Risk Management: awesom...  \n",
       "54  Quantitative Financial Risk Management: awesom...  \n",
       "55  Quantitative Financial Risk Management: awesom...  \n",
       "56  Quantitative Financial Risk Management: awesom...  \n",
       "57                                            taxcalc  \n",
       "58                                            taxcalc  \n",
       "59                                            taxcalc  \n",
       "60                             GNU Health core module  \n",
       "61                             GNU Health core module  \n",
       "62  GNU Health MDG6 - Millenium Development Goal #...  \n",
       "63  GNU Health MDG6 - Millenium Development Goal #...  \n",
       "64     GNU Health Quick Recognition - QR codes Module  \n",
       "65     GNU Health Quick Recognition - QR codes Module  \n",
       "66          GNU Health WHO Essential Medicines Module  \n",
       "67          GNU Health WHO Essential Medicines Module  \n",
       "68  A package from the Turberfield project. Provid...  \n",
       "69  An example of interactive storytelling with Py...  \n",
       "70  A Distributed Inter-Process Control Facility f...  \n",
       "71  Semantic web-based movement for interactive st...  \n",
       "72     Reusable modules from the Turberfield project.  \n",
       "73     Reusable modules from the Turberfield project.  \n",
       "74     Reusable modules from the Turberfield project.  \n",
       "75     Reusable modules from the Turberfield project.  \n",
       "76  Provides Currency and Money classes for use in...  \n",
       "77  Provides Currency and Money classes for use in...  \n",
       "78                                                NaN  \n",
       "\n",
       "[79 rows x 3 columns]"
      ]
     },
     "execution_count": 132,
     "metadata": {},
     "output_type": "execute_result"
    }
   ],
   "source": [
    "table"
   ]
  },
  {
   "cell_type": "markdown",
   "metadata": {},
   "source": [
    "**Next**\n",
    "\n",
    "Let's say we would like the names and version numbers to be contained in different columns?\n",
    "\n",
    "http://pandas.pydata.org/pandas-docs/stable/text.html"
   ]
  },
  {
   "cell_type": "code",
   "execution_count": 133,
   "metadata": {
    "collapsed": false,
    "scrolled": true
   },
   "outputs": [],
   "source": [
    "table[\"Name\"] = table.Package.str.split().str.get(0)\n",
    "table[\"Version\"] = table.Package.str.split().str.get(1)"
   ]
  },
  {
   "cell_type": "code",
   "execution_count": 134,
   "metadata": {
    "collapsed": false,
    "scrolled": true
   },
   "outputs": [],
   "source": [
    "#-Let's Order the table by Specifying some Variables, and getting rid of the old Package Name-#\n",
    "table = table[[\"Name\",\"Version\",\"Weight*\",\"Description\"]]"
   ]
  },
  {
   "cell_type": "code",
   "execution_count": 135,
   "metadata": {
    "collapsed": false,
    "scrolled": true
   },
   "outputs": [
    {
     "data": {
      "text/html": [
       "<div>\n",
       "<table border=\"1\" class=\"dataframe\">\n",
       "  <thead>\n",
       "    <tr style=\"text-align: right;\">\n",
       "      <th></th>\n",
       "      <th>Name</th>\n",
       "      <th>Version</th>\n",
       "      <th>Weight*</th>\n",
       "      <th>Description</th>\n",
       "    </tr>\n",
       "  </thead>\n",
       "  <tbody>\n",
       "    <tr>\n",
       "      <th>0</th>\n",
       "      <td>economics</td>\n",
       "      <td>0.1.2</td>\n",
       "      <td>11</td>\n",
       "      <td>Functions and data manipulation for economics ...</td>\n",
       "    </tr>\n",
       "    <tr>\n",
       "      <th>1</th>\n",
       "      <td>trytond_health_socioeconomics</td>\n",
       "      <td>3.0.0</td>\n",
       "      <td>6</td>\n",
       "      <td>GNU Health Socioeconomics Module</td>\n",
       "    </tr>\n",
       "    <tr>\n",
       "      <th>3</th>\n",
       "      <td>econometrics</td>\n",
       "      <td>0.1.</td>\n",
       "      <td>4</td>\n",
       "      <td>Python economics library</td>\n",
       "    </tr>\n",
       "    <tr>\n",
       "      <th>4</th>\n",
       "      <td>pymaclab</td>\n",
       "      <td>0.95.9</td>\n",
       "      <td>4</td>\n",
       "      <td>The Python Macroeconomics Laboratory</td>\n",
       "    </tr>\n",
       "    <tr>\n",
       "      <th>5</th>\n",
       "      <td>dismalpy</td>\n",
       "      <td>0.2.3</td>\n",
       "      <td>2</td>\n",
       "      <td>DismalPy: a collection of resources for quanti...</td>\n",
       "    </tr>\n",
       "    <tr>\n",
       "      <th>7</th>\n",
       "      <td>econ</td>\n",
       "      <td>0.4</td>\n",
       "      <td>2</td>\n",
       "      <td>An open set of economics related tools, data a...</td>\n",
       "    </tr>\n",
       "    <tr>\n",
       "      <th>8</th>\n",
       "      <td>FRB</td>\n",
       "      <td>1.1.1</td>\n",
       "      <td>2</td>\n",
       "      <td>Federal Reserve Economic Data (FRED)</td>\n",
       "    </tr>\n",
       "    <tr>\n",
       "      <th>11</th>\n",
       "      <td>fredpy</td>\n",
       "      <td>0.4.2</td>\n",
       "      <td>2</td>\n",
       "      <td>A package for downloading and working with dat...</td>\n",
       "    </tr>\n",
       "    <tr>\n",
       "      <th>15</th>\n",
       "      <td>future_value</td>\n",
       "      <td>1.1.0</td>\n",
       "      <td>2</td>\n",
       "      <td>Define a future or present value of the taxes....</td>\n",
       "    </tr>\n",
       "    <tr>\n",
       "      <th>16</th>\n",
       "      <td>grmpy</td>\n",
       "      <td>1.1.1.19</td>\n",
       "      <td>2</td>\n",
       "      <td>Estimator for the generalized Roy Model</td>\n",
       "    </tr>\n",
       "    <tr>\n",
       "      <th>17</th>\n",
       "      <td>inquisitor</td>\n",
       "      <td>0.1.2</td>\n",
       "      <td>2</td>\n",
       "      <td>Python class to fetch data from inquirim.com</td>\n",
       "    </tr>\n",
       "    <tr>\n",
       "      <th>21</th>\n",
       "      <td>linearsolve</td>\n",
       "      <td>0.0.1a</td>\n",
       "      <td>2</td>\n",
       "      <td>A package for solving and simulating linear dy...</td>\n",
       "    </tr>\n",
       "    <tr>\n",
       "      <th>22</th>\n",
       "      <td>paretochart</td>\n",
       "      <td>1.0</td>\n",
       "      <td>2</td>\n",
       "      <td>Pareto chart for python (similar to Matlab's, ...</td>\n",
       "    </tr>\n",
       "    <tr>\n",
       "      <th>23</th>\n",
       "      <td>quantecon</td>\n",
       "      <td>0.3.0</td>\n",
       "      <td>2</td>\n",
       "      <td>QuantEcon is a package to support all forms of...</td>\n",
       "    </tr>\n",
       "    <tr>\n",
       "      <th>27</th>\n",
       "      <td>redwood</td>\n",
       "      <td>1.0</td>\n",
       "      <td>2</td>\n",
       "      <td>Tools for networked Experimental Economics</td>\n",
       "    </tr>\n",
       "    <tr>\n",
       "      <th>28</th>\n",
       "      <td>robupy</td>\n",
       "      <td>0.1.8</td>\n",
       "      <td>2</td>\n",
       "      <td>Toolbox to explore robust dynamic discrete cho...</td>\n",
       "    </tr>\n",
       "    <tr>\n",
       "      <th>30</th>\n",
       "      <td>tallywallet-common</td>\n",
       "      <td>0.009</td>\n",
       "      <td>2</td>\n",
       "      <td>A currency trading ledger in Python</td>\n",
       "    </tr>\n",
       "    <tr>\n",
       "      <th>31</th>\n",
       "      <td>clusterPy</td>\n",
       "      <td>0.9.9</td>\n",
       "      <td>1</td>\n",
       "      <td>Spatial (geographic) data clustering: library ...</td>\n",
       "    </tr>\n",
       "    <tr>\n",
       "      <th>32</th>\n",
       "      <td>GoldSaxAnalyticsEngineMarkets</td>\n",
       "      <td>0.013</td>\n",
       "      <td>1</td>\n",
       "      <td>The Real-Time Analytics Engine for the GoldSax...</td>\n",
       "    </tr>\n",
       "    <tr>\n",
       "      <th>33</th>\n",
       "      <td>GoldSaxEngineAustralianMarkets</td>\n",
       "      <td>0.021</td>\n",
       "      <td>1</td>\n",
       "      <td>The Real-Time Engine for the GoldSaxEngine-Aus...</td>\n",
       "    </tr>\n",
       "    <tr>\n",
       "      <th>34</th>\n",
       "      <td>GoldSaxEngineChinaMarkets</td>\n",
       "      <td>0.01</td>\n",
       "      <td>1</td>\n",
       "      <td>The Real-Time Engine for the GoldSaxEngine-Chi...</td>\n",
       "    </tr>\n",
       "    <tr>\n",
       "      <th>35</th>\n",
       "      <td>GoldSaxEngineCoreScheduler</td>\n",
       "      <td>1.011</td>\n",
       "      <td>1</td>\n",
       "      <td>The Real-Time Scheduler Core Engine for the Go...</td>\n",
       "    </tr>\n",
       "    <tr>\n",
       "      <th>36</th>\n",
       "      <td>GoldSaxEngineIndianMarkets</td>\n",
       "      <td>0.031</td>\n",
       "      <td>1</td>\n",
       "      <td>The Real-Time Engine for the GoldSaxEngine-Ind...</td>\n",
       "    </tr>\n",
       "    <tr>\n",
       "      <th>37</th>\n",
       "      <td>GoldSaxEngineJapanMarkets</td>\n",
       "      <td>0.021</td>\n",
       "      <td>1</td>\n",
       "      <td>The Real-Time Engine for the GoldSaxEngine-Jap...</td>\n",
       "    </tr>\n",
       "    <tr>\n",
       "      <th>38</th>\n",
       "      <td>GoldSaxEngineSouthKoreaMarkets</td>\n",
       "      <td>0.01</td>\n",
       "      <td>1</td>\n",
       "      <td>The Real-Time Engine for the GoldSaxEngine-Sou...</td>\n",
       "    </tr>\n",
       "    <tr>\n",
       "      <th>39</th>\n",
       "      <td>kabuki</td>\n",
       "      <td>0.6.1</td>\n",
       "      <td>1</td>\n",
       "      <td>kabuki is a python toolbox that allows easy cr...</td>\n",
       "    </tr>\n",
       "    <tr>\n",
       "      <th>41</th>\n",
       "      <td>nobel</td>\n",
       "      <td>0.2</td>\n",
       "      <td>1</td>\n",
       "      <td>A simple pythonic wrapper for the Nobel Prize ...</td>\n",
       "    </tr>\n",
       "    <tr>\n",
       "      <th>42</th>\n",
       "      <td>ogusa</td>\n",
       "      <td>0.2</td>\n",
       "      <td>1</td>\n",
       "      <td>ogusa</td>\n",
       "    </tr>\n",
       "    <tr>\n",
       "      <th>45</th>\n",
       "      <td>pacer_lib</td>\n",
       "      <td>2.33</td>\n",
       "      <td>1</td>\n",
       "      <td>A download interface for the Public Access to ...</td>\n",
       "    </tr>\n",
       "    <tr>\n",
       "      <th>46</th>\n",
       "      <td>py-moneyed</td>\n",
       "      <td>0.6.0</td>\n",
       "      <td>1</td>\n",
       "      <td>Provides Currency and Money classes for use in...</td>\n",
       "    </tr>\n",
       "    <tr>\n",
       "      <th>47</th>\n",
       "      <td>pyasn</td>\n",
       "      <td>1.5.0b6</td>\n",
       "      <td>1</td>\n",
       "      <td>Offline IP address to Autonomous System Number...</td>\n",
       "    </tr>\n",
       "    <tr>\n",
       "      <th>48</th>\n",
       "      <td>pyCollocation</td>\n",
       "      <td>0.6.0-alpha</td>\n",
       "      <td>1</td>\n",
       "      <td>Python package for solving initial value probl...</td>\n",
       "    </tr>\n",
       "    <tr>\n",
       "      <th>51</th>\n",
       "      <td>pysolve</td>\n",
       "      <td>0.1.7</td>\n",
       "      <td>1</td>\n",
       "      <td>A simple interface for solving systems of equa...</td>\n",
       "    </tr>\n",
       "    <tr>\n",
       "      <th>52</th>\n",
       "      <td>qfrm</td>\n",
       "      <td>0.1.1.12</td>\n",
       "      <td>1</td>\n",
       "      <td>Quantitative Financial Risk Management: awesom...</td>\n",
       "    </tr>\n",
       "    <tr>\n",
       "      <th>57</th>\n",
       "      <td>taxcalc</td>\n",
       "      <td>0.5.9</td>\n",
       "      <td>1</td>\n",
       "      <td>taxcalc</td>\n",
       "    </tr>\n",
       "    <tr>\n",
       "      <th>60</th>\n",
       "      <td>trytond_health</td>\n",
       "      <td>2.8.1</td>\n",
       "      <td>1</td>\n",
       "      <td>GNU Health core module</td>\n",
       "    </tr>\n",
       "    <tr>\n",
       "      <th>62</th>\n",
       "      <td>trytond_health_mdg6</td>\n",
       "      <td>3.0.0</td>\n",
       "      <td>1</td>\n",
       "      <td>GNU Health MDG6 - Millenium Development Goal #...</td>\n",
       "    </tr>\n",
       "    <tr>\n",
       "      <th>64</th>\n",
       "      <td>trytond_health_qrcodes</td>\n",
       "      <td>3.0.0</td>\n",
       "      <td>1</td>\n",
       "      <td>GNU Health Quick Recognition - QR codes Module</td>\n",
       "    </tr>\n",
       "    <tr>\n",
       "      <th>66</th>\n",
       "      <td>trytond_health_who_essential_medicines</td>\n",
       "      <td>3.0.0</td>\n",
       "      <td>1</td>\n",
       "      <td>GNU Health WHO Essential Medicines Module</td>\n",
       "    </tr>\n",
       "    <tr>\n",
       "      <th>68</th>\n",
       "      <td>turberfield-dynamics</td>\n",
       "      <td>00.010</td>\n",
       "      <td>1</td>\n",
       "      <td>A package from the Turberfield project. Provid...</td>\n",
       "    </tr>\n",
       "    <tr>\n",
       "      <th>69</th>\n",
       "      <td>turberfield-eargain</td>\n",
       "      <td>00.004</td>\n",
       "      <td>1</td>\n",
       "      <td>An example of interactive storytelling with Py...</td>\n",
       "    </tr>\n",
       "    <tr>\n",
       "      <th>70</th>\n",
       "      <td>turberfield-ipc</td>\n",
       "      <td>0.12.0</td>\n",
       "      <td>1</td>\n",
       "      <td>A Distributed Inter-Process Control Facility f...</td>\n",
       "    </tr>\n",
       "    <tr>\n",
       "      <th>71</th>\n",
       "      <td>turberfield-machina</td>\n",
       "      <td>0.010.0</td>\n",
       "      <td>1</td>\n",
       "      <td>Semantic web-based movement for interactive st...</td>\n",
       "    </tr>\n",
       "    <tr>\n",
       "      <th>72</th>\n",
       "      <td>turberfield-utils</td>\n",
       "      <td>0.011.0</td>\n",
       "      <td>1</td>\n",
       "      <td>Reusable modules from the Turberfield project.</td>\n",
       "    </tr>\n",
       "    <tr>\n",
       "      <th>76</th>\n",
       "      <td>ud-py-moneyed</td>\n",
       "      <td>0.6.1</td>\n",
       "      <td>1</td>\n",
       "      <td>Provides Currency and Money classes for use in...</td>\n",
       "    </tr>\n",
       "    <tr>\n",
       "      <th>78</th>\n",
       "      <td>NaN</td>\n",
       "      <td>NaN</td>\n",
       "      <td>NaN</td>\n",
       "      <td>NaN</td>\n",
       "    </tr>\n",
       "  </tbody>\n",
       "</table>\n",
       "</div>"
      ],
      "text/plain": [
       "                                      Name      Version  Weight*  \\\n",
       "0                                economics        0.1.2       11   \n",
       "1            trytond_health_socioeconomics        3.0.0        6   \n",
       "3                             econometrics         0.1.        4   \n",
       "4                                 pymaclab       0.95.9        4   \n",
       "5                                 dismalpy        0.2.3        2   \n",
       "7                                     econ          0.4        2   \n",
       "8                                      FRB        1.1.1        2   \n",
       "11                                  fredpy        0.4.2        2   \n",
       "15                            future_value        1.1.0        2   \n",
       "16                                   grmpy     1.1.1.19        2   \n",
       "17                              inquisitor        0.1.2        2   \n",
       "21                             linearsolve       0.0.1a        2   \n",
       "22                             paretochart          1.0        2   \n",
       "23                               quantecon        0.3.0        2   \n",
       "27                                 redwood          1.0        2   \n",
       "28                                  robupy        0.1.8        2   \n",
       "30                      tallywallet-common        0.009        2   \n",
       "31                               clusterPy        0.9.9        1   \n",
       "32           GoldSaxAnalyticsEngineMarkets        0.013        1   \n",
       "33          GoldSaxEngineAustralianMarkets        0.021        1   \n",
       "34               GoldSaxEngineChinaMarkets         0.01        1   \n",
       "35              GoldSaxEngineCoreScheduler        1.011        1   \n",
       "36              GoldSaxEngineIndianMarkets        0.031        1   \n",
       "37               GoldSaxEngineJapanMarkets        0.021        1   \n",
       "38          GoldSaxEngineSouthKoreaMarkets         0.01        1   \n",
       "39                                  kabuki        0.6.1        1   \n",
       "41                                   nobel          0.2        1   \n",
       "42                                   ogusa          0.2        1   \n",
       "45                               pacer_lib         2.33        1   \n",
       "46                              py-moneyed        0.6.0        1   \n",
       "47                                   pyasn      1.5.0b6        1   \n",
       "48                           pyCollocation  0.6.0-alpha        1   \n",
       "51                                 pysolve        0.1.7        1   \n",
       "52                                    qfrm     0.1.1.12        1   \n",
       "57                                 taxcalc        0.5.9        1   \n",
       "60                          trytond_health        2.8.1        1   \n",
       "62                     trytond_health_mdg6        3.0.0        1   \n",
       "64                  trytond_health_qrcodes        3.0.0        1   \n",
       "66  trytond_health_who_essential_medicines        3.0.0        1   \n",
       "68                    turberfield-dynamics       00.010        1   \n",
       "69                     turberfield-eargain       00.004        1   \n",
       "70                         turberfield-ipc       0.12.0        1   \n",
       "71                     turberfield-machina      0.010.0        1   \n",
       "72                       turberfield-utils      0.011.0        1   \n",
       "76                           ud-py-moneyed        0.6.1        1   \n",
       "78                                     NaN          NaN      NaN   \n",
       "\n",
       "                                          Description  \n",
       "0   Functions and data manipulation for economics ...  \n",
       "1                    GNU Health Socioeconomics Module  \n",
       "3                            Python economics library  \n",
       "4                The Python Macroeconomics Laboratory  \n",
       "5   DismalPy: a collection of resources for quanti...  \n",
       "7   An open set of economics related tools, data a...  \n",
       "8                Federal Reserve Economic Data (FRED)  \n",
       "11  A package for downloading and working with dat...  \n",
       "15  Define a future or present value of the taxes....  \n",
       "16            Estimator for the generalized Roy Model  \n",
       "17       Python class to fetch data from inquirim.com  \n",
       "21  A package for solving and simulating linear dy...  \n",
       "22  Pareto chart for python (similar to Matlab's, ...  \n",
       "23  QuantEcon is a package to support all forms of...  \n",
       "27         Tools for networked Experimental Economics  \n",
       "28  Toolbox to explore robust dynamic discrete cho...  \n",
       "30                A currency trading ledger in Python  \n",
       "31  Spatial (geographic) data clustering: library ...  \n",
       "32  The Real-Time Analytics Engine for the GoldSax...  \n",
       "33  The Real-Time Engine for the GoldSaxEngine-Aus...  \n",
       "34  The Real-Time Engine for the GoldSaxEngine-Chi...  \n",
       "35  The Real-Time Scheduler Core Engine for the Go...  \n",
       "36  The Real-Time Engine for the GoldSaxEngine-Ind...  \n",
       "37  The Real-Time Engine for the GoldSaxEngine-Jap...  \n",
       "38  The Real-Time Engine for the GoldSaxEngine-Sou...  \n",
       "39  kabuki is a python toolbox that allows easy cr...  \n",
       "41  A simple pythonic wrapper for the Nobel Prize ...  \n",
       "42                                              ogusa  \n",
       "45  A download interface for the Public Access to ...  \n",
       "46  Provides Currency and Money classes for use in...  \n",
       "47  Offline IP address to Autonomous System Number...  \n",
       "48  Python package for solving initial value probl...  \n",
       "51  A simple interface for solving systems of equa...  \n",
       "52  Quantitative Financial Risk Management: awesom...  \n",
       "57                                            taxcalc  \n",
       "60                             GNU Health core module  \n",
       "62  GNU Health MDG6 - Millenium Development Goal #...  \n",
       "64     GNU Health Quick Recognition - QR codes Module  \n",
       "66          GNU Health WHO Essential Medicines Module  \n",
       "68  A package from the Turberfield project. Provid...  \n",
       "69  An example of interactive storytelling with Py...  \n",
       "70  A Distributed Inter-Process Control Facility f...  \n",
       "71  Semantic web-based movement for interactive st...  \n",
       "72     Reusable modules from the Turberfield project.  \n",
       "76  Provides Currency and Money classes for use in...  \n",
       "78                                                NaN  "
      ]
     },
     "execution_count": 135,
     "metadata": {},
     "output_type": "execute_result"
    }
   ],
   "source": [
    "table.drop_duplicates(subset=[\"Name\"])"
   ]
  },
  {
   "cell_type": "markdown",
   "metadata": {},
   "source": [
    "**Next:**\n",
    "\n",
    "Let's now consider we would like to know the Packages for `economics`, `biology`, `engineering`, `chemistry`. \n",
    "We have done all of the hard work with exploring the dataframe - we can now simply package what we have learnt into a loop"
   ]
  },
  {
   "cell_type": "code",
   "execution_count": 136,
   "metadata": {
    "collapsed": false
   },
   "outputs": [
    {
     "name": "stdout",
     "output_type": "stream",
     "text": [
      "Checking economics\n",
      "Checking biology\n",
      "Checking chemistry\n",
      "Checking engineering\n"
     ]
    }
   ],
   "source": [
    "results = {}\n",
    "search = [\"economics\", \"biology\",\"chemistry\",\"engineering\"]\n",
    "for term in search:\n",
    "    print(\"Checking %s\"%term)\n",
    "    url = \"https://pypi.python.org/pypi?%3Aaction=search&term=\" +term+\"&submit=search\"\n",
    "    page = requests.get(url)\n",
    "    table = pd.read_html(page.text, header=0)[0]\n",
    "    table[\"Name\"] = table.Package.str.split().str.get(0)\n",
    "    table[\"Version\"] = table.Package.str.split().str.get(1)\n",
    "    table = table[[\"Name\",\"Version\",\"Weight*\",\"Description\"]]\n",
    "    table = table.drop_duplicates(subset=[\"Name\"])\n",
    "    results[term] = table"
   ]
  },
  {
   "cell_type": "code",
   "execution_count": 137,
   "metadata": {
    "collapsed": false,
    "scrolled": true
   },
   "outputs": [
    {
     "data": {
      "text/html": [
       "<div>\n",
       "<table border=\"1\" class=\"dataframe\">\n",
       "  <thead>\n",
       "    <tr style=\"text-align: right;\">\n",
       "      <th></th>\n",
       "      <th>Name</th>\n",
       "      <th>Version</th>\n",
       "      <th>Weight*</th>\n",
       "      <th>Description</th>\n",
       "    </tr>\n",
       "  </thead>\n",
       "  <tbody>\n",
       "    <tr>\n",
       "      <th>0</th>\n",
       "      <td>economics</td>\n",
       "      <td>0.1.2</td>\n",
       "      <td>11</td>\n",
       "      <td>Functions and data manipulation for economics ...</td>\n",
       "    </tr>\n",
       "    <tr>\n",
       "      <th>1</th>\n",
       "      <td>trytond_health_socioeconomics</td>\n",
       "      <td>3.0.0</td>\n",
       "      <td>6</td>\n",
       "      <td>GNU Health Socioeconomics Module</td>\n",
       "    </tr>\n",
       "    <tr>\n",
       "      <th>3</th>\n",
       "      <td>econometrics</td>\n",
       "      <td>0.1.</td>\n",
       "      <td>4</td>\n",
       "      <td>Python economics library</td>\n",
       "    </tr>\n",
       "    <tr>\n",
       "      <th>4</th>\n",
       "      <td>pymaclab</td>\n",
       "      <td>0.95.9</td>\n",
       "      <td>4</td>\n",
       "      <td>The Python Macroeconomics Laboratory</td>\n",
       "    </tr>\n",
       "    <tr>\n",
       "      <th>5</th>\n",
       "      <td>dismalpy</td>\n",
       "      <td>0.2.3</td>\n",
       "      <td>2</td>\n",
       "      <td>DismalPy: a collection of resources for quanti...</td>\n",
       "    </tr>\n",
       "    <tr>\n",
       "      <th>7</th>\n",
       "      <td>econ</td>\n",
       "      <td>0.4</td>\n",
       "      <td>2</td>\n",
       "      <td>An open set of economics related tools, data a...</td>\n",
       "    </tr>\n",
       "    <tr>\n",
       "      <th>8</th>\n",
       "      <td>FRB</td>\n",
       "      <td>1.1.1</td>\n",
       "      <td>2</td>\n",
       "      <td>Federal Reserve Economic Data (FRED)</td>\n",
       "    </tr>\n",
       "    <tr>\n",
       "      <th>11</th>\n",
       "      <td>fredpy</td>\n",
       "      <td>0.4.2</td>\n",
       "      <td>2</td>\n",
       "      <td>A package for downloading and working with dat...</td>\n",
       "    </tr>\n",
       "    <tr>\n",
       "      <th>15</th>\n",
       "      <td>future_value</td>\n",
       "      <td>1.1.0</td>\n",
       "      <td>2</td>\n",
       "      <td>Define a future or present value of the taxes....</td>\n",
       "    </tr>\n",
       "    <tr>\n",
       "      <th>16</th>\n",
       "      <td>grmpy</td>\n",
       "      <td>1.1.1.19</td>\n",
       "      <td>2</td>\n",
       "      <td>Estimator for the generalized Roy Model</td>\n",
       "    </tr>\n",
       "    <tr>\n",
       "      <th>17</th>\n",
       "      <td>inquisitor</td>\n",
       "      <td>0.1.2</td>\n",
       "      <td>2</td>\n",
       "      <td>Python class to fetch data from inquirim.com</td>\n",
       "    </tr>\n",
       "    <tr>\n",
       "      <th>21</th>\n",
       "      <td>linearsolve</td>\n",
       "      <td>0.0.1a</td>\n",
       "      <td>2</td>\n",
       "      <td>A package for solving and simulating linear dy...</td>\n",
       "    </tr>\n",
       "    <tr>\n",
       "      <th>22</th>\n",
       "      <td>paretochart</td>\n",
       "      <td>1.0</td>\n",
       "      <td>2</td>\n",
       "      <td>Pareto chart for python (similar to Matlab's, ...</td>\n",
       "    </tr>\n",
       "    <tr>\n",
       "      <th>23</th>\n",
       "      <td>quantecon</td>\n",
       "      <td>0.3.0</td>\n",
       "      <td>2</td>\n",
       "      <td>QuantEcon is a package to support all forms of...</td>\n",
       "    </tr>\n",
       "    <tr>\n",
       "      <th>27</th>\n",
       "      <td>redwood</td>\n",
       "      <td>1.0</td>\n",
       "      <td>2</td>\n",
       "      <td>Tools for networked Experimental Economics</td>\n",
       "    </tr>\n",
       "    <tr>\n",
       "      <th>28</th>\n",
       "      <td>robupy</td>\n",
       "      <td>0.1.8</td>\n",
       "      <td>2</td>\n",
       "      <td>Toolbox to explore robust dynamic discrete cho...</td>\n",
       "    </tr>\n",
       "    <tr>\n",
       "      <th>30</th>\n",
       "      <td>tallywallet-common</td>\n",
       "      <td>0.009</td>\n",
       "      <td>2</td>\n",
       "      <td>A currency trading ledger in Python</td>\n",
       "    </tr>\n",
       "    <tr>\n",
       "      <th>31</th>\n",
       "      <td>clusterPy</td>\n",
       "      <td>0.9.9</td>\n",
       "      <td>1</td>\n",
       "      <td>Spatial (geographic) data clustering: library ...</td>\n",
       "    </tr>\n",
       "    <tr>\n",
       "      <th>32</th>\n",
       "      <td>GoldSaxAnalyticsEngineMarkets</td>\n",
       "      <td>0.013</td>\n",
       "      <td>1</td>\n",
       "      <td>The Real-Time Analytics Engine for the GoldSax...</td>\n",
       "    </tr>\n",
       "    <tr>\n",
       "      <th>33</th>\n",
       "      <td>GoldSaxEngineAustralianMarkets</td>\n",
       "      <td>0.021</td>\n",
       "      <td>1</td>\n",
       "      <td>The Real-Time Engine for the GoldSaxEngine-Aus...</td>\n",
       "    </tr>\n",
       "    <tr>\n",
       "      <th>34</th>\n",
       "      <td>GoldSaxEngineChinaMarkets</td>\n",
       "      <td>0.01</td>\n",
       "      <td>1</td>\n",
       "      <td>The Real-Time Engine for the GoldSaxEngine-Chi...</td>\n",
       "    </tr>\n",
       "    <tr>\n",
       "      <th>35</th>\n",
       "      <td>GoldSaxEngineCoreScheduler</td>\n",
       "      <td>1.011</td>\n",
       "      <td>1</td>\n",
       "      <td>The Real-Time Scheduler Core Engine for the Go...</td>\n",
       "    </tr>\n",
       "    <tr>\n",
       "      <th>36</th>\n",
       "      <td>GoldSaxEngineIndianMarkets</td>\n",
       "      <td>0.031</td>\n",
       "      <td>1</td>\n",
       "      <td>The Real-Time Engine for the GoldSaxEngine-Ind...</td>\n",
       "    </tr>\n",
       "    <tr>\n",
       "      <th>37</th>\n",
       "      <td>GoldSaxEngineJapanMarkets</td>\n",
       "      <td>0.021</td>\n",
       "      <td>1</td>\n",
       "      <td>The Real-Time Engine for the GoldSaxEngine-Jap...</td>\n",
       "    </tr>\n",
       "    <tr>\n",
       "      <th>38</th>\n",
       "      <td>GoldSaxEngineSouthKoreaMarkets</td>\n",
       "      <td>0.01</td>\n",
       "      <td>1</td>\n",
       "      <td>The Real-Time Engine for the GoldSaxEngine-Sou...</td>\n",
       "    </tr>\n",
       "    <tr>\n",
       "      <th>39</th>\n",
       "      <td>kabuki</td>\n",
       "      <td>0.6.1</td>\n",
       "      <td>1</td>\n",
       "      <td>kabuki is a python toolbox that allows easy cr...</td>\n",
       "    </tr>\n",
       "    <tr>\n",
       "      <th>41</th>\n",
       "      <td>nobel</td>\n",
       "      <td>0.2</td>\n",
       "      <td>1</td>\n",
       "      <td>A simple pythonic wrapper for the Nobel Prize ...</td>\n",
       "    </tr>\n",
       "    <tr>\n",
       "      <th>42</th>\n",
       "      <td>ogusa</td>\n",
       "      <td>0.2</td>\n",
       "      <td>1</td>\n",
       "      <td>ogusa</td>\n",
       "    </tr>\n",
       "    <tr>\n",
       "      <th>45</th>\n",
       "      <td>pacer_lib</td>\n",
       "      <td>2.33</td>\n",
       "      <td>1</td>\n",
       "      <td>A download interface for the Public Access to ...</td>\n",
       "    </tr>\n",
       "    <tr>\n",
       "      <th>46</th>\n",
       "      <td>py-moneyed</td>\n",
       "      <td>0.6.0</td>\n",
       "      <td>1</td>\n",
       "      <td>Provides Currency and Money classes for use in...</td>\n",
       "    </tr>\n",
       "    <tr>\n",
       "      <th>47</th>\n",
       "      <td>pyasn</td>\n",
       "      <td>1.5.0b6</td>\n",
       "      <td>1</td>\n",
       "      <td>Offline IP address to Autonomous System Number...</td>\n",
       "    </tr>\n",
       "    <tr>\n",
       "      <th>48</th>\n",
       "      <td>pyCollocation</td>\n",
       "      <td>0.6.0-alpha</td>\n",
       "      <td>1</td>\n",
       "      <td>Python package for solving initial value probl...</td>\n",
       "    </tr>\n",
       "    <tr>\n",
       "      <th>51</th>\n",
       "      <td>pysolve</td>\n",
       "      <td>0.1.7</td>\n",
       "      <td>1</td>\n",
       "      <td>A simple interface for solving systems of equa...</td>\n",
       "    </tr>\n",
       "    <tr>\n",
       "      <th>52</th>\n",
       "      <td>qfrm</td>\n",
       "      <td>0.1.1.12</td>\n",
       "      <td>1</td>\n",
       "      <td>Quantitative Financial Risk Management: awesom...</td>\n",
       "    </tr>\n",
       "    <tr>\n",
       "      <th>57</th>\n",
       "      <td>taxcalc</td>\n",
       "      <td>0.5.9</td>\n",
       "      <td>1</td>\n",
       "      <td>taxcalc</td>\n",
       "    </tr>\n",
       "    <tr>\n",
       "      <th>60</th>\n",
       "      <td>trytond_health</td>\n",
       "      <td>2.8.1</td>\n",
       "      <td>1</td>\n",
       "      <td>GNU Health core module</td>\n",
       "    </tr>\n",
       "    <tr>\n",
       "      <th>62</th>\n",
       "      <td>trytond_health_mdg6</td>\n",
       "      <td>3.0.0</td>\n",
       "      <td>1</td>\n",
       "      <td>GNU Health MDG6 - Millenium Development Goal #...</td>\n",
       "    </tr>\n",
       "    <tr>\n",
       "      <th>64</th>\n",
       "      <td>trytond_health_qrcodes</td>\n",
       "      <td>3.0.0</td>\n",
       "      <td>1</td>\n",
       "      <td>GNU Health Quick Recognition - QR codes Module</td>\n",
       "    </tr>\n",
       "    <tr>\n",
       "      <th>66</th>\n",
       "      <td>trytond_health_who_essential_medicines</td>\n",
       "      <td>3.0.0</td>\n",
       "      <td>1</td>\n",
       "      <td>GNU Health WHO Essential Medicines Module</td>\n",
       "    </tr>\n",
       "    <tr>\n",
       "      <th>68</th>\n",
       "      <td>turberfield-dynamics</td>\n",
       "      <td>00.010</td>\n",
       "      <td>1</td>\n",
       "      <td>A package from the Turberfield project. Provid...</td>\n",
       "    </tr>\n",
       "    <tr>\n",
       "      <th>69</th>\n",
       "      <td>turberfield-eargain</td>\n",
       "      <td>00.004</td>\n",
       "      <td>1</td>\n",
       "      <td>An example of interactive storytelling with Py...</td>\n",
       "    </tr>\n",
       "    <tr>\n",
       "      <th>70</th>\n",
       "      <td>turberfield-ipc</td>\n",
       "      <td>0.12.0</td>\n",
       "      <td>1</td>\n",
       "      <td>A Distributed Inter-Process Control Facility f...</td>\n",
       "    </tr>\n",
       "    <tr>\n",
       "      <th>71</th>\n",
       "      <td>turberfield-machina</td>\n",
       "      <td>0.010.0</td>\n",
       "      <td>1</td>\n",
       "      <td>Semantic web-based movement for interactive st...</td>\n",
       "    </tr>\n",
       "    <tr>\n",
       "      <th>72</th>\n",
       "      <td>turberfield-utils</td>\n",
       "      <td>0.011.0</td>\n",
       "      <td>1</td>\n",
       "      <td>Reusable modules from the Turberfield project.</td>\n",
       "    </tr>\n",
       "    <tr>\n",
       "      <th>76</th>\n",
       "      <td>ud-py-moneyed</td>\n",
       "      <td>0.6.1</td>\n",
       "      <td>1</td>\n",
       "      <td>Provides Currency and Money classes for use in...</td>\n",
       "    </tr>\n",
       "    <tr>\n",
       "      <th>78</th>\n",
       "      <td>NaN</td>\n",
       "      <td>NaN</td>\n",
       "      <td>NaN</td>\n",
       "      <td>NaN</td>\n",
       "    </tr>\n",
       "  </tbody>\n",
       "</table>\n",
       "</div>"
      ],
      "text/plain": [
       "                                      Name      Version  Weight*  \\\n",
       "0                                economics        0.1.2       11   \n",
       "1            trytond_health_socioeconomics        3.0.0        6   \n",
       "3                             econometrics         0.1.        4   \n",
       "4                                 pymaclab       0.95.9        4   \n",
       "5                                 dismalpy        0.2.3        2   \n",
       "7                                     econ          0.4        2   \n",
       "8                                      FRB        1.1.1        2   \n",
       "11                                  fredpy        0.4.2        2   \n",
       "15                            future_value        1.1.0        2   \n",
       "16                                   grmpy     1.1.1.19        2   \n",
       "17                              inquisitor        0.1.2        2   \n",
       "21                             linearsolve       0.0.1a        2   \n",
       "22                             paretochart          1.0        2   \n",
       "23                               quantecon        0.3.0        2   \n",
       "27                                 redwood          1.0        2   \n",
       "28                                  robupy        0.1.8        2   \n",
       "30                      tallywallet-common        0.009        2   \n",
       "31                               clusterPy        0.9.9        1   \n",
       "32           GoldSaxAnalyticsEngineMarkets        0.013        1   \n",
       "33          GoldSaxEngineAustralianMarkets        0.021        1   \n",
       "34               GoldSaxEngineChinaMarkets         0.01        1   \n",
       "35              GoldSaxEngineCoreScheduler        1.011        1   \n",
       "36              GoldSaxEngineIndianMarkets        0.031        1   \n",
       "37               GoldSaxEngineJapanMarkets        0.021        1   \n",
       "38          GoldSaxEngineSouthKoreaMarkets         0.01        1   \n",
       "39                                  kabuki        0.6.1        1   \n",
       "41                                   nobel          0.2        1   \n",
       "42                                   ogusa          0.2        1   \n",
       "45                               pacer_lib         2.33        1   \n",
       "46                              py-moneyed        0.6.0        1   \n",
       "47                                   pyasn      1.5.0b6        1   \n",
       "48                           pyCollocation  0.6.0-alpha        1   \n",
       "51                                 pysolve        0.1.7        1   \n",
       "52                                    qfrm     0.1.1.12        1   \n",
       "57                                 taxcalc        0.5.9        1   \n",
       "60                          trytond_health        2.8.1        1   \n",
       "62                     trytond_health_mdg6        3.0.0        1   \n",
       "64                  trytond_health_qrcodes        3.0.0        1   \n",
       "66  trytond_health_who_essential_medicines        3.0.0        1   \n",
       "68                    turberfield-dynamics       00.010        1   \n",
       "69                     turberfield-eargain       00.004        1   \n",
       "70                         turberfield-ipc       0.12.0        1   \n",
       "71                     turberfield-machina      0.010.0        1   \n",
       "72                       turberfield-utils      0.011.0        1   \n",
       "76                           ud-py-moneyed        0.6.1        1   \n",
       "78                                     NaN          NaN      NaN   \n",
       "\n",
       "                                          Description  \n",
       "0   Functions and data manipulation for economics ...  \n",
       "1                    GNU Health Socioeconomics Module  \n",
       "3                            Python economics library  \n",
       "4                The Python Macroeconomics Laboratory  \n",
       "5   DismalPy: a collection of resources for quanti...  \n",
       "7   An open set of economics related tools, data a...  \n",
       "8                Federal Reserve Economic Data (FRED)  \n",
       "11  A package for downloading and working with dat...  \n",
       "15  Define a future or present value of the taxes....  \n",
       "16            Estimator for the generalized Roy Model  \n",
       "17       Python class to fetch data from inquirim.com  \n",
       "21  A package for solving and simulating linear dy...  \n",
       "22  Pareto chart for python (similar to Matlab's, ...  \n",
       "23  QuantEcon is a package to support all forms of...  \n",
       "27         Tools for networked Experimental Economics  \n",
       "28  Toolbox to explore robust dynamic discrete cho...  \n",
       "30                A currency trading ledger in Python  \n",
       "31  Spatial (geographic) data clustering: library ...  \n",
       "32  The Real-Time Analytics Engine for the GoldSax...  \n",
       "33  The Real-Time Engine for the GoldSaxEngine-Aus...  \n",
       "34  The Real-Time Engine for the GoldSaxEngine-Chi...  \n",
       "35  The Real-Time Scheduler Core Engine for the Go...  \n",
       "36  The Real-Time Engine for the GoldSaxEngine-Ind...  \n",
       "37  The Real-Time Engine for the GoldSaxEngine-Jap...  \n",
       "38  The Real-Time Engine for the GoldSaxEngine-Sou...  \n",
       "39  kabuki is a python toolbox that allows easy cr...  \n",
       "41  A simple pythonic wrapper for the Nobel Prize ...  \n",
       "42                                              ogusa  \n",
       "45  A download interface for the Public Access to ...  \n",
       "46  Provides Currency and Money classes for use in...  \n",
       "47  Offline IP address to Autonomous System Number...  \n",
       "48  Python package for solving initial value probl...  \n",
       "51  A simple interface for solving systems of equa...  \n",
       "52  Quantitative Financial Risk Management: awesom...  \n",
       "57                                            taxcalc  \n",
       "60                             GNU Health core module  \n",
       "62  GNU Health MDG6 - Millenium Development Goal #...  \n",
       "64     GNU Health Quick Recognition - QR codes Module  \n",
       "66          GNU Health WHO Essential Medicines Module  \n",
       "68  A package from the Turberfield project. Provid...  \n",
       "69  An example of interactive storytelling with Py...  \n",
       "70  A Distributed Inter-Process Control Facility f...  \n",
       "71  Semantic web-based movement for interactive st...  \n",
       "72     Reusable modules from the Turberfield project.  \n",
       "76  Provides Currency and Money classes for use in...  \n",
       "78                                                NaN  "
      ]
     },
     "execution_count": 137,
     "metadata": {},
     "output_type": "execute_result"
    }
   ],
   "source": [
    "results['economics']"
   ]
  },
  {
   "cell_type": "code",
   "execution_count": 138,
   "metadata": {
    "collapsed": false,
    "scrolled": true
   },
   "outputs": [
    {
     "data": {
      "text/html": [
       "<div>\n",
       "<table border=\"1\" class=\"dataframe\">\n",
       "  <thead>\n",
       "    <tr style=\"text-align: right;\">\n",
       "      <th></th>\n",
       "      <th>Name</th>\n",
       "      <th>Version</th>\n",
       "      <th>Weight*</th>\n",
       "      <th>Description</th>\n",
       "    </tr>\n",
       "  </thead>\n",
       "  <tbody>\n",
       "    <tr>\n",
       "      <th>0</th>\n",
       "      <td>pydvkbiology</td>\n",
       "      <td>0.41</td>\n",
       "      <td>8</td>\n",
       "      <td>Python scripts used in my biology/bioinformati...</td>\n",
       "    </tr>\n",
       "    <tr>\n",
       "      <th>4</th>\n",
       "      <td>bones</td>\n",
       "      <td>0.1</td>\n",
       "      <td>4</td>\n",
       "      <td>A python toolkit for biology</td>\n",
       "    </tr>\n",
       "    <tr>\n",
       "      <th>5</th>\n",
       "      <td>coral</td>\n",
       "      <td>0.1.0</td>\n",
       "      <td>4</td>\n",
       "      <td>Coral, a library and framework for specifying ...</td>\n",
       "    </tr>\n",
       "    <tr>\n",
       "      <th>6</th>\n",
       "      <td>pysb</td>\n",
       "      <td>1.0.1</td>\n",
       "      <td>4</td>\n",
       "      <td>Python Systems Biology modeling framework</td>\n",
       "    </tr>\n",
       "    <tr>\n",
       "      <th>7</th>\n",
       "      <td>bioasp</td>\n",
       "      <td>1.1</td>\n",
       "      <td>3</td>\n",
       "      <td>Answer Set Programming for Systems Biology</td>\n",
       "    </tr>\n",
       "    <tr>\n",
       "      <th>8</th>\n",
       "      <td>biopython</td>\n",
       "      <td>1.66</td>\n",
       "      <td>3</td>\n",
       "      <td>Freely available tools for computational molec...</td>\n",
       "    </tr>\n",
       "    <tr>\n",
       "      <th>10</th>\n",
       "      <td>csb</td>\n",
       "      <td>1.2.3</td>\n",
       "      <td>3</td>\n",
       "      <td>Computational Structural Biology Toolbox</td>\n",
       "    </tr>\n",
       "    <tr>\n",
       "      <th>11</th>\n",
       "      <td>dreamtools</td>\n",
       "      <td>1.2.3</td>\n",
       "      <td>2</td>\n",
       "      <td>Scoring functions for the DREAM / SAGE challenges</td>\n",
       "    </tr>\n",
       "    <tr>\n",
       "      <th>12</th>\n",
       "      <td>ECLAIR</td>\n",
       "      <td>1.6</td>\n",
       "      <td>2</td>\n",
       "      <td>Robust inference of cell lineages from gene ex...</td>\n",
       "    </tr>\n",
       "    <tr>\n",
       "      <th>19</th>\n",
       "      <td>LogGabor</td>\n",
       "      <td>0.2</td>\n",
       "      <td>3</td>\n",
       "      <td>A log-Gabor pyramid is an oriented multiresolu...</td>\n",
       "    </tr>\n",
       "    <tr>\n",
       "      <th>20</th>\n",
       "      <td>PyNCT</td>\n",
       "      <td>0.1.0</td>\n",
       "      <td>3</td>\n",
       "      <td>Python Numerical Continuation Toolbox</td>\n",
       "    </tr>\n",
       "    <tr>\n",
       "      <th>21</th>\n",
       "      <td>rxnconcompiler</td>\n",
       "      <td>1.1.0</td>\n",
       "      <td>3</td>\n",
       "      <td>Systems Biology iterative network building tool</td>\n",
       "    </tr>\n",
       "    <tr>\n",
       "      <th>22</th>\n",
       "      <td>scikit-tracker</td>\n",
       "      <td>0.2.1</td>\n",
       "      <td>3</td>\n",
       "      <td>Object detection and tracking for cell biology</td>\n",
       "    </tr>\n",
       "    <tr>\n",
       "      <th>23</th>\n",
       "      <td>AGEpy</td>\n",
       "      <td>0.1b1</td>\n",
       "      <td>2</td>\n",
       "      <td>Bioinformatics tools for Python developed at t...</td>\n",
       "    </tr>\n",
       "    <tr>\n",
       "      <th>25</th>\n",
       "      <td>anvio</td>\n",
       "      <td>1.2.0</td>\n",
       "      <td>2</td>\n",
       "      <td>An interactive analysis and visualization plat...</td>\n",
       "    </tr>\n",
       "    <tr>\n",
       "      <th>28</th>\n",
       "      <td>bdi</td>\n",
       "      <td>0.1.13</td>\n",
       "      <td>2</td>\n",
       "      <td>Bioinformatics Data Interface</td>\n",
       "    </tr>\n",
       "    <tr>\n",
       "      <th>29</th>\n",
       "      <td>bioservices</td>\n",
       "      <td>1.4.0</td>\n",
       "      <td>2</td>\n",
       "      <td>Access to Biological Web Services from Python</td>\n",
       "    </tr>\n",
       "    <tr>\n",
       "      <th>34</th>\n",
       "      <td>cameo</td>\n",
       "      <td>0.5.0</td>\n",
       "      <td>2</td>\n",
       "      <td>cameo - computer aided metabolic engineering &amp;...</td>\n",
       "    </tr>\n",
       "    <tr>\n",
       "      <th>35</th>\n",
       "      <td>caspo</td>\n",
       "      <td>2.2.0</td>\n",
       "      <td>2</td>\n",
       "      <td>Reasoning on the response of logical signaling...</td>\n",
       "    </tr>\n",
       "    <tr>\n",
       "      <th>36</th>\n",
       "      <td>cbmpy</td>\n",
       "      <td>0.7.3</td>\n",
       "      <td>2</td>\n",
       "      <td>CBMPy: PySCeS Constraint Based Modelling</td>\n",
       "    </tr>\n",
       "    <tr>\n",
       "      <th>37</th>\n",
       "      <td>cobra</td>\n",
       "      <td>0.4.0b4</td>\n",
       "      <td>2</td>\n",
       "      <td>COBRApy is a package for constraints-based mod...</td>\n",
       "    </tr>\n",
       "    <tr>\n",
       "      <th>40</th>\n",
       "      <td>cogent</td>\n",
       "      <td>1.5.3</td>\n",
       "      <td>2</td>\n",
       "      <td>COmparative GENomics Toolkit</td>\n",
       "    </tr>\n",
       "    <tr>\n",
       "      <th>41</th>\n",
       "      <td>compbio</td>\n",
       "      <td>0.9</td>\n",
       "      <td>2</td>\n",
       "      <td>Python libraries and utilities for computation...</td>\n",
       "    </tr>\n",
       "    <tr>\n",
       "      <th>42</th>\n",
       "      <td>CompleteGenomicsTools</td>\n",
       "      <td>0.1.2dev</td>\n",
       "      <td>2</td>\n",
       "      <td>Tools for manipulating and visualizing data fr...</td>\n",
       "    </tr>\n",
       "    <tr>\n",
       "      <th>43</th>\n",
       "      <td>contamDetect</td>\n",
       "      <td>0.0.1</td>\n",
       "      <td>2</td>\n",
       "      <td>Package to clean a folder of user sequences, b...</td>\n",
       "    </tr>\n",
       "    <tr>\n",
       "      <th>45</th>\n",
       "      <td>curveball</td>\n",
       "      <td>0.1.8</td>\n",
       "      <td>2</td>\n",
       "      <td>Predicting competition results from growth curves</td>\n",
       "    </tr>\n",
       "    <tr>\n",
       "      <th>46</th>\n",
       "      <td>DendroPy</td>\n",
       "      <td>4.0.3</td>\n",
       "      <td>2</td>\n",
       "      <td>A Python library for phylogenetics and phyloge...</td>\n",
       "    </tr>\n",
       "    <tr>\n",
       "      <th>56</th>\n",
       "      <td>driven</td>\n",
       "      <td>0.0.0</td>\n",
       "      <td>2</td>\n",
       "      <td>driven - data-driven constraint-based analysis</td>\n",
       "    </tr>\n",
       "    <tr>\n",
       "      <th>61</th>\n",
       "      <td>fastaTools</td>\n",
       "      <td>0.0.1</td>\n",
       "      <td>2</td>\n",
       "      <td>A few small tools for working with fasta files.</td>\n",
       "    </tr>\n",
       "    <tr>\n",
       "      <th>62</th>\n",
       "      <td>FluGibson</td>\n",
       "      <td>1.2</td>\n",
       "      <td>2</td>\n",
       "      <td>A Python package for designing influenza rever...</td>\n",
       "    </tr>\n",
       "    <tr>\n",
       "      <th>...</th>\n",
       "      <td>...</td>\n",
       "      <td>...</td>\n",
       "      <td>...</td>\n",
       "      <td>...</td>\n",
       "    </tr>\n",
       "    <tr>\n",
       "      <th>177</th>\n",
       "      <td>LFPy</td>\n",
       "      <td>1.1.1</td>\n",
       "      <td>1</td>\n",
       "      <td>A module for modeling Local Field Potentials b...</td>\n",
       "    </tr>\n",
       "    <tr>\n",
       "      <th>179</th>\n",
       "      <td>libsbgnpy</td>\n",
       "      <td>0.1.2</td>\n",
       "      <td>1</td>\n",
       "      <td>libsbgn python bindings</td>\n",
       "    </tr>\n",
       "    <tr>\n",
       "      <th>180</th>\n",
       "      <td>moderna</td>\n",
       "      <td>1.7.5</td>\n",
       "      <td>1</td>\n",
       "      <td>ModeRNA - A program for comparative RNA modeling</td>\n",
       "    </tr>\n",
       "    <tr>\n",
       "      <th>181</th>\n",
       "      <td>msbwt</td>\n",
       "      <td>0.2.8</td>\n",
       "      <td>1</td>\n",
       "      <td>Allows for merging and querying of multi-strin...</td>\n",
       "    </tr>\n",
       "    <tr>\n",
       "      <th>182</th>\n",
       "      <td>MUSiCC</td>\n",
       "      <td>1.0.1</td>\n",
       "      <td>1</td>\n",
       "      <td>MUSICC: A marker genes based framework for met...</td>\n",
       "    </tr>\n",
       "    <tr>\n",
       "      <th>183</th>\n",
       "      <td>nsim</td>\n",
       "      <td>0.1.13</td>\n",
       "      <td>1</td>\n",
       "      <td>Simulate systems from ODEs or SDEs, analyze ti...</td>\n",
       "    </tr>\n",
       "    <tr>\n",
       "      <th>188</th>\n",
       "      <td>oligotyping</td>\n",
       "      <td>2.1</td>\n",
       "      <td>1</td>\n",
       "      <td>The oligotyping and minimum entropy decomposit...</td>\n",
       "    </tr>\n",
       "    <tr>\n",
       "      <th>190</th>\n",
       "      <td>OpenDiscovery</td>\n",
       "      <td>2.4.6</td>\n",
       "      <td>1</td>\n",
       "      <td>Computational Drug Discovery Software</td>\n",
       "    </tr>\n",
       "    <tr>\n",
       "      <th>191</th>\n",
       "      <td>orcid-python</td>\n",
       "      <td>0.1</td>\n",
       "      <td>1</td>\n",
       "      <td>A simple wrapper around the ORCID.org API.</td>\n",
       "    </tr>\n",
       "    <tr>\n",
       "      <th>192</th>\n",
       "      <td>plotsettings</td>\n",
       "      <td>1.0.4-2</td>\n",
       "      <td>1</td>\n",
       "      <td>Easily format figures to match the publication...</td>\n",
       "    </tr>\n",
       "    <tr>\n",
       "      <th>193</th>\n",
       "      <td>PowerGrASP</td>\n",
       "      <td>0.3.4</td>\n",
       "      <td>1</td>\n",
       "      <td>Graph compression with Answer Set Programming</td>\n",
       "    </tr>\n",
       "    <tr>\n",
       "      <th>205</th>\n",
       "      <td>Pump3000</td>\n",
       "      <td>1.0</td>\n",
       "      <td>1</td>\n",
       "      <td>Pump3000: A Graphical User Interface for contr...</td>\n",
       "    </tr>\n",
       "    <tr>\n",
       "      <th>206</th>\n",
       "      <td>pydpi</td>\n",
       "      <td>1.0</td>\n",
       "      <td>1</td>\n",
       "      <td>A powerful tool for chemoinformatics, bioinfor...</td>\n",
       "    </tr>\n",
       "    <tr>\n",
       "      <th>207</th>\n",
       "      <td>pygenenet</td>\n",
       "      <td>0.1.1</td>\n",
       "      <td>1</td>\n",
       "      <td>Python implementation of GeneNet algorithm (Ba...</td>\n",
       "    </tr>\n",
       "    <tr>\n",
       "      <th>208</th>\n",
       "      <td>PyMICE</td>\n",
       "      <td>0.2.4</td>\n",
       "      <td>1</td>\n",
       "      <td>PyMICE - a Python™ library for mice behavioura...</td>\n",
       "    </tr>\n",
       "    <tr>\n",
       "      <th>213</th>\n",
       "      <td>pysickle</td>\n",
       "      <td>0.1.1</td>\n",
       "      <td>1</td>\n",
       "      <td>Remove outlier sequences from multiple sequenc...</td>\n",
       "    </tr>\n",
       "    <tr>\n",
       "      <th>214</th>\n",
       "      <td>pyslid</td>\n",
       "      <td>0.1.0</td>\n",
       "      <td>1</td>\n",
       "      <td>Protein Subcellular Location Image Database fo...</td>\n",
       "    </tr>\n",
       "    <tr>\n",
       "      <th>215</th>\n",
       "      <td>python-databasin</td>\n",
       "      <td>0.1.0</td>\n",
       "      <td>1</td>\n",
       "      <td>A client library for Data Basin (http://databa...</td>\n",
       "    </tr>\n",
       "    <tr>\n",
       "      <th>218</th>\n",
       "      <td>python-libsbml</td>\n",
       "      <td>5.11.4</td>\n",
       "      <td>1</td>\n",
       "      <td>LibSBML Python API</td>\n",
       "    </tr>\n",
       "    <tr>\n",
       "      <th>220</th>\n",
       "      <td>python-libsbml-experimental</td>\n",
       "      <td>5.11.6</td>\n",
       "      <td>1</td>\n",
       "      <td>LibSBML Python API</td>\n",
       "    </tr>\n",
       "    <tr>\n",
       "      <th>222</th>\n",
       "      <td>quickgui</td>\n",
       "      <td>1.5.6</td>\n",
       "      <td>1</td>\n",
       "      <td>Rapidly create gui without any knowledge of wx...</td>\n",
       "    </tr>\n",
       "    <tr>\n",
       "      <th>223</th>\n",
       "      <td>reHCstar</td>\n",
       "      <td>2.1.3</td>\n",
       "      <td>1</td>\n",
       "      <td>A SAT-based program to compute a haplotype con...</td>\n",
       "    </tr>\n",
       "    <tr>\n",
       "      <th>224</th>\n",
       "      <td>ricerca</td>\n",
       "      <td>1.1.3</td>\n",
       "      <td>1</td>\n",
       "      <td>Content-based image search</td>\n",
       "    </tr>\n",
       "    <tr>\n",
       "      <th>225</th>\n",
       "      <td>seqSieve</td>\n",
       "      <td>0.9.1</td>\n",
       "      <td>1</td>\n",
       "      <td>Remove outlier sequences from multiple sequenc...</td>\n",
       "    </tr>\n",
       "    <tr>\n",
       "      <th>226</th>\n",
       "      <td>solu</td>\n",
       "      <td>0.1</td>\n",
       "      <td>1</td>\n",
       "      <td>Self-service Office resource Locator and Updater</td>\n",
       "    </tr>\n",
       "    <tr>\n",
       "      <th>227</th>\n",
       "      <td>stimator</td>\n",
       "      <td>0.9.98</td>\n",
       "      <td>1</td>\n",
       "      <td>Analysis of ODE models with focus on model sel...</td>\n",
       "    </tr>\n",
       "    <tr>\n",
       "      <th>228</th>\n",
       "      <td>tulip-python</td>\n",
       "      <td>4.8.0.post1</td>\n",
       "      <td>1</td>\n",
       "      <td>Large graphs analysis and drawing</td>\n",
       "    </tr>\n",
       "    <tr>\n",
       "      <th>230</th>\n",
       "      <td>tulipgui-python</td>\n",
       "      <td>4.8.0</td>\n",
       "      <td>1</td>\n",
       "      <td>Tulip GUI Python bindings</td>\n",
       "    </tr>\n",
       "    <tr>\n",
       "      <th>232</th>\n",
       "      <td>whatshap</td>\n",
       "      <td>0.9</td>\n",
       "      <td>1</td>\n",
       "      <td>phase genomic variants using DNA sequencing reads</td>\n",
       "    </tr>\n",
       "    <tr>\n",
       "      <th>233</th>\n",
       "      <td>NaN</td>\n",
       "      <td>NaN</td>\n",
       "      <td>NaN</td>\n",
       "      <td>NaN</td>\n",
       "    </tr>\n",
       "  </tbody>\n",
       "</table>\n",
       "<p>111 rows × 4 columns</p>\n",
       "</div>"
      ],
      "text/plain": [
       "                            Name      Version  Weight*  \\\n",
       "0                   pydvkbiology         0.41        8   \n",
       "4                          bones          0.1        4   \n",
       "5                          coral        0.1.0        4   \n",
       "6                           pysb        1.0.1        4   \n",
       "7                         bioasp          1.1        3   \n",
       "8                      biopython         1.66        3   \n",
       "10                           csb        1.2.3        3   \n",
       "11                    dreamtools        1.2.3        2   \n",
       "12                        ECLAIR          1.6        2   \n",
       "19                      LogGabor          0.2        3   \n",
       "20                         PyNCT        0.1.0        3   \n",
       "21                rxnconcompiler        1.1.0        3   \n",
       "22                scikit-tracker        0.2.1        3   \n",
       "23                         AGEpy        0.1b1        2   \n",
       "25                         anvio        1.2.0        2   \n",
       "28                           bdi       0.1.13        2   \n",
       "29                   bioservices        1.4.0        2   \n",
       "34                         cameo        0.5.0        2   \n",
       "35                         caspo        2.2.0        2   \n",
       "36                         cbmpy        0.7.3        2   \n",
       "37                         cobra      0.4.0b4        2   \n",
       "40                        cogent        1.5.3        2   \n",
       "41                       compbio          0.9        2   \n",
       "42         CompleteGenomicsTools     0.1.2dev        2   \n",
       "43                  contamDetect        0.0.1        2   \n",
       "45                     curveball        0.1.8        2   \n",
       "46                      DendroPy        4.0.3        2   \n",
       "56                        driven        0.0.0        2   \n",
       "61                    fastaTools        0.0.1        2   \n",
       "62                     FluGibson          1.2        2   \n",
       "..                           ...          ...      ...   \n",
       "177                         LFPy        1.1.1        1   \n",
       "179                    libsbgnpy        0.1.2        1   \n",
       "180                      moderna        1.7.5        1   \n",
       "181                        msbwt        0.2.8        1   \n",
       "182                       MUSiCC        1.0.1        1   \n",
       "183                         nsim       0.1.13        1   \n",
       "188                  oligotyping          2.1        1   \n",
       "190                OpenDiscovery        2.4.6        1   \n",
       "191                 orcid-python          0.1        1   \n",
       "192                 plotsettings      1.0.4-2        1   \n",
       "193                   PowerGrASP        0.3.4        1   \n",
       "205                     Pump3000          1.0        1   \n",
       "206                        pydpi          1.0        1   \n",
       "207                    pygenenet        0.1.1        1   \n",
       "208                       PyMICE        0.2.4        1   \n",
       "213                     pysickle        0.1.1        1   \n",
       "214                       pyslid        0.1.0        1   \n",
       "215             python-databasin        0.1.0        1   \n",
       "218               python-libsbml       5.11.4        1   \n",
       "220  python-libsbml-experimental       5.11.6        1   \n",
       "222                     quickgui        1.5.6        1   \n",
       "223                     reHCstar        2.1.3        1   \n",
       "224                      ricerca        1.1.3        1   \n",
       "225                     seqSieve        0.9.1        1   \n",
       "226                         solu          0.1        1   \n",
       "227                     stimator       0.9.98        1   \n",
       "228                 tulip-python  4.8.0.post1        1   \n",
       "230              tulipgui-python        4.8.0        1   \n",
       "232                     whatshap          0.9        1   \n",
       "233                          NaN          NaN      NaN   \n",
       "\n",
       "                                           Description  \n",
       "0    Python scripts used in my biology/bioinformati...  \n",
       "4                         A python toolkit for biology  \n",
       "5    Coral, a library and framework for specifying ...  \n",
       "6            Python Systems Biology modeling framework  \n",
       "7           Answer Set Programming for Systems Biology  \n",
       "8    Freely available tools for computational molec...  \n",
       "10            Computational Structural Biology Toolbox  \n",
       "11   Scoring functions for the DREAM / SAGE challenges  \n",
       "12   Robust inference of cell lineages from gene ex...  \n",
       "19   A log-Gabor pyramid is an oriented multiresolu...  \n",
       "20               Python Numerical Continuation Toolbox  \n",
       "21     Systems Biology iterative network building tool  \n",
       "22      Object detection and tracking for cell biology  \n",
       "23   Bioinformatics tools for Python developed at t...  \n",
       "25   An interactive analysis and visualization plat...  \n",
       "28                       Bioinformatics Data Interface  \n",
       "29       Access to Biological Web Services from Python  \n",
       "34   cameo - computer aided metabolic engineering &...  \n",
       "35   Reasoning on the response of logical signaling...  \n",
       "36            CBMPy: PySCeS Constraint Based Modelling  \n",
       "37   COBRApy is a package for constraints-based mod...  \n",
       "40                        COmparative GENomics Toolkit  \n",
       "41   Python libraries and utilities for computation...  \n",
       "42   Tools for manipulating and visualizing data fr...  \n",
       "43   Package to clean a folder of user sequences, b...  \n",
       "45   Predicting competition results from growth curves  \n",
       "46   A Python library for phylogenetics and phyloge...  \n",
       "56      driven - data-driven constraint-based analysis  \n",
       "61     A few small tools for working with fasta files.  \n",
       "62   A Python package for designing influenza rever...  \n",
       "..                                                 ...  \n",
       "177  A module for modeling Local Field Potentials b...  \n",
       "179                            libsbgn python bindings  \n",
       "180   ModeRNA - A program for comparative RNA modeling  \n",
       "181  Allows for merging and querying of multi-strin...  \n",
       "182  MUSICC: A marker genes based framework for met...  \n",
       "183  Simulate systems from ODEs or SDEs, analyze ti...  \n",
       "188  The oligotyping and minimum entropy decomposit...  \n",
       "190              Computational Drug Discovery Software  \n",
       "191         A simple wrapper around the ORCID.org API.  \n",
       "192  Easily format figures to match the publication...  \n",
       "193      Graph compression with Answer Set Programming  \n",
       "205  Pump3000: A Graphical User Interface for contr...  \n",
       "206  A powerful tool for chemoinformatics, bioinfor...  \n",
       "207  Python implementation of GeneNet algorithm (Ba...  \n",
       "208  PyMICE - a Python™ library for mice behavioura...  \n",
       "213  Remove outlier sequences from multiple sequenc...  \n",
       "214  Protein Subcellular Location Image Database fo...  \n",
       "215  A client library for Data Basin (http://databa...  \n",
       "218                                 LibSBML Python API  \n",
       "220                                 LibSBML Python API  \n",
       "222  Rapidly create gui without any knowledge of wx...  \n",
       "223  A SAT-based program to compute a haplotype con...  \n",
       "224                         Content-based image search  \n",
       "225  Remove outlier sequences from multiple sequenc...  \n",
       "226   Self-service Office resource Locator and Updater  \n",
       "227  Analysis of ODE models with focus on model sel...  \n",
       "228                  Large graphs analysis and drawing  \n",
       "230                          Tulip GUI Python bindings  \n",
       "232  phase genomic variants using DNA sequencing reads  \n",
       "233                                                NaN  \n",
       "\n",
       "[111 rows x 4 columns]"
      ]
     },
     "execution_count": 138,
     "metadata": {},
     "output_type": "execute_result"
    }
   ],
   "source": [
    "results['biology']"
   ]
  },
  {
   "cell_type": "code",
   "execution_count": null,
   "metadata": {
    "collapsed": true
   },
   "outputs": [],
   "source": []
  }
 ],
 "metadata": {
  "kernelspec": {
   "display_name": "Python 3",
   "language": "python",
   "name": "python3"
  },
  "language_info": {
   "codemirror_mode": {
    "name": "ipython",
    "version": 3
   },
   "file_extension": ".py",
   "mimetype": "text/x-python",
   "name": "python",
   "nbconvert_exporter": "python",
   "pygments_lexer": "ipython3",
   "version": "3.5.1"
  }
 },
 "nbformat": 4,
 "nbformat_minor": 0
}
