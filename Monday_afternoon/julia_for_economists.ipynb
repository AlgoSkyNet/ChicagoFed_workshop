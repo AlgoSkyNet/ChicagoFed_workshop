{
 "cells": [
  {
   "cell_type": "markdown",
   "metadata": {
    "slideshow": {
     "slide_type": "slide"
    }
   },
   "source": [
    "## Workshop on Scientific Computing in Economics with Python and Julia\n",
    "\n",
    "## Monday Afternoon Session: Julia for Economists\n",
    "\n",
    "**Chase Coleman**"
   ]
  },
  {
   "cell_type": "markdown",
   "metadata": {
    "slideshow": {
     "slide_type": "subslide"
    }
   },
   "source": [
    "## What makes julia the right tool for what we do?\n",
    "\n",
    "* Fast\n",
    "* Flexible\n",
    "* Intuitive\n",
    "* Quickly growing package ecosystem (We don't want to re-invent the wheel)"
   ]
  },
  {
   "cell_type": "markdown",
   "metadata": {
    "slideshow": {
     "slide_type": "slide"
    }
   },
   "source": [
    "## Distributions.jl\n",
    "\n",
    "A Julia package for probability distributions and associated functions. Particularly, Distributions implements:\n",
    "\n",
    "* Moments (e.g mean, variance, skewness, and kurtosis), entropy, and other properties\n",
    "* Probability density/mass functions (pdf) and their logarithm (logpdf)\n",
    "* Moment generating functions and characteristic functions\n",
    "* Sampling from population or from a distribution\n",
    "* Maximum likelihood estimation\n",
    "\n",
    "In particular, it provides a very natural (and consistent!) way to work with about 70 different distributions."
   ]
  },
  {
   "cell_type": "code",
   "execution_count": 1,
   "metadata": {
    "collapsed": true
   },
   "outputs": [],
   "source": [
    "using Distributions"
   ]
  },
  {
   "cell_type": "markdown",
   "metadata": {},
   "source": [
    "We will create a standard normal distribution and do a variety of things with it below."
   ]
  },
  {
   "cell_type": "code",
   "execution_count": 8,
   "metadata": {
    "collapsed": false
   },
   "outputs": [
    {
     "data": {
      "text/plain": [
       "10-element Array{Float64,1}:\n",
       "  0.805947  \n",
       " -0.0746159 \n",
       " -0.189863  \n",
       " -0.00602921\n",
       "  0.576053  \n",
       " -0.146408  \n",
       "  0.628677  \n",
       "  0.48154   \n",
       " -0.715621  \n",
       " -0.695809  "
      ]
     },
     "execution_count": 8,
     "metadata": {},
     "output_type": "execute_result"
    }
   ],
   "source": [
    "# Create the standard normal distribution\n",
    "nrv = Normal(0.0, 1.0)\n",
    "\n",
    "# Get the 1st and 99th percentile\n",
    "nrv_quantiles = quantile(nrv, [0.01, 0.99])\n",
    "\n",
    "# Get the value of pdf (and cdf) of the 1st and 99th percentile\n",
    "nrv_pdf = pdf(nrv, nrv_quantiles)\n",
    "nrv_cdf = cdf(nrv, nrv_quantiles)\n",
    "\n",
    "# Sample from the distribution (samples 1 draw from distribution unless specified)\n",
    "rand(nrv)\n",
    "rand(nrv, 10)"
   ]
  },
  {
   "cell_type": "code",
   "execution_count": 28,
   "metadata": {
    "collapsed": false
   },
   "outputs": [
    {
     "data": {
      "text/plain": [
       "Distributions.Normal"
      ]
     },
     "execution_count": 28,
     "metadata": {},
     "output_type": "execute_result"
    }
   ],
   "source": [
    "typeof(nrv)"
   ]
  },
  {
   "cell_type": "markdown",
   "metadata": {},
   "source": [
    "Notice that we can use almost exactly the same code -- We only change the distribution name -- to get these same items from the inverse gamma distribution"
   ]
  },
  {
   "cell_type": "code",
   "execution_count": 26,
   "metadata": {
    "collapsed": false
   },
   "outputs": [
    {
     "data": {
      "text/plain": [
       "10-element Array{Float64,1}:\n",
       " 1.03085 \n",
       " 0.412152\n",
       " 0.581367\n",
       " 0.784663\n",
       " 0.667347\n",
       " 0.376235\n",
       " 0.582554\n",
       " 0.717137\n",
       " 0.673634\n",
       " 1.62976 "
      ]
     },
     "execution_count": 26,
     "metadata": {},
     "output_type": "execute_result"
    }
   ],
   "source": [
    "ivg = InverseGamma(7.0, 4.0)\n",
    "\n",
    "# Get the 1st and 99th percentile\n",
    "ivg_quantiles = quantile(ivg, [0.01, 0.99])\n",
    "\n",
    "# Get the value of pdf (and cdf) of the 1st and 99th percentile\n",
    "ivg_pdf = pdf(ivg, ivg_quantiles)\n",
    "ivg_cdf = cdf(ivg, ivg_quantiles)\n",
    "\n",
    "# Sample from the distribution (samples 1 draw from distribution unless specified)\n",
    "rand(ivg)\n",
    "rand(ivg, 10)"
   ]
  },
  {
   "cell_type": "code",
   "execution_count": 27,
   "metadata": {
    "collapsed": false
   },
   "outputs": [
    {
     "data": {
      "text/plain": [
       "4x2 Array{Float64,2}:\n",
       " 0.0   0.666667\n",
       " 1.0   0.298142\n",
       " 0.0   2.23607 \n",
       " 0.0  12.0     "
      ]
     },
     "execution_count": 27,
     "metadata": {},
     "output_type": "execute_result"
    }
   ],
   "source": [
    "[mean(nrv) mean(ivg)\n",
    " std(nrv) std(ivg)\n",
    " skewness(nrv) skewness(ivg)\n",
    " kurtosis(nrv) kurtosis(ivg)]"
   ]
  },
  {
   "cell_type": "markdown",
   "metadata": {
    "slideshow": {
     "slide_type": "slide"
    }
   },
   "source": [
    "## Interpolations.jl\n",
    "\n",
    "This package implements a variety of interpolation schemes for the Julia langauge. It has the goals of ease-of-use, broad algorithmic support, and exceptional performance.\n",
    "\n",
    "This package is still relatively new. Currently its support is best for B-splines and also supports irregular grids."
   ]
  },
  {
   "cell_type": "code",
   "execution_count": 30,
   "metadata": {
    "collapsed": false
   },
   "outputs": [],
   "source": [
    "using Interpolations"
   ]
  },
  {
   "cell_type": "markdown",
   "metadata": {},
   "source": [
    "The first thing we need to do is to create an interpolator -- By default this will be defined on [1, Npts]. We need to specify several things:\n",
    "\n",
    "* Data\n",
    "* Type of interpolation\n",
    "  - Order of interpolation\n",
    "  - Boundary Conditoins\n",
    "* Where data is located"
   ]
  },
  {
   "cell_type": "code",
   "execution_count": 61,
   "metadata": {
    "collapsed": false
   },
   "outputs": [],
   "source": [
    "lb, ub = 0.1, 10.0\n",
    "x = linspace(lb, ub, 25)\n",
    "u = log(x)\n",
    "\n",
    "# Create a BSpline using linear interpolation with data on the grid\n",
    "lin_itp = interpolate(u, BSpline(Linear()), OnGrid())\n",
    "qua_itp = interpolate(u, BSpline(Quadratic(Natural())), OnGrid());"
   ]
  },
  {
   "cell_type": "markdown",
   "metadata": {},
   "source": [
    "We can evaluate the interpolator by using \"indexing\""
   ]
  },
  {
   "cell_type": "code",
   "execution_count": 62,
   "metadata": {
    "collapsed": false
   },
   "outputs": [
    {
     "name": "stdout",
     "output_type": "stream",
     "text": [
      "Log(x) is: -2.3026\n",
      "Interpolated value at x is: -3.7733\n"
     ]
    }
   ],
   "source": [
    "println(\"Log(x) is: \", round(log(lb), 4))\n",
    "println(\"Interpolated value at x is: \", round(lin_itp[lb], 4))"
   ]
  },
  {
   "cell_type": "markdown",
   "metadata": {},
   "source": [
    "What happened??? This is on a grid point, why doesn't it match. This is what I meant when I said it would be defined by default on [1, Npts], we really need to give it the index of the point."
   ]
  },
  {
   "cell_type": "code",
   "execution_count": 63,
   "metadata": {
    "collapsed": false
   },
   "outputs": [
    {
     "name": "stdout",
     "output_type": "stream",
     "text": [
      "Log(x) is: -2.3026\n",
      "Interpolated value at x is: -2.3026\n"
     ]
    }
   ],
   "source": [
    "println(\"Log(x) is: \", round(log(x[1]), 4))\n",
    "println(\"Interpolated value at x is: \", round(lin_itp[1], 4))"
   ]
  },
  {
   "cell_type": "markdown",
   "metadata": {},
   "source": [
    "It could get annoying to always be working in indexes for us, but there is a \"scaling\" feature that allows us to move the domain to where we would like to work."
   ]
  },
  {
   "cell_type": "code",
   "execution_count": 64,
   "metadata": {
    "collapsed": false
   },
   "outputs": [],
   "source": [
    "lin_itp_s = scale(lin_itp, x)\n",
    "qua_itp_s = scale(qua_itp, x);"
   ]
  },
  {
   "cell_type": "code",
   "execution_count": 65,
   "metadata": {
    "collapsed": false
   },
   "outputs": [
    {
     "name": "stdout",
     "output_type": "stream",
     "text": [
      "Log(x) is: -2.3026\n",
      "Interpolated value at x is: -2.3026\n"
     ]
    }
   ],
   "source": [
    "println(\"Log(x) is: \", round(log(lb), 4))\n",
    "println(\"Interpolated value at x is: \", round(lin_itp_s[lb], 4))"
   ]
  },
  {
   "cell_type": "markdown",
   "metadata": {},
   "source": [
    "Extrapolation is by default set to linearly extrapolate outside of the bounds, but you can ask it to do\n",
    "\n",
    "* `Throw` : Throw an error if asked to extrapolate\n",
    "* `Flat` : Evaluate anything outside grid to the closest grid point\n",
    "* `Linear` : Linear extrapolate outside of bounds"
   ]
  },
  {
   "cell_type": "code",
   "execution_count": 67,
   "metadata": {
    "collapsed": false
   },
   "outputs": [
    {
     "name": "stdout",
     "output_type": "stream",
     "text": [
      "-2.104508665718352\n"
     ]
    },
    {
     "ename": "LoadError",
     "evalue": "LoadError: BoundsError\nwhile loading In[67], in expression starting on line 2",
     "output_type": "error",
     "traceback": [
      "LoadError: BoundsError\nwhile loading In[67], in expression starting on line 2",
      ""
     ]
    }
   ],
   "source": [
    "println(extrapolate(lin_itp_s, Interpolations.Throw())[lb + 0.05])\n",
    "println(extrapolate(lin_itp_s, Interpolations.Throw())[lb - 0.05])"
   ]
  },
  {
   "cell_type": "markdown",
   "metadata": {},
   "source": [
    "Best of all, `Interpolations.jl` is _very_ fast."
   ]
  },
  {
   "cell_type": "code",
   "execution_count": 108,
   "metadata": {
    "collapsed": false
   },
   "outputs": [
    {
     "name": "stdout",
     "output_type": "stream",
     "text": [
      "  0.204638 seconds (4.55 k allocations: 76.505 MB, 3.02% gc time)\n"
     ]
    }
   ],
   "source": [
    "n = 10_000_000\n",
    "fine_grid = linspace(lb, ub, n)\n",
    "\n",
    "function fill_values(itp::ScaledInterpolation, x::LinSpace)\n",
    "\n",
    "    # Get number of values and allocate space\n",
    "    n = length(x)\n",
    "    interp_values = Array(Float64, n)\n",
    "\n",
    "    # Fill values\n",
    "    for i=1:n\n",
    "        interp_values[i] = itp[x[i]]\n",
    "    end\n",
    "\n",
    "    return interp_values\n",
    "end\n",
    "\n",
    "@time fill_values(lin_itp_s, fine_grid);"
   ]
  },
  {
   "cell_type": "markdown",
   "metadata": {
    "slideshow": {
     "slide_type": "slide"
    }
   },
   "source": [
    "## NLsolve.jl"
   ]
  },
  {
   "cell_type": "code",
   "execution_count": 110,
   "metadata": {
    "collapsed": false
   },
   "outputs": [],
   "source": [
    "using NLsolve"
   ]
  },
  {
   "cell_type": "markdown",
   "metadata": {},
   "source": [
    "Imagine solving the following system of non-linear equations:\n",
    "\n",
    "$$\\bar{"
   ]
  },
  {
   "cell_type": "markdown",
   "metadata": {
    "slideshow": {
     "slide_type": "slide"
    }
   },
   "source": [
    "## Optim.jl"
   ]
  },
  {
   "cell_type": "code",
   "execution_count": 111,
   "metadata": {
    "collapsed": true
   },
   "outputs": [],
   "source": [
    "using Optim"
   ]
  },
  {
   "cell_type": "markdown",
   "metadata": {
    "slideshow": {
     "slide_type": "slide"
    }
   },
   "source": [
    "## QuantEcon.jl\n",
    "\n",
    "General purpose tools for "
   ]
  },
  {
   "cell_type": "code",
   "execution_count": 112,
   "metadata": {
    "collapsed": true
   },
   "outputs": [],
   "source": [
    "using QuantEcon"
   ]
  },
  {
   "cell_type": "markdown",
   "metadata": {
    "slideshow": {
     "slide_type": "slide"
    }
   },
   "source": [
    "## Motivating Example"
   ]
  },
  {
   "cell_type": "code",
   "execution_count": null,
   "metadata": {
    "collapsed": true
   },
   "outputs": [],
   "source": []
  }
 ],
 "metadata": {
  "kernelspec": {
   "display_name": "Julia 0.4.4-pre",
   "language": "julia",
   "name": "julia-0.4"
  },
  "language_info": {
   "file_extension": ".jl",
   "mimetype": "application/julia",
   "name": "julia",
   "version": "0.4.4"
  }
 },
 "nbformat": 4,
 "nbformat_minor": 0
}
