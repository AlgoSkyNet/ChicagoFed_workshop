{
 "cells": [
  {
   "cell_type": "markdown",
   "metadata": {
    "slideshow": {
     "slide_type": "slide"
    }
   },
   "source": [
    "## Workshop on Scientific Computing in Economics with Python and Julia\n",
    "\n",
    "## Monday Afternoon Session: Julia for Economists\n",
    "\n",
    "**Chase Coleman**"
   ]
  },
  {
   "cell_type": "markdown",
   "metadata": {
    "slideshow": {
     "slide_type": "subslide"
    }
   },
   "source": [
    "## What makes julia the right tool for what we do?\n",
    "\n",
    "* Fast\n",
    "* Flexible\n",
    "* Intuitive\n",
    "* Quickly growing package ecosystem (We don't want to re-invent the wheel)"
   ]
  },
  {
   "cell_type": "markdown",
   "metadata": {
    "slideshow": {
     "slide_type": "slide"
    }
   },
   "source": [
    "## Distributions.jl\n",
    "\n",
    "A Julia package for probability distributions and associated functions. Particularly, Distributions implements:\n",
    "\n",
    "* Moments (e.g mean, variance, skewness, and kurtosis), entropy, and other properties\n",
    "* Probability density/mass functions (pdf) and their logarithm (logpdf)\n",
    "* Moment generating functions and characteristic functions\n",
    "* Sampling from population or from a distribution\n",
    "* Maximum likelihood estimation\n",
    "\n",
    "In particular, it provides a very natural (and consistent!) way to work with about 70 different distributions."
   ]
  },
  {
   "cell_type": "code",
   "execution_count": 1,
   "metadata": {
    "collapsed": false
   },
   "outputs": [
    {
     "name": "stderr",
     "output_type": "stream",
     "text": [
      "INFO: Recompiling stale cache file /home/chase/.julia/lib/v0.4/PDMats.ji for module PDMats.\n",
      "INFO: Recompiling stale cache file /home/chase/.julia/lib/v0.4/Distributions.ji for module Distributions.\n",
      "INFO: Recompiling stale cache file /home/chase/.julia/lib/v0.4/ArrayViews.ji for module ArrayViews.\n",
      "INFO: Recompiling stale cache file /home/chase/.julia/lib/v0.4/StatsFuns.ji for module StatsFuns.\n",
      "INFO: Recompiling stale cache file /home/chase/.julia/lib/v0.4/StatsBase.ji for module StatsBase.\n"
     ]
    }
   ],
   "source": [
    "using Distributions"
   ]
  },
  {
   "cell_type": "markdown",
   "metadata": {},
   "source": [
    "We will create a standard normal distribution and do a variety of things with it below."
   ]
  },
  {
   "cell_type": "code",
   "execution_count": 2,
   "metadata": {
    "collapsed": false
   },
   "outputs": [
    {
     "data": {
      "text/plain": [
       "10-element Array{Float64,1}:\n",
       " -0.743253\n",
       " -0.422246\n",
       " -0.073813\n",
       " -2.16247 \n",
       "  0.981967\n",
       " -0.491459\n",
       "  0.25416 \n",
       "  0.18832 \n",
       "  0.323087\n",
       " -0.613941"
      ]
     },
     "execution_count": 2,
     "metadata": {},
     "output_type": "execute_result"
    }
   ],
   "source": [
    "# Create the standard normal distribution\n",
    "nrv = Normal(0.0, 1.0)\n",
    "\n",
    "# Get the 1st and 99th percentile\n",
    "nrv_quantiles = quantile(nrv, [0.01, 0.99])\n",
    "\n",
    "# Get the value of pdf (and cdf) of the 1st and 99th percentile\n",
    "nrv_pdf = pdf(nrv, nrv_quantiles)\n",
    "nrv_cdf = cdf(nrv, nrv_quantiles)\n",
    "\n",
    "# Sample from the distribution (samples 1 draw from distribution unless specified)\n",
    "rand(nrv)\n",
    "rand(nrv, 10)"
   ]
  },
  {
   "cell_type": "code",
   "execution_count": 3,
   "metadata": {
    "collapsed": false
   },
   "outputs": [
    {
     "data": {
      "text/plain": [
       "Distributions.Normal"
      ]
     },
     "execution_count": 3,
     "metadata": {},
     "output_type": "execute_result"
    }
   ],
   "source": [
    "typeof(nrv)"
   ]
  },
  {
   "cell_type": "markdown",
   "metadata": {},
   "source": [
    "Notice that we can use almost exactly the same code -- We only change the distribution name -- to get these same items from the inverse gamma distribution"
   ]
  },
  {
   "cell_type": "code",
   "execution_count": 4,
   "metadata": {
    "collapsed": false
   },
   "outputs": [
    {
     "data": {
      "text/plain": [
       "10-element Array{Float64,1}:\n",
       " 0.419918\n",
       " 0.779849\n",
       " 0.975664\n",
       " 1.02611 \n",
       " 0.430383\n",
       " 1.50434 \n",
       " 0.762633\n",
       " 0.470154\n",
       " 0.933289\n",
       " 0.613116"
      ]
     },
     "execution_count": 4,
     "metadata": {},
     "output_type": "execute_result"
    }
   ],
   "source": [
    "ivg = InverseGamma(7.0, 4.0)\n",
    "\n",
    "# Get the 1st and 99th percentile\n",
    "ivg_quantiles = quantile(ivg, [0.01, 0.99])\n",
    "\n",
    "# Get the value of pdf (and cdf) of the 1st and 99th percentile\n",
    "ivg_pdf = pdf(ivg, ivg_quantiles)\n",
    "ivg_cdf = cdf(ivg, ivg_quantiles)\n",
    "\n",
    "# Sample from the distribution (samples 1 draw from distribution unless specified)\n",
    "rand(ivg)\n",
    "rand(ivg, 10)"
   ]
  },
  {
   "cell_type": "code",
   "execution_count": 5,
   "metadata": {
    "collapsed": false
   },
   "outputs": [
    {
     "data": {
      "text/plain": [
       "4x2 Array{Float64,2}:\n",
       " 0.0   0.666667\n",
       " 1.0   0.298142\n",
       " 0.0   2.23607 \n",
       " 0.0  12.0     "
      ]
     },
     "execution_count": 5,
     "metadata": {},
     "output_type": "execute_result"
    }
   ],
   "source": [
    "[mean(nrv) mean(ivg)\n",
    " std(nrv) std(ivg)\n",
    " skewness(nrv) skewness(ivg)\n",
    " kurtosis(nrv) kurtosis(ivg)]"
   ]
  },
  {
   "cell_type": "markdown",
   "metadata": {
    "slideshow": {
     "slide_type": "slide"
    }
   },
   "source": [
    "## Interpolations.jl\n",
    "\n",
    "This package implements a variety of interpolation schemes for the Julia langauge. It has the goals of ease-of-use, broad algorithmic support, and exceptional performance.\n",
    "\n",
    "This package is still relatively new. Currently its support is best for B-splines and also supports irregular grids."
   ]
  },
  {
   "cell_type": "code",
   "execution_count": 6,
   "metadata": {
    "collapsed": false
   },
   "outputs": [
    {
     "name": "stderr",
     "output_type": "stream",
     "text": [
      "INFO: Recompiling stale cache file /home/chase/.julia/lib/v0.4/WoodburyMatrices.ji for module WoodburyMatrices.\n",
      "INFO: Recompiling stale cache file /home/chase/.julia/lib/v0.4/AxisAlgorithms.ji for module AxisAlgorithms.\n"
     ]
    }
   ],
   "source": [
    "using Interpolations"
   ]
  },
  {
   "cell_type": "markdown",
   "metadata": {},
   "source": [
    "The first thing we need to do is to create an interpolator -- By default this will be defined on [1, Npts]. We need to specify several things:\n",
    "\n",
    "* Data\n",
    "* Type of interpolation\n",
    "  - Order of interpolation\n",
    "  - Boundary Conditoins\n",
    "* Where data is located"
   ]
  },
  {
   "cell_type": "code",
   "execution_count": 7,
   "metadata": {
    "collapsed": false
   },
   "outputs": [],
   "source": [
    "lb, ub = 0.1, 10.0\n",
    "x = linspace(lb, ub, 25)\n",
    "u = log(x)\n",
    "\n",
    "# Create a BSpline using linear interpolation with data on the grid\n",
    "lin_itp = interpolate(u, BSpline(Linear()), OnGrid())\n",
    "qua_itp = interpolate(u, BSpline(Quadratic(Natural())), OnGrid());"
   ]
  },
  {
   "cell_type": "markdown",
   "metadata": {},
   "source": [
    "We can evaluate the interpolator by using \"indexing\""
   ]
  },
  {
   "cell_type": "code",
   "execution_count": 8,
   "metadata": {
    "collapsed": false
   },
   "outputs": [
    {
     "name": "stdout",
     "output_type": "stream",
     "text": [
      "Log(x) is: -2.3026\n",
      "Interpolated value at x is: -3.7733\n"
     ]
    }
   ],
   "source": [
    "println(\"Log(x) is: \", round(log(lb), 4))\n",
    "println(\"Interpolated value at x is: \", round(lin_itp[lb], 4))"
   ]
  },
  {
   "cell_type": "markdown",
   "metadata": {},
   "source": [
    "What happened??? This is on a grid point, why doesn't it match. This is what I meant when I said it would be defined by default on [1, Npts], we really need to give it the index of the point."
   ]
  },
  {
   "cell_type": "code",
   "execution_count": 9,
   "metadata": {
    "collapsed": false
   },
   "outputs": [
    {
     "name": "stdout",
     "output_type": "stream",
     "text": [
      "Log(x) is: -2.3026\n",
      "Interpolated value at x is: -2.3026\n"
     ]
    }
   ],
   "source": [
    "println(\"Log(x) is: \", round(log(x[1]), 4))\n",
    "println(\"Interpolated value at x is: \", round(lin_itp[1], 4))"
   ]
  },
  {
   "cell_type": "markdown",
   "metadata": {},
   "source": [
    "It could get annoying to always be working in indexes for us, but there is a \"scaling\" feature that allows us to move the domain to where we would like to work."
   ]
  },
  {
   "cell_type": "code",
   "execution_count": 10,
   "metadata": {
    "collapsed": false
   },
   "outputs": [],
   "source": [
    "lin_itp_s = scale(lin_itp, x)\n",
    "qua_itp_s = scale(qua_itp, x);"
   ]
  },
  {
   "cell_type": "code",
   "execution_count": 11,
   "metadata": {
    "collapsed": false
   },
   "outputs": [
    {
     "name": "stdout",
     "output_type": "stream",
     "text": [
      "Log(x) is: -2.3026\n",
      "Interpolated value at x is: -2.3026\n"
     ]
    }
   ],
   "source": [
    "println(\"Log(x) is: \", round(log(lb), 4))\n",
    "println(\"Interpolated value at x is: \", round(lin_itp_s[lb], 4))"
   ]
  },
  {
   "cell_type": "markdown",
   "metadata": {},
   "source": [
    "Extrapolation is by default set to linearly extrapolate outside of the bounds, but you can ask it to do\n",
    "\n",
    "* `Throw` : Throw an error if asked to extrapolate\n",
    "* `Flat` : Evaluate anything outside grid to the closest grid point\n",
    "* `Linear` : Linear extrapolate outside of bounds"
   ]
  },
  {
   "cell_type": "code",
   "execution_count": 12,
   "metadata": {
    "collapsed": false
   },
   "outputs": [
    {
     "name": "stdout",
     "output_type": "stream",
     "text": [
      "-2.104508665718352\n"
     ]
    },
    {
     "ename": "LoadError",
     "evalue": "LoadError: BoundsError\nwhile loading In[12], in expression starting on line 2",
     "output_type": "error",
     "traceback": [
      "LoadError: BoundsError\nwhile loading In[12], in expression starting on line 2",
      ""
     ]
    }
   ],
   "source": [
    "println(extrapolate(lin_itp_s, Interpolations.Throw())[lb + 0.05])\n",
    "println(extrapolate(lin_itp_s, Interpolations.Throw())[lb - 0.05])"
   ]
  },
  {
   "cell_type": "markdown",
   "metadata": {},
   "source": [
    "We can also evaluate the derivatives of our splines"
   ]
  },
  {
   "cell_type": "code",
   "execution_count": 13,
   "metadata": {
    "collapsed": false
   },
   "outputs": [
    {
     "data": {
      "text/plain": [
       "1-element Array{Float64,1}:\n",
       " 0.950788"
      ]
     },
     "execution_count": 13,
     "metadata": {},
     "output_type": "execute_result"
    }
   ],
   "source": [
    "gradient(qua_itp_s, 1.0)"
   ]
  },
  {
   "cell_type": "markdown",
   "metadata": {},
   "source": [
    "Best of all, `Interpolations.jl` is _very_ fast."
   ]
  },
  {
   "cell_type": "code",
   "execution_count": 14,
   "metadata": {
    "collapsed": false
   },
   "outputs": [
    {
     "name": "stdout",
     "output_type": "stream",
     "text": [
      "  0.238366 seconds (4.71 k allocations: 76.516 MB, 1.47% gc time)\n"
     ]
    }
   ],
   "source": [
    "n = 10_000_000\n",
    "fine_grid = linspace(lb, ub, n)\n",
    "\n",
    "function fill_values(itp::ScaledInterpolation, x::LinSpace)\n",
    "\n",
    "    # Get number of values and allocate space\n",
    "    n = length(x)\n",
    "    interp_values = Array(Float64, n)\n",
    "\n",
    "    # Fill values\n",
    "    for i=1:n\n",
    "        interp_values[i] = itp[x[i]]\n",
    "    end\n",
    "\n",
    "    return interp_values\n",
    "end\n",
    "\n",
    "@time fill_values(lin_itp_s, fine_grid);"
   ]
  },
  {
   "cell_type": "markdown",
   "metadata": {
    "slideshow": {
     "slide_type": "slide"
    }
   },
   "source": [
    "## NLsolve.jl"
   ]
  },
  {
   "cell_type": "code",
   "execution_count": 15,
   "metadata": {
    "collapsed": false
   },
   "outputs": [
    {
     "name": "stderr",
     "output_type": "stream",
     "text": [
      "INFO: Precompiling module NLsolve...\n",
      "INFO: Recompiling stale cache file /home/chase/.julia/lib/v0.4/Distances.ji for module Distances.\n",
      "INFO: Recompiling stale cache file /home/chase/.julia/lib/v0.4/Optim.ji for module Optim.\n",
      "INFO: Recompiling stale cache file /home/chase/.julia/lib/v0.4/Calculus.ji for module Calculus.\n",
      "INFO: Recompiling stale cache file /home/chase/.julia/lib/v0.4/DualNumbers.ji for module DualNumbers.\n",
      "INFO: Recompiling stale cache file /home/chase/.julia/lib/v0.4/ForwardDiff.ji for module ForwardDiff.\n"
     ]
    }
   ],
   "source": [
    "using NLsolve"
   ]
  },
  {
   "cell_type": "markdown",
   "metadata": {},
   "source": [
    "Imagine solving the following system of non-linear equations:\n"
   ]
  },
  {
   "cell_type": "markdown",
   "metadata": {
    "slideshow": {
     "slide_type": "slide"
    }
   },
   "source": [
    "## Optim.jl\n",
    "\n",
    "For many optimization problems `Optim.jl` will do very well -- However, for more complicated problems, we suggest you look into `NLopt.jl` which is based on the stable (and powerful) `NLopt` C library."
   ]
  },
  {
   "cell_type": "code",
   "execution_count": 16,
   "metadata": {
    "collapsed": true
   },
   "outputs": [],
   "source": [
    "using Optim"
   ]
  },
  {
   "cell_type": "markdown",
   "metadata": {},
   "source": [
    "Consider the following optimization problem\n",
    "\n",
    "\\begin{align*}\n",
    "  V(x) &= \\max_{c_1, c_2, c_3} v(c_1) + \\beta v(c_2) + \\beta^2 v(c_3) \\\\\n",
    "  \\text{subject to } & c_1 + c_2 + c_3 = x\n",
    "\\end{align*}\n",
    "\n",
    "We will transform this to an unconstrained problem (though this is not necessary) to simplify things. In particular, we will substitute our constraint to get\n",
    "\n",
    "$$c_3 = x - c_1 - c_2$$"
   ]
  },
  {
   "cell_type": "code",
   "execution_count": 72,
   "metadata": {
    "collapsed": false
   },
   "outputs": [
    {
     "data": {
      "text/plain": [
       "objective (generic function with 1 method)"
      ]
     },
     "execution_count": 72,
     "metadata": {},
     "output_type": "execute_result"
    }
   ],
   "source": [
    "v(c) = -exp(-c)\n",
    "vp(c) = exp(-c)\n",
    "\n",
    "function objective(β, x, cvec)\n",
    "    # Unpack input\n",
    "    c1, c2 = cvec\n",
    "    c3 = x - c1 - c2\n",
    "\n",
    "    # Evaluate objective function\n",
    "    V = v(c1) + β*v(c2) + β*β*v(c3)\n",
    "\n",
    "    return V\n",
    "end"
   ]
  },
  {
   "cell_type": "markdown",
   "metadata": {},
   "source": [
    "By default `Optim` minimizes problems; we will minimize the negative of our objective (equivalent to maximizing our original objective)"
   ]
  },
  {
   "cell_type": "code",
   "execution_count": 80,
   "metadata": {
    "collapsed": false
   },
   "outputs": [
    {
     "data": {
      "text/plain": [
       "Results of Optimization Algorithm\n",
       " * Algorithm: Nelder-Mead\n",
       " * Starting Point: [0.0,0.0]\n",
       " * Minimizer: [0.33339903759728406,0.3332619921444385]\n",
       " * Minimum: 2.149594\n",
       " * Iterations: 27\n",
       " * Convergence: true\n",
       "   * |x - x'| < NaN: false\n",
       "   * |f(x) - f(x')| / |f(x)| < 1.0e-08: true\n",
       "   * |g(x)| < NaN: false\n",
       "   * Reached Maximum Number of Iterations: false\n",
       " * Objective Function Calls: 54\n",
       " * Gradient Calls: 0"
      ]
     },
     "execution_count": 80,
     "metadata": {},
     "output_type": "execute_result"
    }
   ],
   "source": [
    "f(cvec) = -objective(1.0, 1.0, cvec)\n",
    "\n",
    "res_nd = optimize(f, [0.0, 0.0], NelderMead())"
   ]
  },
  {
   "cell_type": "code",
   "execution_count": 81,
   "metadata": {
    "collapsed": false
   },
   "outputs": [
    {
     "name": "stdout",
     "output_type": "stream",
     "text": [
      "[0.33339903759728406,0.3332619921444385]\n",
      "-2.1495939351028284\n"
     ]
    }
   ],
   "source": [
    "println(Optim.minimizer(res_nd))\n",
    "println(-Optim.minimum(res_nd))"
   ]
  },
  {
   "cell_type": "markdown",
   "metadata": {},
   "source": [
    "But we have more information, in this case we could also supply a gradient."
   ]
  },
  {
   "cell_type": "code",
   "execution_count": 82,
   "metadata": {
    "collapsed": false
   },
   "outputs": [
    {
     "data": {
      "text/plain": [
       "g! (generic function with 2 methods)"
      ]
     },
     "execution_count": 82,
     "metadata": {},
     "output_type": "execute_result"
    }
   ],
   "source": [
    "function grad!(β, x, cvec, storage::Vector)\n",
    "    # Unpack input\n",
    "    c1, c2 = cvec\n",
    "    c3 = x - c1 - c2\n",
    "\n",
    "    # Evaluate objective function\n",
    "    storage[1] = vp(c1) - β*β*vp(c3)\n",
    "    storage[2] = β*vp(c2) - β*β*vp(c3)\n",
    "end\n",
    "\n",
    "g!(cvec::Vector, storage::Vector) = -grad!(1.0, 1.0, cvec, storage)"
   ]
  },
  {
   "cell_type": "code",
   "execution_count": 84,
   "metadata": {
    "collapsed": false
   },
   "outputs": [
    {
     "data": {
      "text/plain": [
       "Results of Optimization Algorithm\n",
       " * Algorithm: BFGS\n",
       " * Starting Point: [0.0,0.0]\n",
       " * Minimizer: [0.3333333333349329,0.3333333333349329]\n",
       " * Minimum: 2.149594\n",
       " * Iterations: 4\n",
       " * Convergence: true\n",
       "   * |x - x'| < 1.0e-32: false\n",
       "   * |f(x) - f(x')| / |f(x)| < 1.0e-08: true\n",
       "   * |g(x)| < 1.0e-08: true\n",
       "   * Reached Maximum Number of Iterations: false\n",
       " * Objective Function Calls: 16\n",
       " * Gradient Calls: 16"
      ]
     },
     "execution_count": 84,
     "metadata": {},
     "output_type": "execute_result"
    }
   ],
   "source": [
    "res_d = optimize(f, [0.0, 0.0], BFGS())"
   ]
  },
  {
   "cell_type": "code",
   "execution_count": 132,
   "metadata": {
    "collapsed": false
   },
   "outputs": [
    {
     "data": {
      "text/plain": [
       "Results of Optimization Algorithm\n",
       " * Algorithm: Gradient Descent\n",
       " * Starting Point: [0.0,0.0]\n",
       " * Minimizer: [-1.872960243837471e-6,-1.872960243837471e-6, ...]\n",
       " * Minimum: 2.367882\n",
       " * Iterations: 1\n",
       " * Convergence: true\n",
       "   * |x - x'| < 1.0e-32: false\n",
       "   * |f(x) - f(x')| / |f(x)| < 1.0e-08: true\n",
       "   * |g(x)| < 1.0e-08: false\n",
       "   * Reached Maximum Number of Iterations: false\n",
       " * Objective Function Calls: 74\n",
       " * Gradient Calls: 74"
      ]
     },
     "execution_count": 132,
     "metadata": {},
     "output_type": "execute_result"
    }
   ],
   "source": [
    "options = OptimizationOptions(ftol=-1.0, grtol=1e-12)\n",
    "res_d = optimize(f, g!, [0.0, 0.0], method=GradientDescent())"
   ]
  },
  {
   "cell_type": "code",
   "execution_count": 136,
   "metadata": {
    "collapsed": false
   },
   "outputs": [
    {
     "data": {
      "text/plain": [
       "Results of Optimization Algorithm\n",
       " * Algorithm: Nelder-Mead\n",
       " * Starting Point: [0.0,0.0]\n",
       " * Minimizer: [0.33339903759728406,0.3332619921444385]\n",
       " * Minimum: 2.149594\n",
       " * Iterations: 27\n",
       " * Convergence: true\n",
       "   * |x - x'| < NaN: false\n",
       "   * |f(x) - f(x')| / |f(x)| < 1.0e-08: true\n",
       "   * |g(x)| < NaN: false\n",
       "   * Reached Maximum Number of Iterations: false\n",
       " * Objective Function Calls: 54\n",
       " * Gradient Calls: 0"
      ]
     },
     "execution_count": 136,
     "metadata": {},
     "output_type": "execute_result"
    }
   ],
   "source": [
    "fg = DifferentiableFunction(f, g!)\n",
    "res_d = optimize(fg, [0.0, 0.0], method=NelderMead())"
   ]
  },
  {
   "cell_type": "code",
   "execution_count": 129,
   "metadata": {
    "collapsed": false
   },
   "outputs": [
    {
     "data": {
      "text/plain": [
       "2-element Array{Float64,1}:\n",
       " -4.30386e-5\n",
       "  5.5159e-5 "
      ]
     },
     "execution_count": 129,
     "metadata": {},
     "output_type": "execute_result"
    }
   ],
   "source": [
    "_x = zeros(2)\n",
    "g!(Optim.minimizer(res_nd), _x)\n",
    "_x"
   ]
  },
  {
   "cell_type": "code",
   "execution_count": 130,
   "metadata": {
    "collapsed": false
   },
   "outputs": [
    {
     "name": "stdout",
     "output_type": "stream",
     "text": [
      "-5.020366344865578e-5\n",
      "4.7993475860153005e-5\n"
     ]
    }
   ],
   "source": [
    "mval = Optim.minimizer(res_nd)\n",
    "println((f(mval) - f(mval + [0.00001, 0])) / (0.00001))\n",
    "println((f(mval) - f(mval + [0, 0.00001])) / (0.00001))"
   ]
  },
  {
   "cell_type": "markdown",
   "metadata": {
    "slideshow": {
     "slide_type": "slide"
    }
   },
   "source": [
    "## QuantEcon.jl\n",
    "\n",
    "General purpose tools for "
   ]
  },
  {
   "cell_type": "code",
   "execution_count": null,
   "metadata": {
    "collapsed": true
   },
   "outputs": [],
   "source": [
    "using QuantEcon"
   ]
  },
  {
   "cell_type": "markdown",
   "metadata": {
    "slideshow": {
     "slide_type": "slide"
    }
   },
   "source": [
    "## Motivating Examples"
   ]
  },
  {
   "cell_type": "markdown",
   "metadata": {},
   "source": [
    "### Arellano Model of Sovereign Default\n",
    "\n",
    "[Notebook link](arellano.ipynb)"
   ]
  },
  {
   "cell_type": "markdown",
   "metadata": {},
   "source": [
    "### Estimating Markov Chain using GMM and SMM\n",
    "\n",
    "[Notebook link](markov_chain_estimation.ipynb)"
   ]
  },
  {
   "cell_type": "code",
   "execution_count": null,
   "metadata": {
    "collapsed": true
   },
   "outputs": [],
   "source": []
  }
 ],
 "metadata": {
  "kernelspec": {
   "display_name": "Julia 0.4.1",
   "language": "julia",
   "name": "julia-0.4"
  },
  "language_info": {
   "file_extension": ".jl",
   "mimetype": "application/julia",
   "name": "julia",
   "version": "0.4.1"
  }
 },
 "nbformat": 4,
 "nbformat_minor": 0
}
